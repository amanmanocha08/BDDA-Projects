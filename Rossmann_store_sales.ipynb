{
  "nbformat": 4,
  "nbformat_minor": 0,
  "metadata": {
    "kernelspec": {
      "language": "python",
      "display_name": "Python 3",
      "name": "python3"
    },
    "language_info": {
      "name": "python",
      "version": "3.7.9",
      "mimetype": "text/x-python",
      "codemirror_mode": {
        "name": "ipython",
        "version": 3
      },
      "pygments_lexer": "ipython3",
      "nbconvert_exporter": "python",
      "file_extension": ".py"
    },
    "colab": {
      "name": "Rossmann_store_sales.ipynb",
      "provenance": []
    }
  },
  "cells": [
    {
      "cell_type": "markdown",
      "metadata": {
        "id": "KerXSqeZ7qcX"
      },
      "source": [
        "# Rossmann Store Sales\n",
        "\n",
        "Forecast sales using store, promotion, and competitor data"
      ]
    },
    {
      "cell_type": "markdown",
      "metadata": {
        "id": "vTMeqTUJL9Bm"
      },
      "source": [
        "Rossmann operates over 3,000 drug stores in 7 European countries. Currently, Rossmann store managers are tasked with predicting their daily sales for up to six weeks in advance. Store sales are influenced by many factors, including promotions, competition, school and state holidays, seasonality, and locality. With thousands of individual managers predicting sales based on their unique circumstances, the accuracy of results can be quite varied."
      ]
    },
    {
      "cell_type": "markdown",
      "metadata": {
        "id": "hrPNLdJhMABU"
      },
      "source": [
        "Most of the fields are self-explanatory. The following are descriptions for those that aren't.\n",
        "\n",
        "-**Id** - an Id that represents a (Store, Date) duple within the test set\n",
        "\n",
        "-**Store** - a unique Id for each store\n",
        "\n",
        "-**Sales** - the turnover for any given day (this is what you are predicting)\n",
        "\n",
        "-**Customers** - the number of customers on a given day\n",
        "\n",
        "-**Open** - an indicator for whether the store was open: 0 = closed, 1 = open\n",
        "\n",
        "-**StateHoliday** - indicates a state holiday. Normally all stores, with few exceptions, are closed on state holidays. Note that all schools are closed on public holidays and weekends. a = public holiday, b = Easter holiday, c = Christmas, 0 = None\n",
        "\n",
        "-**SchoolHoliday** - indicates if the (Store, Date) was affected by the closure of public schools\n",
        "\n",
        "\n",
        "-**StoreType** - differentiates between 4 different store models: a, b, c, d\n",
        "\n",
        "-**Assortment** - describes an assortment level: a = basic, b = extra, c = extended\n",
        "\n",
        "-**CompetitionDistance** - distance in meters to the nearest competitor store\n",
        "\n",
        "-**CompetitionOpenSince[Month/Year]** - gives the approximate year and month of the time the nearest competitor was opened\n",
        "\n",
        "-**Promo** - indicates whether a store is running a promo on that day\n",
        "\n",
        "-**Promo2** - Promo2 is a continuing and consecutive promotion for some stores: 0 = store is not participating, 1 = store is participating\n",
        "\n",
        "-**Promo2Since[Year/Week]** - describes the year and calendar week when the store started participating in Promo2\n",
        "\n",
        "-**PromoInterval -** describes the consecutive intervals Promo2 is started, naming the months the promotion is started anew. E.g. \"Feb,May,Aug,Nov\" means each round starts in February, May, August, November of any given year for that store"
      ]
    },
    {
      "cell_type": "markdown",
      "metadata": {
        "id": "K-njv2fJMEtt"
      },
      "source": [
        ""
      ]
    },
    {
      "cell_type": "code",
      "metadata": {
        "_uuid": "8f2839f25d086af736a60e9eeb907d3b93b6e0e5",
        "_cell_guid": "b1076dfc-b9ad-4769-8c92-a6c4dae69d19",
        "execution": {
          "iopub.status.busy": "2021-08-30T21:14:17.564204Z",
          "iopub.execute_input": "2021-08-30T21:14:17.564699Z",
          "iopub.status.idle": "2021-08-30T21:14:18.474053Z",
          "shell.execute_reply.started": "2021-08-30T21:14:17.564590Z",
          "shell.execute_reply": "2021-08-30T21:14:18.473238Z"
        },
        "trusted": true,
        "id": "qe4upE-b7qca"
      },
      "source": [
        "import numpy as np\n",
        "import pandas as pd\n",
        "from datetime import datetime\n",
        "import matplotlib.pyplot as plt\n",
        "%matplotlib inline\n",
        "import seaborn as sns\n",
        "from scipy import stats\n",
        "import itertools\n",
        "import xgboost as xgb\n"
      ],
      "execution_count": 2,
      "outputs": []
    },
    {
      "cell_type": "code",
      "metadata": {
        "id": "-RJZRwT3MY2s"
      },
      "source": [
        "# Display multiple commands output from a cell\n",
        "from IPython.core.interactiveshell import InteractiveShell\n",
        "InteractiveShell.ast_node_interactivity = \"all\""
      ],
      "execution_count": 3,
      "outputs": []
    },
    {
      "cell_type": "code",
      "metadata": {
        "execution": {
          "iopub.status.busy": "2021-08-30T21:14:18.476789Z",
          "iopub.execute_input": "2021-08-30T21:14:18.477248Z",
          "iopub.status.idle": "2021-08-30T21:14:18.482259Z",
          "shell.execute_reply.started": "2021-08-30T21:14:18.477183Z",
          "shell.execute_reply": "2021-08-30T21:14:18.480957Z"
        },
        "trusted": true,
        "id": "iCRKa7B07qcb"
      },
      "source": [
        "def str_to_date(date):\n",
        "    return datetime.strptime(date, '%Y-%m-%d').date()"
      ],
      "execution_count": 4,
      "outputs": []
    },
    {
      "cell_type": "code",
      "metadata": {
        "id": "OFoexEoQtpX3",
        "colab": {
          "resources": {
            "http://localhost:8080/nbextensions/google.colab/files.js": {
              "data": "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",
              "ok": true,
              "headers": [
                [
                  "content-type",
                  "application/javascript"
                ]
              ],
              "status": 200,
              "status_text": ""
            }
          },
          "base_uri": "https://localhost:8080/",
          "height": 174
        },
        "outputId": "9dc8a4d5-c256-41a1-cf0b-b4739065261b"
      },
      "source": [
        "from google.colab import files\n",
        "uploaded = files.upload()\n"
      ],
      "execution_count": 1,
      "outputs": [
        {
          "output_type": "display_data",
          "data": {
            "text/html": [
              "\n",
              "     <input type=\"file\" id=\"files-22ecde85-2175-4015-bd15-a9f94758ae2a\" name=\"files[]\" multiple disabled\n",
              "        style=\"border:none\" />\n",
              "     <output id=\"result-22ecde85-2175-4015-bd15-a9f94758ae2a\">\n",
              "      Upload widget is only available when the cell has been executed in the\n",
              "      current browser session. Please rerun this cell to enable.\n",
              "      </output>\n",
              "      <script src=\"/nbextensions/google.colab/files.js\"></script> "
            ],
            "text/plain": [
              "<IPython.core.display.HTML object>"
            ]
          },
          "metadata": {}
        },
        {
          "output_type": "stream",
          "name": "stdout",
          "text": [
            "Saving sample_submission.csv to sample_submission.csv\n",
            "Saving store.csv to store.csv\n",
            "Saving test.csv to test.csv\n",
            "Saving train.csv to train.csv\n"
          ]
        }
      ]
    },
    {
      "cell_type": "code",
      "metadata": {
        "id": "8zo-B0Q8tpbn"
      },
      "source": [
        ""
      ],
      "execution_count": null,
      "outputs": []
    },
    {
      "cell_type": "markdown",
      "metadata": {
        "id": "xwWrrgvt7qcc"
      },
      "source": [
        "## Data preparation"
      ]
    },
    {
      "cell_type": "code",
      "metadata": {
        "execution": {
          "iopub.status.busy": "2021-08-30T21:14:18.498247Z",
          "iopub.execute_input": "2021-08-30T21:14:18.498562Z",
          "iopub.status.idle": "2021-08-30T21:14:32.880167Z",
          "shell.execute_reply.started": "2021-08-30T21:14:18.498532Z",
          "shell.execute_reply": "2021-08-30T21:14:32.879332Z"
        },
        "trusted": true,
        "id": "u_TqhPqr7qcc"
      },
      "source": [
        "df_train = pd.read_csv('train.csv',\n",
        "                       sep=',',\n",
        "                       parse_dates=['Date'],\n",
        "                       date_parser=str_to_date,\n",
        "                       low_memory=False\n",
        ")"
      ],
      "execution_count": 5,
      "outputs": []
    },
    {
      "cell_type": "code",
      "metadata": {
        "execution": {
          "iopub.status.busy": "2021-08-30T21:14:32.883998Z",
          "iopub.execute_input": "2021-08-30T21:14:32.884703Z",
          "iopub.status.idle": "2021-08-30T21:14:32.905928Z",
          "shell.execute_reply.started": "2021-08-30T21:14:32.884651Z",
          "shell.execute_reply": "2021-08-30T21:14:32.904868Z"
        },
        "trusted": true,
        "id": "5cwKaICO7qcd"
      },
      "source": [
        "df_store = pd.read_csv('store.csv',\n",
        "                       low_memory=False\n",
        ")"
      ],
      "execution_count": 6,
      "outputs": []
    },
    {
      "cell_type": "code",
      "metadata": {
        "colab": {
          "base_uri": "https://localhost:8080/"
        },
        "id": "LrsZM2oeMwDO",
        "outputId": "94813a80-410b-40ab-b35a-f2664c10712f"
      },
      "source": [
        "df_store.dtypes"
      ],
      "execution_count": 7,
      "outputs": [
        {
          "output_type": "execute_result",
          "data": {
            "text/plain": [
              "Store                          int64\n",
              "StoreType                     object\n",
              "Assortment                    object\n",
              "CompetitionDistance          float64\n",
              "CompetitionOpenSinceMonth    float64\n",
              "CompetitionOpenSinceYear     float64\n",
              "Promo2                         int64\n",
              "Promo2SinceWeek              float64\n",
              "Promo2SinceYear              float64\n",
              "PromoInterval                 object\n",
              "dtype: object"
            ]
          },
          "metadata": {},
          "execution_count": 7
        }
      ]
    },
    {
      "cell_type": "code",
      "metadata": {
        "colab": {
          "base_uri": "https://localhost:8080/"
        },
        "id": "bnap5DatMybD",
        "outputId": "a6d2929e-5f1f-408f-c575-30997b21660e"
      },
      "source": [
        "df_store.shape"
      ],
      "execution_count": 8,
      "outputs": [
        {
          "output_type": "execute_result",
          "data": {
            "text/plain": [
              "(1115, 10)"
            ]
          },
          "metadata": {},
          "execution_count": 8
        }
      ]
    },
    {
      "cell_type": "code",
      "metadata": {
        "colab": {
          "base_uri": "https://localhost:8080/"
        },
        "id": "a_hrYBlDM7lf",
        "outputId": "0c3118a2-bf6a-4154-a571-695319035e6d"
      },
      "source": [
        "print()\n",
        "df_store.nunique()        # Total no of unique values in each column"
      ],
      "execution_count": 9,
      "outputs": [
        {
          "output_type": "stream",
          "name": "stdout",
          "text": [
            "\n"
          ]
        },
        {
          "output_type": "execute_result",
          "data": {
            "text/plain": [
              "Store                        1115\n",
              "StoreType                       4\n",
              "Assortment                      3\n",
              "CompetitionDistance           654\n",
              "CompetitionOpenSinceMonth      12\n",
              "CompetitionOpenSinceYear       23\n",
              "Promo2                          2\n",
              "Promo2SinceWeek                24\n",
              "Promo2SinceYear                 7\n",
              "PromoInterval                   3\n",
              "dtype: int64"
            ]
          },
          "metadata": {},
          "execution_count": 9
        }
      ]
    },
    {
      "cell_type": "code",
      "metadata": {
        "colab": {
          "base_uri": "https://localhost:8080/",
          "height": 295
        },
        "id": "2A7BWEB2M_yL",
        "outputId": "f7183ac6-d1a9-4915-ea80-1ce479337287"
      },
      "source": [
        "df_store.describe()"
      ],
      "execution_count": 10,
      "outputs": [
        {
          "output_type": "execute_result",
          "data": {
            "text/html": [
              "<div>\n",
              "<style scoped>\n",
              "    .dataframe tbody tr th:only-of-type {\n",
              "        vertical-align: middle;\n",
              "    }\n",
              "\n",
              "    .dataframe tbody tr th {\n",
              "        vertical-align: top;\n",
              "    }\n",
              "\n",
              "    .dataframe thead th {\n",
              "        text-align: right;\n",
              "    }\n",
              "</style>\n",
              "<table border=\"1\" class=\"dataframe\">\n",
              "  <thead>\n",
              "    <tr style=\"text-align: right;\">\n",
              "      <th></th>\n",
              "      <th>Store</th>\n",
              "      <th>CompetitionDistance</th>\n",
              "      <th>CompetitionOpenSinceMonth</th>\n",
              "      <th>CompetitionOpenSinceYear</th>\n",
              "      <th>Promo2</th>\n",
              "      <th>Promo2SinceWeek</th>\n",
              "      <th>Promo2SinceYear</th>\n",
              "    </tr>\n",
              "  </thead>\n",
              "  <tbody>\n",
              "    <tr>\n",
              "      <th>count</th>\n",
              "      <td>1115.00000</td>\n",
              "      <td>1112.000000</td>\n",
              "      <td>761.000000</td>\n",
              "      <td>761.000000</td>\n",
              "      <td>1115.000000</td>\n",
              "      <td>571.000000</td>\n",
              "      <td>571.000000</td>\n",
              "    </tr>\n",
              "    <tr>\n",
              "      <th>mean</th>\n",
              "      <td>558.00000</td>\n",
              "      <td>5404.901079</td>\n",
              "      <td>7.224704</td>\n",
              "      <td>2008.668857</td>\n",
              "      <td>0.512108</td>\n",
              "      <td>23.595447</td>\n",
              "      <td>2011.763573</td>\n",
              "    </tr>\n",
              "    <tr>\n",
              "      <th>std</th>\n",
              "      <td>322.01708</td>\n",
              "      <td>7663.174720</td>\n",
              "      <td>3.212348</td>\n",
              "      <td>6.195983</td>\n",
              "      <td>0.500078</td>\n",
              "      <td>14.141984</td>\n",
              "      <td>1.674935</td>\n",
              "    </tr>\n",
              "    <tr>\n",
              "      <th>min</th>\n",
              "      <td>1.00000</td>\n",
              "      <td>20.000000</td>\n",
              "      <td>1.000000</td>\n",
              "      <td>1900.000000</td>\n",
              "      <td>0.000000</td>\n",
              "      <td>1.000000</td>\n",
              "      <td>2009.000000</td>\n",
              "    </tr>\n",
              "    <tr>\n",
              "      <th>25%</th>\n",
              "      <td>279.50000</td>\n",
              "      <td>717.500000</td>\n",
              "      <td>4.000000</td>\n",
              "      <td>2006.000000</td>\n",
              "      <td>0.000000</td>\n",
              "      <td>13.000000</td>\n",
              "      <td>2011.000000</td>\n",
              "    </tr>\n",
              "    <tr>\n",
              "      <th>50%</th>\n",
              "      <td>558.00000</td>\n",
              "      <td>2325.000000</td>\n",
              "      <td>8.000000</td>\n",
              "      <td>2010.000000</td>\n",
              "      <td>1.000000</td>\n",
              "      <td>22.000000</td>\n",
              "      <td>2012.000000</td>\n",
              "    </tr>\n",
              "    <tr>\n",
              "      <th>75%</th>\n",
              "      <td>836.50000</td>\n",
              "      <td>6882.500000</td>\n",
              "      <td>10.000000</td>\n",
              "      <td>2013.000000</td>\n",
              "      <td>1.000000</td>\n",
              "      <td>37.000000</td>\n",
              "      <td>2013.000000</td>\n",
              "    </tr>\n",
              "    <tr>\n",
              "      <th>max</th>\n",
              "      <td>1115.00000</td>\n",
              "      <td>75860.000000</td>\n",
              "      <td>12.000000</td>\n",
              "      <td>2015.000000</td>\n",
              "      <td>1.000000</td>\n",
              "      <td>50.000000</td>\n",
              "      <td>2015.000000</td>\n",
              "    </tr>\n",
              "  </tbody>\n",
              "</table>\n",
              "</div>"
            ],
            "text/plain": [
              "            Store  CompetitionDistance  ...  Promo2SinceWeek  Promo2SinceYear\n",
              "count  1115.00000          1112.000000  ...       571.000000       571.000000\n",
              "mean    558.00000          5404.901079  ...        23.595447      2011.763573\n",
              "std     322.01708          7663.174720  ...        14.141984         1.674935\n",
              "min       1.00000            20.000000  ...         1.000000      2009.000000\n",
              "25%     279.50000           717.500000  ...        13.000000      2011.000000\n",
              "50%     558.00000          2325.000000  ...        22.000000      2012.000000\n",
              "75%     836.50000          6882.500000  ...        37.000000      2013.000000\n",
              "max    1115.00000         75860.000000  ...        50.000000      2015.000000\n",
              "\n",
              "[8 rows x 7 columns]"
            ]
          },
          "metadata": {},
          "execution_count": 10
        }
      ]
    },
    {
      "cell_type": "code",
      "metadata": {
        "colab": {
          "base_uri": "https://localhost:8080/"
        },
        "id": "Spd6Du0-NDco",
        "outputId": "a0122ddc-96a7-4f3a-c320-594c02fb71b5"
      },
      "source": [
        "df_store.info()"
      ],
      "execution_count": 11,
      "outputs": [
        {
          "output_type": "stream",
          "name": "stdout",
          "text": [
            "<class 'pandas.core.frame.DataFrame'>\n",
            "RangeIndex: 1115 entries, 0 to 1114\n",
            "Data columns (total 10 columns):\n",
            " #   Column                     Non-Null Count  Dtype  \n",
            "---  ------                     --------------  -----  \n",
            " 0   Store                      1115 non-null   int64  \n",
            " 1   StoreType                  1115 non-null   object \n",
            " 2   Assortment                 1115 non-null   object \n",
            " 3   CompetitionDistance        1112 non-null   float64\n",
            " 4   CompetitionOpenSinceMonth  761 non-null    float64\n",
            " 5   CompetitionOpenSinceYear   761 non-null    float64\n",
            " 6   Promo2                     1115 non-null   int64  \n",
            " 7   Promo2SinceWeek            571 non-null    float64\n",
            " 8   Promo2SinceYear            571 non-null    float64\n",
            " 9   PromoInterval              571 non-null    object \n",
            "dtypes: float64(5), int64(2), object(3)\n",
            "memory usage: 87.2+ KB\n"
          ]
        }
      ]
    },
    {
      "cell_type": "code",
      "metadata": {
        "colab": {
          "base_uri": "https://localhost:8080/",
          "height": 203
        },
        "id": "zGK5udL5NS4K",
        "outputId": "91d85b3d-363b-4008-8d48-d54bbae16cfb"
      },
      "source": [
        "df_train.head()"
      ],
      "execution_count": 12,
      "outputs": [
        {
          "output_type": "execute_result",
          "data": {
            "text/html": [
              "<div>\n",
              "<style scoped>\n",
              "    .dataframe tbody tr th:only-of-type {\n",
              "        vertical-align: middle;\n",
              "    }\n",
              "\n",
              "    .dataframe tbody tr th {\n",
              "        vertical-align: top;\n",
              "    }\n",
              "\n",
              "    .dataframe thead th {\n",
              "        text-align: right;\n",
              "    }\n",
              "</style>\n",
              "<table border=\"1\" class=\"dataframe\">\n",
              "  <thead>\n",
              "    <tr style=\"text-align: right;\">\n",
              "      <th></th>\n",
              "      <th>Store</th>\n",
              "      <th>DayOfWeek</th>\n",
              "      <th>Date</th>\n",
              "      <th>Sales</th>\n",
              "      <th>Customers</th>\n",
              "      <th>Open</th>\n",
              "      <th>Promo</th>\n",
              "      <th>StateHoliday</th>\n",
              "      <th>SchoolHoliday</th>\n",
              "    </tr>\n",
              "  </thead>\n",
              "  <tbody>\n",
              "    <tr>\n",
              "      <th>0</th>\n",
              "      <td>1</td>\n",
              "      <td>5</td>\n",
              "      <td>2015-07-31</td>\n",
              "      <td>5263</td>\n",
              "      <td>555</td>\n",
              "      <td>1</td>\n",
              "      <td>1</td>\n",
              "      <td>0</td>\n",
              "      <td>1</td>\n",
              "    </tr>\n",
              "    <tr>\n",
              "      <th>1</th>\n",
              "      <td>2</td>\n",
              "      <td>5</td>\n",
              "      <td>2015-07-31</td>\n",
              "      <td>6064</td>\n",
              "      <td>625</td>\n",
              "      <td>1</td>\n",
              "      <td>1</td>\n",
              "      <td>0</td>\n",
              "      <td>1</td>\n",
              "    </tr>\n",
              "    <tr>\n",
              "      <th>2</th>\n",
              "      <td>3</td>\n",
              "      <td>5</td>\n",
              "      <td>2015-07-31</td>\n",
              "      <td>8314</td>\n",
              "      <td>821</td>\n",
              "      <td>1</td>\n",
              "      <td>1</td>\n",
              "      <td>0</td>\n",
              "      <td>1</td>\n",
              "    </tr>\n",
              "    <tr>\n",
              "      <th>3</th>\n",
              "      <td>4</td>\n",
              "      <td>5</td>\n",
              "      <td>2015-07-31</td>\n",
              "      <td>13995</td>\n",
              "      <td>1498</td>\n",
              "      <td>1</td>\n",
              "      <td>1</td>\n",
              "      <td>0</td>\n",
              "      <td>1</td>\n",
              "    </tr>\n",
              "    <tr>\n",
              "      <th>4</th>\n",
              "      <td>5</td>\n",
              "      <td>5</td>\n",
              "      <td>2015-07-31</td>\n",
              "      <td>4822</td>\n",
              "      <td>559</td>\n",
              "      <td>1</td>\n",
              "      <td>1</td>\n",
              "      <td>0</td>\n",
              "      <td>1</td>\n",
              "    </tr>\n",
              "  </tbody>\n",
              "</table>\n",
              "</div>"
            ],
            "text/plain": [
              "   Store  DayOfWeek       Date  Sales  ...  Open  Promo  StateHoliday SchoolHoliday\n",
              "0      1          5 2015-07-31   5263  ...     1      1             0             1\n",
              "1      2          5 2015-07-31   6064  ...     1      1             0             1\n",
              "2      3          5 2015-07-31   8314  ...     1      1             0             1\n",
              "3      4          5 2015-07-31  13995  ...     1      1             0             1\n",
              "4      5          5 2015-07-31   4822  ...     1      1             0             1\n",
              "\n",
              "[5 rows x 9 columns]"
            ]
          },
          "metadata": {},
          "execution_count": 12
        }
      ]
    },
    {
      "cell_type": "code",
      "metadata": {
        "colab": {
          "base_uri": "https://localhost:8080/"
        },
        "id": "AOI388J2Nijq",
        "outputId": "47726a84-8516-427f-81b0-67916d94a2fe"
      },
      "source": [
        "df_train.dtypes"
      ],
      "execution_count": 13,
      "outputs": [
        {
          "output_type": "execute_result",
          "data": {
            "text/plain": [
              "Store                     int64\n",
              "DayOfWeek                 int64\n",
              "Date             datetime64[ns]\n",
              "Sales                     int64\n",
              "Customers                 int64\n",
              "Open                      int64\n",
              "Promo                     int64\n",
              "StateHoliday             object\n",
              "SchoolHoliday             int64\n",
              "dtype: object"
            ]
          },
          "metadata": {},
          "execution_count": 13
        }
      ]
    },
    {
      "cell_type": "code",
      "metadata": {
        "colab": {
          "base_uri": "https://localhost:8080/"
        },
        "id": "g-lhf-aeNl8k",
        "outputId": "6b1539db-ed06-4236-a111-b20b6fb5d58c"
      },
      "source": [
        "\n",
        "df_train.shape"
      ],
      "execution_count": 14,
      "outputs": [
        {
          "output_type": "execute_result",
          "data": {
            "text/plain": [
              "(1017209, 9)"
            ]
          },
          "metadata": {},
          "execution_count": 14
        }
      ]
    },
    {
      "cell_type": "code",
      "metadata": {
        "colab": {
          "base_uri": "https://localhost:8080/",
          "height": 295
        },
        "id": "cWvgkmX9Nplu",
        "outputId": "5a5d4570-697d-488c-cdd9-4f0f91ad3a50"
      },
      "source": [
        "df_train.describe()"
      ],
      "execution_count": 15,
      "outputs": [
        {
          "output_type": "execute_result",
          "data": {
            "text/html": [
              "<div>\n",
              "<style scoped>\n",
              "    .dataframe tbody tr th:only-of-type {\n",
              "        vertical-align: middle;\n",
              "    }\n",
              "\n",
              "    .dataframe tbody tr th {\n",
              "        vertical-align: top;\n",
              "    }\n",
              "\n",
              "    .dataframe thead th {\n",
              "        text-align: right;\n",
              "    }\n",
              "</style>\n",
              "<table border=\"1\" class=\"dataframe\">\n",
              "  <thead>\n",
              "    <tr style=\"text-align: right;\">\n",
              "      <th></th>\n",
              "      <th>Store</th>\n",
              "      <th>DayOfWeek</th>\n",
              "      <th>Sales</th>\n",
              "      <th>Customers</th>\n",
              "      <th>Open</th>\n",
              "      <th>Promo</th>\n",
              "      <th>SchoolHoliday</th>\n",
              "    </tr>\n",
              "  </thead>\n",
              "  <tbody>\n",
              "    <tr>\n",
              "      <th>count</th>\n",
              "      <td>1.017209e+06</td>\n",
              "      <td>1.017209e+06</td>\n",
              "      <td>1.017209e+06</td>\n",
              "      <td>1.017209e+06</td>\n",
              "      <td>1.017209e+06</td>\n",
              "      <td>1.017209e+06</td>\n",
              "      <td>1.017209e+06</td>\n",
              "    </tr>\n",
              "    <tr>\n",
              "      <th>mean</th>\n",
              "      <td>5.584297e+02</td>\n",
              "      <td>3.998341e+00</td>\n",
              "      <td>5.773819e+03</td>\n",
              "      <td>6.331459e+02</td>\n",
              "      <td>8.301067e-01</td>\n",
              "      <td>3.815145e-01</td>\n",
              "      <td>1.786467e-01</td>\n",
              "    </tr>\n",
              "    <tr>\n",
              "      <th>std</th>\n",
              "      <td>3.219087e+02</td>\n",
              "      <td>1.997391e+00</td>\n",
              "      <td>3.849926e+03</td>\n",
              "      <td>4.644117e+02</td>\n",
              "      <td>3.755392e-01</td>\n",
              "      <td>4.857586e-01</td>\n",
              "      <td>3.830564e-01</td>\n",
              "    </tr>\n",
              "    <tr>\n",
              "      <th>min</th>\n",
              "      <td>1.000000e+00</td>\n",
              "      <td>1.000000e+00</td>\n",
              "      <td>0.000000e+00</td>\n",
              "      <td>0.000000e+00</td>\n",
              "      <td>0.000000e+00</td>\n",
              "      <td>0.000000e+00</td>\n",
              "      <td>0.000000e+00</td>\n",
              "    </tr>\n",
              "    <tr>\n",
              "      <th>25%</th>\n",
              "      <td>2.800000e+02</td>\n",
              "      <td>2.000000e+00</td>\n",
              "      <td>3.727000e+03</td>\n",
              "      <td>4.050000e+02</td>\n",
              "      <td>1.000000e+00</td>\n",
              "      <td>0.000000e+00</td>\n",
              "      <td>0.000000e+00</td>\n",
              "    </tr>\n",
              "    <tr>\n",
              "      <th>50%</th>\n",
              "      <td>5.580000e+02</td>\n",
              "      <td>4.000000e+00</td>\n",
              "      <td>5.744000e+03</td>\n",
              "      <td>6.090000e+02</td>\n",
              "      <td>1.000000e+00</td>\n",
              "      <td>0.000000e+00</td>\n",
              "      <td>0.000000e+00</td>\n",
              "    </tr>\n",
              "    <tr>\n",
              "      <th>75%</th>\n",
              "      <td>8.380000e+02</td>\n",
              "      <td>6.000000e+00</td>\n",
              "      <td>7.856000e+03</td>\n",
              "      <td>8.370000e+02</td>\n",
              "      <td>1.000000e+00</td>\n",
              "      <td>1.000000e+00</td>\n",
              "      <td>0.000000e+00</td>\n",
              "    </tr>\n",
              "    <tr>\n",
              "      <th>max</th>\n",
              "      <td>1.115000e+03</td>\n",
              "      <td>7.000000e+00</td>\n",
              "      <td>4.155100e+04</td>\n",
              "      <td>7.388000e+03</td>\n",
              "      <td>1.000000e+00</td>\n",
              "      <td>1.000000e+00</td>\n",
              "      <td>1.000000e+00</td>\n",
              "    </tr>\n",
              "  </tbody>\n",
              "</table>\n",
              "</div>"
            ],
            "text/plain": [
              "              Store     DayOfWeek  ...         Promo  SchoolHoliday\n",
              "count  1.017209e+06  1.017209e+06  ...  1.017209e+06   1.017209e+06\n",
              "mean   5.584297e+02  3.998341e+00  ...  3.815145e-01   1.786467e-01\n",
              "std    3.219087e+02  1.997391e+00  ...  4.857586e-01   3.830564e-01\n",
              "min    1.000000e+00  1.000000e+00  ...  0.000000e+00   0.000000e+00\n",
              "25%    2.800000e+02  2.000000e+00  ...  0.000000e+00   0.000000e+00\n",
              "50%    5.580000e+02  4.000000e+00  ...  0.000000e+00   0.000000e+00\n",
              "75%    8.380000e+02  6.000000e+00  ...  1.000000e+00   0.000000e+00\n",
              "max    1.115000e+03  7.000000e+00  ...  1.000000e+00   1.000000e+00\n",
              "\n",
              "[8 rows x 7 columns]"
            ]
          },
          "metadata": {},
          "execution_count": 15
        }
      ]
    },
    {
      "cell_type": "code",
      "metadata": {
        "colab": {
          "base_uri": "https://localhost:8080/"
        },
        "id": "3hPFP5S5NtKY",
        "outputId": "b935cb32-e47e-4f8c-d76c-8470027951f8"
      },
      "source": [
        "df_train.info()"
      ],
      "execution_count": 16,
      "outputs": [
        {
          "output_type": "stream",
          "name": "stdout",
          "text": [
            "<class 'pandas.core.frame.DataFrame'>\n",
            "RangeIndex: 1017209 entries, 0 to 1017208\n",
            "Data columns (total 9 columns):\n",
            " #   Column         Non-Null Count    Dtype         \n",
            "---  ------         --------------    -----         \n",
            " 0   Store          1017209 non-null  int64         \n",
            " 1   DayOfWeek      1017209 non-null  int64         \n",
            " 2   Date           1017209 non-null  datetime64[ns]\n",
            " 3   Sales          1017209 non-null  int64         \n",
            " 4   Customers      1017209 non-null  int64         \n",
            " 5   Open           1017209 non-null  int64         \n",
            " 6   Promo          1017209 non-null  int64         \n",
            " 7   StateHoliday   1017209 non-null  object        \n",
            " 8   SchoolHoliday  1017209 non-null  int64         \n",
            "dtypes: datetime64[ns](1), int64(7), object(1)\n",
            "memory usage: 69.8+ MB\n"
          ]
        }
      ]
    },
    {
      "cell_type": "code",
      "metadata": {
        "execution": {
          "iopub.status.busy": "2021-08-30T21:14:32.909413Z",
          "iopub.execute_input": "2021-08-30T21:14:32.909739Z",
          "iopub.status.idle": "2021-08-30T21:14:33.217855Z",
          "shell.execute_reply.started": "2021-08-30T21:14:32.909711Z",
          "shell.execute_reply": "2021-08-30T21:14:33.216920Z"
        },
        "trusted": true,
        "id": "TQPf6Phq7qcd"
      },
      "source": [
        "# Drop closed stores and stores with zero sales\n",
        "df_train = df_train.drop(df_train[(df_train.Open == 0) & (df_train.Sales == 0)].index)\n",
        "df_train = df_train.drop(df_train[(df_train.Open == 1) & (df_train.Sales == 0)].index)\n",
        "df_train = df_train.reset_index(drop=True)"
      ],
      "execution_count": 17,
      "outputs": []
    },
    {
      "cell_type": "markdown",
      "metadata": {
        "id": "NYKrFShB7qce"
      },
      "source": [
        "The feature Date was decomposed into Year, Month, Day and deleted from dataset;"
      ]
    },
    {
      "cell_type": "code",
      "metadata": {
        "execution": {
          "iopub.status.busy": "2021-08-30T21:14:33.219349Z",
          "iopub.execute_input": "2021-08-30T21:14:33.219636Z",
          "iopub.status.idle": "2021-08-30T21:14:33.460248Z",
          "shell.execute_reply.started": "2021-08-30T21:14:33.219609Z",
          "shell.execute_reply": "2021-08-30T21:14:33.459131Z"
        },
        "trusted": true,
        "id": "i14ywpir7qce"
      },
      "source": [
        "df_train['Day'] = df_train['Date'].dt.day\n",
        "df_train['Month'] = df_train['Date'].dt.month\n",
        "df_train['Year'] = df_train['Date'].dt.year\n",
        "\n",
        "del df_train['Date']"
      ],
      "execution_count": 18,
      "outputs": []
    },
    {
      "cell_type": "code",
      "metadata": {
        "colab": {
          "base_uri": "https://localhost:8080/"
        },
        "id": "X4G4ef6NNEPi",
        "outputId": "d54751af-f6de-4aa5-bb30-424a014dbea6"
      },
      "source": [
        "df_store.isnull().values.any()"
      ],
      "execution_count": 19,
      "outputs": [
        {
          "output_type": "execute_result",
          "data": {
            "text/plain": [
              "True"
            ]
          },
          "metadata": {},
          "execution_count": 19
        }
      ]
    },
    {
      "cell_type": "code",
      "metadata": {
        "colab": {
          "base_uri": "https://localhost:8080/"
        },
        "id": "IceJABFgNJaT",
        "outputId": "ba2016ea-d0d0-493c-e093-5e0d5a4c6035"
      },
      "source": [
        "df_store.isnull().sum()"
      ],
      "execution_count": 20,
      "outputs": [
        {
          "output_type": "execute_result",
          "data": {
            "text/plain": [
              "Store                          0\n",
              "StoreType                      0\n",
              "Assortment                     0\n",
              "CompetitionDistance            3\n",
              "CompetitionOpenSinceMonth    354\n",
              "CompetitionOpenSinceYear     354\n",
              "Promo2                         0\n",
              "Promo2SinceWeek              544\n",
              "Promo2SinceYear              544\n",
              "PromoInterval                544\n",
              "dtype: int64"
            ]
          },
          "metadata": {},
          "execution_count": 20
        }
      ]
    },
    {
      "cell_type": "markdown",
      "metadata": {
        "id": "epPLgqwn7qce"
      },
      "source": [
        "Next filling missing in store.csv. CompetitionDistance was filling the median value. Other features were filling with 0;"
      ]
    },
    {
      "cell_type": "code",
      "metadata": {
        "execution": {
          "iopub.status.busy": "2021-08-30T21:14:33.461555Z",
          "iopub.execute_input": "2021-08-30T21:14:33.461850Z",
          "iopub.status.idle": "2021-08-30T21:14:33.471018Z",
          "shell.execute_reply.started": "2021-08-30T21:14:33.461823Z",
          "shell.execute_reply": "2021-08-30T21:14:33.470090Z"
        },
        "trusted": true,
        "id": "7vG9fQgH7qcf"
      },
      "source": [
        "df_store['CompetitionDistance'].fillna(df_store['CompetitionDistance'].median(), inplace=True)\n",
        "df_store['CompetitionOpenSinceMonth'].fillna(0, inplace=True)\n",
        "df_store['CompetitionOpenSinceYear'].fillna(0, inplace=True)\n",
        "df_store['Promo2SinceWeek'].fillna(0, inplace=True)\n",
        "df_store['Promo2SinceYear'].fillna(0, inplace=True)\n",
        "df_store['PromoInterval'].fillna(0, inplace=True)"
      ],
      "execution_count": 21,
      "outputs": []
    },
    {
      "cell_type": "markdown",
      "metadata": {
        "id": "TQyxbCqM7qcf"
      },
      "source": [
        "Was merged information about store and training data into one dataframe;"
      ]
    },
    {
      "cell_type": "code",
      "metadata": {
        "execution": {
          "iopub.status.busy": "2021-08-30T21:14:33.472496Z",
          "iopub.execute_input": "2021-08-30T21:14:33.472828Z",
          "iopub.status.idle": "2021-08-30T21:14:33.860836Z",
          "shell.execute_reply.started": "2021-08-30T21:14:33.472776Z",
          "shell.execute_reply": "2021-08-30T21:14:33.859833Z"
        },
        "trusted": true,
        "colab": {
          "base_uri": "https://localhost:8080/",
          "height": 223
        },
        "id": "P-vhqI4t7qcg",
        "outputId": "f0b78aaf-6037-4cbf-8e02-582ecaee7cbd"
      },
      "source": [
        "df = pd.merge(df_train, df_store, how='left', on='Store')\n",
        "\n",
        "df.head()"
      ],
      "execution_count": 22,
      "outputs": [
        {
          "output_type": "execute_result",
          "data": {
            "text/html": [
              "<div>\n",
              "<style scoped>\n",
              "    .dataframe tbody tr th:only-of-type {\n",
              "        vertical-align: middle;\n",
              "    }\n",
              "\n",
              "    .dataframe tbody tr th {\n",
              "        vertical-align: top;\n",
              "    }\n",
              "\n",
              "    .dataframe thead th {\n",
              "        text-align: right;\n",
              "    }\n",
              "</style>\n",
              "<table border=\"1\" class=\"dataframe\">\n",
              "  <thead>\n",
              "    <tr style=\"text-align: right;\">\n",
              "      <th></th>\n",
              "      <th>Store</th>\n",
              "      <th>DayOfWeek</th>\n",
              "      <th>Sales</th>\n",
              "      <th>Customers</th>\n",
              "      <th>Open</th>\n",
              "      <th>Promo</th>\n",
              "      <th>StateHoliday</th>\n",
              "      <th>SchoolHoliday</th>\n",
              "      <th>Day</th>\n",
              "      <th>Month</th>\n",
              "      <th>Year</th>\n",
              "      <th>StoreType</th>\n",
              "      <th>Assortment</th>\n",
              "      <th>CompetitionDistance</th>\n",
              "      <th>CompetitionOpenSinceMonth</th>\n",
              "      <th>CompetitionOpenSinceYear</th>\n",
              "      <th>Promo2</th>\n",
              "      <th>Promo2SinceWeek</th>\n",
              "      <th>Promo2SinceYear</th>\n",
              "      <th>PromoInterval</th>\n",
              "    </tr>\n",
              "  </thead>\n",
              "  <tbody>\n",
              "    <tr>\n",
              "      <th>0</th>\n",
              "      <td>1</td>\n",
              "      <td>5</td>\n",
              "      <td>5263</td>\n",
              "      <td>555</td>\n",
              "      <td>1</td>\n",
              "      <td>1</td>\n",
              "      <td>0</td>\n",
              "      <td>1</td>\n",
              "      <td>31</td>\n",
              "      <td>7</td>\n",
              "      <td>2015</td>\n",
              "      <td>c</td>\n",
              "      <td>a</td>\n",
              "      <td>1270.0</td>\n",
              "      <td>9.0</td>\n",
              "      <td>2008.0</td>\n",
              "      <td>0</td>\n",
              "      <td>0.0</td>\n",
              "      <td>0.0</td>\n",
              "      <td>0</td>\n",
              "    </tr>\n",
              "    <tr>\n",
              "      <th>1</th>\n",
              "      <td>2</td>\n",
              "      <td>5</td>\n",
              "      <td>6064</td>\n",
              "      <td>625</td>\n",
              "      <td>1</td>\n",
              "      <td>1</td>\n",
              "      <td>0</td>\n",
              "      <td>1</td>\n",
              "      <td>31</td>\n",
              "      <td>7</td>\n",
              "      <td>2015</td>\n",
              "      <td>a</td>\n",
              "      <td>a</td>\n",
              "      <td>570.0</td>\n",
              "      <td>11.0</td>\n",
              "      <td>2007.0</td>\n",
              "      <td>1</td>\n",
              "      <td>13.0</td>\n",
              "      <td>2010.0</td>\n",
              "      <td>Jan,Apr,Jul,Oct</td>\n",
              "    </tr>\n",
              "    <tr>\n",
              "      <th>2</th>\n",
              "      <td>3</td>\n",
              "      <td>5</td>\n",
              "      <td>8314</td>\n",
              "      <td>821</td>\n",
              "      <td>1</td>\n",
              "      <td>1</td>\n",
              "      <td>0</td>\n",
              "      <td>1</td>\n",
              "      <td>31</td>\n",
              "      <td>7</td>\n",
              "      <td>2015</td>\n",
              "      <td>a</td>\n",
              "      <td>a</td>\n",
              "      <td>14130.0</td>\n",
              "      <td>12.0</td>\n",
              "      <td>2006.0</td>\n",
              "      <td>1</td>\n",
              "      <td>14.0</td>\n",
              "      <td>2011.0</td>\n",
              "      <td>Jan,Apr,Jul,Oct</td>\n",
              "    </tr>\n",
              "    <tr>\n",
              "      <th>3</th>\n",
              "      <td>4</td>\n",
              "      <td>5</td>\n",
              "      <td>13995</td>\n",
              "      <td>1498</td>\n",
              "      <td>1</td>\n",
              "      <td>1</td>\n",
              "      <td>0</td>\n",
              "      <td>1</td>\n",
              "      <td>31</td>\n",
              "      <td>7</td>\n",
              "      <td>2015</td>\n",
              "      <td>c</td>\n",
              "      <td>c</td>\n",
              "      <td>620.0</td>\n",
              "      <td>9.0</td>\n",
              "      <td>2009.0</td>\n",
              "      <td>0</td>\n",
              "      <td>0.0</td>\n",
              "      <td>0.0</td>\n",
              "      <td>0</td>\n",
              "    </tr>\n",
              "    <tr>\n",
              "      <th>4</th>\n",
              "      <td>5</td>\n",
              "      <td>5</td>\n",
              "      <td>4822</td>\n",
              "      <td>559</td>\n",
              "      <td>1</td>\n",
              "      <td>1</td>\n",
              "      <td>0</td>\n",
              "      <td>1</td>\n",
              "      <td>31</td>\n",
              "      <td>7</td>\n",
              "      <td>2015</td>\n",
              "      <td>a</td>\n",
              "      <td>a</td>\n",
              "      <td>29910.0</td>\n",
              "      <td>4.0</td>\n",
              "      <td>2015.0</td>\n",
              "      <td>0</td>\n",
              "      <td>0.0</td>\n",
              "      <td>0.0</td>\n",
              "      <td>0</td>\n",
              "    </tr>\n",
              "  </tbody>\n",
              "</table>\n",
              "</div>"
            ],
            "text/plain": [
              "   Store  DayOfWeek  Sales  ...  Promo2SinceWeek  Promo2SinceYear    PromoInterval\n",
              "0      1          5   5263  ...              0.0              0.0                0\n",
              "1      2          5   6064  ...             13.0           2010.0  Jan,Apr,Jul,Oct\n",
              "2      3          5   8314  ...             14.0           2011.0  Jan,Apr,Jul,Oct\n",
              "3      4          5  13995  ...              0.0              0.0                0\n",
              "4      5          5   4822  ...              0.0              0.0                0\n",
              "\n",
              "[5 rows x 20 columns]"
            ]
          },
          "metadata": {},
          "execution_count": 22
        }
      ]
    },
    {
      "cell_type": "code",
      "metadata": {
        "colab": {
          "base_uri": "https://localhost:8080/",
          "height": 542
        },
        "id": "307WGnv6N7F2",
        "outputId": "373acf7f-48aa-4605-d3eb-eb8a7af46dfd"
      },
      "source": [
        "round(df.describe().T,2)"
      ],
      "execution_count": 23,
      "outputs": [
        {
          "output_type": "execute_result",
          "data": {
            "text/html": [
              "<div>\n",
              "<style scoped>\n",
              "    .dataframe tbody tr th:only-of-type {\n",
              "        vertical-align: middle;\n",
              "    }\n",
              "\n",
              "    .dataframe tbody tr th {\n",
              "        vertical-align: top;\n",
              "    }\n",
              "\n",
              "    .dataframe thead th {\n",
              "        text-align: right;\n",
              "    }\n",
              "</style>\n",
              "<table border=\"1\" class=\"dataframe\">\n",
              "  <thead>\n",
              "    <tr style=\"text-align: right;\">\n",
              "      <th></th>\n",
              "      <th>count</th>\n",
              "      <th>mean</th>\n",
              "      <th>std</th>\n",
              "      <th>min</th>\n",
              "      <th>25%</th>\n",
              "      <th>50%</th>\n",
              "      <th>75%</th>\n",
              "      <th>max</th>\n",
              "    </tr>\n",
              "  </thead>\n",
              "  <tbody>\n",
              "    <tr>\n",
              "      <th>Store</th>\n",
              "      <td>844338.0</td>\n",
              "      <td>558.42</td>\n",
              "      <td>321.73</td>\n",
              "      <td>1.0</td>\n",
              "      <td>280.0</td>\n",
              "      <td>558.0</td>\n",
              "      <td>837.0</td>\n",
              "      <td>1115.0</td>\n",
              "    </tr>\n",
              "    <tr>\n",
              "      <th>DayOfWeek</th>\n",
              "      <td>844338.0</td>\n",
              "      <td>3.52</td>\n",
              "      <td>1.72</td>\n",
              "      <td>1.0</td>\n",
              "      <td>2.0</td>\n",
              "      <td>3.0</td>\n",
              "      <td>5.0</td>\n",
              "      <td>7.0</td>\n",
              "    </tr>\n",
              "    <tr>\n",
              "      <th>Sales</th>\n",
              "      <td>844338.0</td>\n",
              "      <td>6955.96</td>\n",
              "      <td>3103.82</td>\n",
              "      <td>46.0</td>\n",
              "      <td>4859.0</td>\n",
              "      <td>6369.0</td>\n",
              "      <td>8360.0</td>\n",
              "      <td>41551.0</td>\n",
              "    </tr>\n",
              "    <tr>\n",
              "      <th>Customers</th>\n",
              "      <td>844338.0</td>\n",
              "      <td>762.78</td>\n",
              "      <td>401.19</td>\n",
              "      <td>8.0</td>\n",
              "      <td>519.0</td>\n",
              "      <td>676.0</td>\n",
              "      <td>893.0</td>\n",
              "      <td>7388.0</td>\n",
              "    </tr>\n",
              "    <tr>\n",
              "      <th>Open</th>\n",
              "      <td>844338.0</td>\n",
              "      <td>1.00</td>\n",
              "      <td>0.00</td>\n",
              "      <td>1.0</td>\n",
              "      <td>1.0</td>\n",
              "      <td>1.0</td>\n",
              "      <td>1.0</td>\n",
              "      <td>1.0</td>\n",
              "    </tr>\n",
              "    <tr>\n",
              "      <th>Promo</th>\n",
              "      <td>844338.0</td>\n",
              "      <td>0.45</td>\n",
              "      <td>0.50</td>\n",
              "      <td>0.0</td>\n",
              "      <td>0.0</td>\n",
              "      <td>0.0</td>\n",
              "      <td>1.0</td>\n",
              "      <td>1.0</td>\n",
              "    </tr>\n",
              "    <tr>\n",
              "      <th>SchoolHoliday</th>\n",
              "      <td>844338.0</td>\n",
              "      <td>0.19</td>\n",
              "      <td>0.40</td>\n",
              "      <td>0.0</td>\n",
              "      <td>0.0</td>\n",
              "      <td>0.0</td>\n",
              "      <td>0.0</td>\n",
              "      <td>1.0</td>\n",
              "    </tr>\n",
              "    <tr>\n",
              "      <th>Day</th>\n",
              "      <td>844338.0</td>\n",
              "      <td>15.84</td>\n",
              "      <td>8.68</td>\n",
              "      <td>1.0</td>\n",
              "      <td>8.0</td>\n",
              "      <td>16.0</td>\n",
              "      <td>23.0</td>\n",
              "      <td>31.0</td>\n",
              "    </tr>\n",
              "    <tr>\n",
              "      <th>Month</th>\n",
              "      <td>844338.0</td>\n",
              "      <td>5.85</td>\n",
              "      <td>3.32</td>\n",
              "      <td>1.0</td>\n",
              "      <td>3.0</td>\n",
              "      <td>6.0</td>\n",
              "      <td>8.0</td>\n",
              "      <td>12.0</td>\n",
              "    </tr>\n",
              "    <tr>\n",
              "      <th>Year</th>\n",
              "      <td>844338.0</td>\n",
              "      <td>2013.83</td>\n",
              "      <td>0.78</td>\n",
              "      <td>2013.0</td>\n",
              "      <td>2013.0</td>\n",
              "      <td>2014.0</td>\n",
              "      <td>2014.0</td>\n",
              "      <td>2015.0</td>\n",
              "    </tr>\n",
              "    <tr>\n",
              "      <th>CompetitionDistance</th>\n",
              "      <td>844338.0</td>\n",
              "      <td>5450.04</td>\n",
              "      <td>7801.08</td>\n",
              "      <td>20.0</td>\n",
              "      <td>710.0</td>\n",
              "      <td>2325.0</td>\n",
              "      <td>6880.0</td>\n",
              "      <td>75860.0</td>\n",
              "    </tr>\n",
              "    <tr>\n",
              "      <th>CompetitionOpenSinceMonth</th>\n",
              "      <td>844338.0</td>\n",
              "      <td>4.93</td>\n",
              "      <td>4.28</td>\n",
              "      <td>0.0</td>\n",
              "      <td>0.0</td>\n",
              "      <td>4.0</td>\n",
              "      <td>9.0</td>\n",
              "      <td>12.0</td>\n",
              "    </tr>\n",
              "    <tr>\n",
              "      <th>CompetitionOpenSinceYear</th>\n",
              "      <td>844338.0</td>\n",
              "      <td>1369.69</td>\n",
              "      <td>935.56</td>\n",
              "      <td>0.0</td>\n",
              "      <td>0.0</td>\n",
              "      <td>2006.0</td>\n",
              "      <td>2011.0</td>\n",
              "      <td>2015.0</td>\n",
              "    </tr>\n",
              "    <tr>\n",
              "      <th>Promo2</th>\n",
              "      <td>844338.0</td>\n",
              "      <td>0.50</td>\n",
              "      <td>0.50</td>\n",
              "      <td>0.0</td>\n",
              "      <td>0.0</td>\n",
              "      <td>0.0</td>\n",
              "      <td>1.0</td>\n",
              "      <td>1.0</td>\n",
              "    </tr>\n",
              "    <tr>\n",
              "      <th>Promo2SinceWeek</th>\n",
              "      <td>844338.0</td>\n",
              "      <td>11.60</td>\n",
              "      <td>15.31</td>\n",
              "      <td>0.0</td>\n",
              "      <td>0.0</td>\n",
              "      <td>0.0</td>\n",
              "      <td>22.0</td>\n",
              "      <td>50.0</td>\n",
              "    </tr>\n",
              "    <tr>\n",
              "      <th>Promo2SinceYear</th>\n",
              "      <td>844338.0</td>\n",
              "      <td>1003.20</td>\n",
              "      <td>1005.87</td>\n",
              "      <td>0.0</td>\n",
              "      <td>0.0</td>\n",
              "      <td>0.0</td>\n",
              "      <td>2012.0</td>\n",
              "      <td>2015.0</td>\n",
              "    </tr>\n",
              "  </tbody>\n",
              "</table>\n",
              "</div>"
            ],
            "text/plain": [
              "                              count     mean      std  ...     50%     75%      max\n",
              "Store                      844338.0   558.42   321.73  ...   558.0   837.0   1115.0\n",
              "DayOfWeek                  844338.0     3.52     1.72  ...     3.0     5.0      7.0\n",
              "Sales                      844338.0  6955.96  3103.82  ...  6369.0  8360.0  41551.0\n",
              "Customers                  844338.0   762.78   401.19  ...   676.0   893.0   7388.0\n",
              "Open                       844338.0     1.00     0.00  ...     1.0     1.0      1.0\n",
              "Promo                      844338.0     0.45     0.50  ...     0.0     1.0      1.0\n",
              "SchoolHoliday              844338.0     0.19     0.40  ...     0.0     0.0      1.0\n",
              "Day                        844338.0    15.84     8.68  ...    16.0    23.0     31.0\n",
              "Month                      844338.0     5.85     3.32  ...     6.0     8.0     12.0\n",
              "Year                       844338.0  2013.83     0.78  ...  2014.0  2014.0   2015.0\n",
              "CompetitionDistance        844338.0  5450.04  7801.08  ...  2325.0  6880.0  75860.0\n",
              "CompetitionOpenSinceMonth  844338.0     4.93     4.28  ...     4.0     9.0     12.0\n",
              "CompetitionOpenSinceYear   844338.0  1369.69   935.56  ...  2006.0  2011.0   2015.0\n",
              "Promo2                     844338.0     0.50     0.50  ...     0.0     1.0      1.0\n",
              "Promo2SinceWeek            844338.0    11.60    15.31  ...     0.0    22.0     50.0\n",
              "Promo2SinceYear            844338.0  1003.20  1005.87  ...     0.0  2012.0   2015.0\n",
              "\n",
              "[16 rows x 8 columns]"
            ]
          },
          "metadata": {},
          "execution_count": 23
        }
      ]
    },
    {
      "cell_type": "markdown",
      "metadata": {
        "id": "MVb6Tj5c7qch"
      },
      "source": [
        "Change features type from object to category;"
      ]
    },
    {
      "cell_type": "code",
      "metadata": {
        "execution": {
          "iopub.status.busy": "2021-08-30T21:14:33.862109Z",
          "iopub.execute_input": "2021-08-30T21:14:33.862415Z",
          "iopub.status.idle": "2021-08-30T21:14:34.134759Z",
          "shell.execute_reply.started": "2021-08-30T21:14:33.862386Z",
          "shell.execute_reply": "2021-08-30T21:14:34.133592Z"
        },
        "trusted": true,
        "id": "v9QxSuVg7qci"
      },
      "source": [
        "df['StateHoliday'] = df['StateHoliday'].astype('category')\n",
        "df['Assortment'] = df['Assortment'].astype('category')\n",
        "df['StoreType'] = df['StoreType'].astype('category')\n",
        "df['PromoInterval'] = df['PromoInterval'].astype('category')"
      ],
      "execution_count": 24,
      "outputs": []
    },
    {
      "cell_type": "markdown",
      "metadata": {
        "id": "ECa3e3EL7qci"
      },
      "source": [
        "CompetitionOpenSinceYear and CompetitionOpneSinceMonth have the same underlying meaning, that’s why they were merged into one variable CompetiotionOpenSince;"
      ]
    },
    {
      "cell_type": "code",
      "metadata": {
        "execution": {
          "iopub.status.busy": "2021-08-30T21:14:34.137368Z",
          "iopub.execute_input": "2021-08-30T21:14:34.137808Z",
          "iopub.status.idle": "2021-08-30T21:14:34.165096Z",
          "shell.execute_reply.started": "2021-08-30T21:14:34.137764Z",
          "shell.execute_reply": "2021-08-30T21:14:34.164163Z"
        },
        "trusted": true,
        "id": "l7GvHxU17qcj"
      },
      "source": [
        "df['CompetitionOpenSince'] = np.where((df['CompetitionOpenSinceMonth'] == 0) & (df['CompetitionOpenSinceYear'] == 0),\n",
        "                                      0,\n",
        "                                      (df['Month'] - df['CompetitionOpenSinceMonth']) + (12 * df['Year'] - df['CompetitionOpenSinceYear']))\n",
        "\n",
        "del df['CompetitionOpenSinceYear']\n",
        "del df['CompetitionOpenSinceMonth']"
      ],
      "execution_count": 25,
      "outputs": []
    },
    {
      "cell_type": "code",
      "metadata": {
        "colab": {
          "base_uri": "https://localhost:8080/",
          "height": 376
        },
        "id": "NW4mA-k9N9vH",
        "outputId": "c3ff8c7d-4223-4dc6-9f1d-f7824940c8b0"
      },
      "source": [
        "#Determining and visualize how Assortment affects the Customers\n",
        "new = df.groupby(by=['Assortment'])['Customers'].mean()\n",
        "new.head()\n",
        "new.plot(kind='bar',title='Customers and Assorments')\n",
        "plt.show()"
      ],
      "execution_count": 26,
      "outputs": [
        {
          "output_type": "execute_result",
          "data": {
            "text/plain": [
              "Assortment\n",
              "a     748.000978\n",
              "b    2067.550250\n",
              "c     752.202641\n",
              "Name: Customers, dtype: float64"
            ]
          },
          "metadata": {},
          "execution_count": 26
        },
        {
          "output_type": "execute_result",
          "data": {
            "text/plain": [
              "<matplotlib.axes._subplots.AxesSubplot at 0x7f6b8351cad0>"
            ]
          },
          "metadata": {},
          "execution_count": 26
        },
        {
          "output_type": "display_data",
          "data": {
            "image/png": "[encoded data removed]",
            "text/plain": [
              "<Figure size 432x288 with 1 Axes>"
            ]
          },
          "metadata": {
            "needs_background": "light"
          }
        }
      ]
    },
    {
      "cell_type": "code",
      "metadata": {
        "colab": {
          "base_uri": "https://localhost:8080/"
        },
        "id": "TBpYBzohOJl-",
        "outputId": "ce2c5231-f6aa-4c91-eeb4-7d1922fc075a"
      },
      "source": [
        "#There are 4 store types and 3 merchandise\n",
        "df.groupby(['StoreType','Assortment']).Assortment.count()"
      ],
      "execution_count": 27,
      "outputs": [
        {
          "output_type": "execute_result",
          "data": {
            "text/plain": [
              "StoreType  Assortment\n",
              "a          a             286028\n",
              "           b                  0\n",
              "           c             171014\n",
              "b          a               6409\n",
              "           b               8209\n",
              "           c                942\n",
              "c          a              58554\n",
              "           b                  0\n",
              "           c              54414\n",
              "d          a              93884\n",
              "           b                  0\n",
              "           c             164884\n",
              "Name: Assortment, dtype: int64"
            ]
          },
          "metadata": {},
          "execution_count": 27
        }
      ]
    },
    {
      "cell_type": "code",
      "metadata": {
        "colab": {
          "base_uri": "https://localhost:8080/",
          "height": 379
        },
        "id": "nLgRsbVCOKMl",
        "outputId": "859cdcb1-5da9-4e26-e200-929edc27c33a"
      },
      "source": [
        "plt.hist(df['Sales'])\n",
        "plt.title('Histogram of Store Sales')\n",
        "plt.ylabel('bins')\n",
        "plt.xlabel('frequency')\n",
        "plt.show()"
      ],
      "execution_count": 28,
      "outputs": [
        {
          "output_type": "execute_result",
          "data": {
            "text/plain": [
              "(array([1.28330e+05, 5.03908e+05, 1.67317e+05, 3.28390e+04, 8.82800e+03,\n",
              "        2.34300e+03, 5.63000e+02, 1.74000e+02, 2.80000e+01, 8.00000e+00]),\n",
              " array([   46. ,  4196.5,  8347. , 12497.5, 16648. , 20798.5, 24949. ,\n",
              "        29099.5, 33250. , 37400.5, 41551. ]),\n",
              " <a list of 10 Patch objects>)"
            ]
          },
          "metadata": {},
          "execution_count": 28
        },
        {
          "output_type": "execute_result",
          "data": {
            "text/plain": [
              "Text(0.5, 1.0, 'Histogram of Store Sales')"
            ]
          },
          "metadata": {},
          "execution_count": 28
        },
        {
          "output_type": "execute_result",
          "data": {
            "text/plain": [
              "Text(0, 0.5, 'bins')"
            ]
          },
          "metadata": {},
          "execution_count": 28
        },
        {
          "output_type": "execute_result",
          "data": {
            "text/plain": [
              "Text(0.5, 0, 'frequency')"
            ]
          },
          "metadata": {},
          "execution_count": 28
        },
        {
          "output_type": "display_data",
          "data": {
            "image/png": "[encoded data removed]",
            "text/plain": [
              "<Figure size 432x288 with 1 Axes>"
            ]
          },
          "metadata": {
            "needs_background": "light"
          }
        }
      ]
    },
    {
      "cell_type": "code",
      "metadata": {
        "colab": {
          "base_uri": "https://localhost:8080/",
          "height": 531
        },
        "id": "PE3JXc41ONZM",
        "outputId": "026cc117-33a1-4f64-d328-dc53b1c4c26a"
      },
      "source": [
        "df.corr()"
      ],
      "execution_count": 29,
      "outputs": [
        {
          "output_type": "execute_result",
          "data": {
            "text/html": [
              "<div>\n",
              "<style scoped>\n",
              "    .dataframe tbody tr th:only-of-type {\n",
              "        vertical-align: middle;\n",
              "    }\n",
              "\n",
              "    .dataframe tbody tr th {\n",
              "        vertical-align: top;\n",
              "    }\n",
              "\n",
              "    .dataframe thead th {\n",
              "        text-align: right;\n",
              "    }\n",
              "</style>\n",
              "<table border=\"1\" class=\"dataframe\">\n",
              "  <thead>\n",
              "    <tr style=\"text-align: right;\">\n",
              "      <th></th>\n",
              "      <th>Store</th>\n",
              "      <th>DayOfWeek</th>\n",
              "      <th>Sales</th>\n",
              "      <th>Customers</th>\n",
              "      <th>Open</th>\n",
              "      <th>Promo</th>\n",
              "      <th>SchoolHoliday</th>\n",
              "      <th>Day</th>\n",
              "      <th>Month</th>\n",
              "      <th>Year</th>\n",
              "      <th>CompetitionDistance</th>\n",
              "      <th>Promo2</th>\n",
              "      <th>Promo2SinceWeek</th>\n",
              "      <th>Promo2SinceYear</th>\n",
              "      <th>CompetitionOpenSince</th>\n",
              "    </tr>\n",
              "  </thead>\n",
              "  <tbody>\n",
              "    <tr>\n",
              "      <th>Store</th>\n",
              "      <td>1.000000</td>\n",
              "      <td>0.000343</td>\n",
              "      <td>0.007723</td>\n",
              "      <td>0.033991</td>\n",
              "      <td>NaN</td>\n",
              "      <td>-0.000015</td>\n",
              "      <td>0.000526</td>\n",
              "      <td>-0.000127</td>\n",
              "      <td>0.001371</td>\n",
              "      <td>0.000300</td>\n",
              "      <td>-0.027080</td>\n",
              "      <td>0.007728</td>\n",
              "      <td>0.010853</td>\n",
              "      <td>0.007760</td>\n",
              "      <td>-0.008116</td>\n",
              "    </tr>\n",
              "    <tr>\n",
              "      <th>DayOfWeek</th>\n",
              "      <td>0.000343</td>\n",
              "      <td>1.000000</td>\n",
              "      <td>-0.178753</td>\n",
              "      <td>-0.097266</td>\n",
              "      <td>NaN</td>\n",
              "      <td>-0.289268</td>\n",
              "      <td>-0.139319</td>\n",
              "      <td>0.008525</td>\n",
              "      <td>-0.019710</td>\n",
              "      <td>0.002099</td>\n",
              "      <td>0.005540</td>\n",
              "      <td>-0.003252</td>\n",
              "      <td>-0.002736</td>\n",
              "      <td>-0.003249</td>\n",
              "      <td>-0.001317</td>\n",
              "    </tr>\n",
              "    <tr>\n",
              "      <th>Sales</th>\n",
              "      <td>0.007723</td>\n",
              "      <td>-0.178753</td>\n",
              "      <td>1.000000</td>\n",
              "      <td>0.823552</td>\n",
              "      <td>NaN</td>\n",
              "      <td>0.368199</td>\n",
              "      <td>0.038635</td>\n",
              "      <td>-0.051865</td>\n",
              "      <td>0.073589</td>\n",
              "      <td>0.036151</td>\n",
              "      <td>-0.035908</td>\n",
              "      <td>-0.127556</td>\n",
              "      <td>-0.058493</td>\n",
              "      <td>-0.127581</td>\n",
              "      <td>0.005220</td>\n",
              "    </tr>\n",
              "    <tr>\n",
              "      <th>Customers</th>\n",
              "      <td>0.033991</td>\n",
              "      <td>-0.097266</td>\n",
              "      <td>0.823552</td>\n",
              "      <td>1.000000</td>\n",
              "      <td>NaN</td>\n",
              "      <td>0.182859</td>\n",
              "      <td>0.024915</td>\n",
              "      <td>-0.035416</td>\n",
              "      <td>0.053843</td>\n",
              "      <td>-0.000842</td>\n",
              "      <td>-0.147859</td>\n",
              "      <td>-0.202207</td>\n",
              "      <td>-0.130864</td>\n",
              "      <td>-0.202180</td>\n",
              "      <td>0.001626</td>\n",
              "    </tr>\n",
              "    <tr>\n",
              "      <th>Open</th>\n",
              "      <td>NaN</td>\n",
              "      <td>NaN</td>\n",
              "      <td>NaN</td>\n",
              "      <td>NaN</td>\n",
              "      <td>NaN</td>\n",
              "      <td>NaN</td>\n",
              "      <td>NaN</td>\n",
              "      <td>NaN</td>\n",
              "      <td>NaN</td>\n",
              "      <td>NaN</td>\n",
              "      <td>NaN</td>\n",
              "      <td>NaN</td>\n",
              "      <td>NaN</td>\n",
              "      <td>NaN</td>\n",
              "      <td>NaN</td>\n",
              "    </tr>\n",
              "    <tr>\n",
              "      <th>Promo</th>\n",
              "      <td>-0.000015</td>\n",
              "      <td>-0.289268</td>\n",
              "      <td>0.368199</td>\n",
              "      <td>0.182859</td>\n",
              "      <td>NaN</td>\n",
              "      <td>1.000000</td>\n",
              "      <td>0.028971</td>\n",
              "      <td>-0.126442</td>\n",
              "      <td>-0.006412</td>\n",
              "      <td>0.023990</td>\n",
              "      <td>-0.002392</td>\n",
              "      <td>-0.000316</td>\n",
              "      <td>-0.000795</td>\n",
              "      <td>-0.000317</td>\n",
              "      <td>0.001001</td>\n",
              "    </tr>\n",
              "    <tr>\n",
              "      <th>SchoolHoliday</th>\n",
              "      <td>0.000526</td>\n",
              "      <td>-0.139319</td>\n",
              "      <td>0.038635</td>\n",
              "      <td>0.024915</td>\n",
              "      <td>NaN</td>\n",
              "      <td>0.028971</td>\n",
              "      <td>1.000000</td>\n",
              "      <td>0.038085</td>\n",
              "      <td>0.118467</td>\n",
              "      <td>-0.038686</td>\n",
              "      <td>-0.004256</td>\n",
              "      <td>-0.008244</td>\n",
              "      <td>-0.008069</td>\n",
              "      <td>-0.008247</td>\n",
              "      <td>0.000117</td>\n",
              "    </tr>\n",
              "    <tr>\n",
              "      <th>Day</th>\n",
              "      <td>-0.000127</td>\n",
              "      <td>0.008525</td>\n",
              "      <td>-0.051865</td>\n",
              "      <td>-0.035416</td>\n",
              "      <td>NaN</td>\n",
              "      <td>-0.126442</td>\n",
              "      <td>0.038085</td>\n",
              "      <td>1.000000</td>\n",
              "      <td>-0.006577</td>\n",
              "      <td>0.008387</td>\n",
              "      <td>-0.000227</td>\n",
              "      <td>0.001355</td>\n",
              "      <td>0.001450</td>\n",
              "      <td>0.001356</td>\n",
              "      <td>-0.000318</td>\n",
              "    </tr>\n",
              "    <tr>\n",
              "      <th>Month</th>\n",
              "      <td>0.001371</td>\n",
              "      <td>-0.019710</td>\n",
              "      <td>0.073589</td>\n",
              "      <td>0.053843</td>\n",
              "      <td>NaN</td>\n",
              "      <td>-0.006412</td>\n",
              "      <td>0.118467</td>\n",
              "      <td>-0.006577</td>\n",
              "      <td>1.000000</td>\n",
              "      <td>-0.268835</td>\n",
              "      <td>0.003882</td>\n",
              "      <td>-0.025807</td>\n",
              "      <td>-0.031721</td>\n",
              "      <td>-0.025812</td>\n",
              "      <td>-0.000737</td>\n",
              "    </tr>\n",
              "    <tr>\n",
              "      <th>Year</th>\n",
              "      <td>0.000300</td>\n",
              "      <td>0.002099</td>\n",
              "      <td>0.036151</td>\n",
              "      <td>-0.000842</td>\n",
              "      <td>NaN</td>\n",
              "      <td>0.023990</td>\n",
              "      <td>-0.038686</td>\n",
              "      <td>0.008387</td>\n",
              "      <td>-0.268835</td>\n",
              "      <td>1.000000</td>\n",
              "      <td>0.000632</td>\n",
              "      <td>-0.005696</td>\n",
              "      <td>-0.006905</td>\n",
              "      <td>-0.005697</td>\n",
              "      <td>0.000379</td>\n",
              "    </tr>\n",
              "    <tr>\n",
              "      <th>CompetitionDistance</th>\n",
              "      <td>-0.027080</td>\n",
              "      <td>0.005540</td>\n",
              "      <td>-0.035908</td>\n",
              "      <td>-0.147859</td>\n",
              "      <td>NaN</td>\n",
              "      <td>-0.002392</td>\n",
              "      <td>-0.004256</td>\n",
              "      <td>-0.000227</td>\n",
              "      <td>0.003882</td>\n",
              "      <td>0.000632</td>\n",
              "      <td>1.000000</td>\n",
              "      <td>-0.141318</td>\n",
              "      <td>-0.124008</td>\n",
              "      <td>-0.141381</td>\n",
              "      <td>-0.001335</td>\n",
              "    </tr>\n",
              "    <tr>\n",
              "      <th>Promo2</th>\n",
              "      <td>0.007728</td>\n",
              "      <td>-0.003252</td>\n",
              "      <td>-0.127556</td>\n",
              "      <td>-0.202207</td>\n",
              "      <td>NaN</td>\n",
              "      <td>-0.000316</td>\n",
              "      <td>-0.008244</td>\n",
              "      <td>0.001355</td>\n",
              "      <td>-0.025807</td>\n",
              "      <td>-0.005696</td>\n",
              "      <td>-0.141318</td>\n",
              "      <td>1.000000</td>\n",
              "      <td>0.759536</td>\n",
              "      <td>0.999999</td>\n",
              "      <td>-0.098212</td>\n",
              "    </tr>\n",
              "    <tr>\n",
              "      <th>Promo2SinceWeek</th>\n",
              "      <td>0.010853</td>\n",
              "      <td>-0.002736</td>\n",
              "      <td>-0.058493</td>\n",
              "      <td>-0.130864</td>\n",
              "      <td>NaN</td>\n",
              "      <td>-0.000795</td>\n",
              "      <td>-0.008069</td>\n",
              "      <td>0.001450</td>\n",
              "      <td>-0.031721</td>\n",
              "      <td>-0.006905</td>\n",
              "      <td>-0.124008</td>\n",
              "      <td>0.759536</td>\n",
              "      <td>1.000000</td>\n",
              "      <td>0.759350</td>\n",
              "      <td>-0.124627</td>\n",
              "    </tr>\n",
              "    <tr>\n",
              "      <th>Promo2SinceYear</th>\n",
              "      <td>0.007760</td>\n",
              "      <td>-0.003249</td>\n",
              "      <td>-0.127581</td>\n",
              "      <td>-0.202180</td>\n",
              "      <td>NaN</td>\n",
              "      <td>-0.000317</td>\n",
              "      <td>-0.008247</td>\n",
              "      <td>0.001356</td>\n",
              "      <td>-0.025812</td>\n",
              "      <td>-0.005697</td>\n",
              "      <td>-0.141381</td>\n",
              "      <td>0.999999</td>\n",
              "      <td>0.759350</td>\n",
              "      <td>1.000000</td>\n",
              "      <td>-0.098144</td>\n",
              "    </tr>\n",
              "    <tr>\n",
              "      <th>CompetitionOpenSince</th>\n",
              "      <td>-0.008116</td>\n",
              "      <td>-0.001317</td>\n",
              "      <td>0.005220</td>\n",
              "      <td>0.001626</td>\n",
              "      <td>NaN</td>\n",
              "      <td>0.001001</td>\n",
              "      <td>0.000117</td>\n",
              "      <td>-0.000318</td>\n",
              "      <td>-0.000737</td>\n",
              "      <td>0.000379</td>\n",
              "      <td>-0.001335</td>\n",
              "      <td>-0.098212</td>\n",
              "      <td>-0.124627</td>\n",
              "      <td>-0.098144</td>\n",
              "      <td>1.000000</td>\n",
              "    </tr>\n",
              "  </tbody>\n",
              "</table>\n",
              "</div>"
            ],
            "text/plain": [
              "                         Store  ...  CompetitionOpenSince\n",
              "Store                 1.000000  ...             -0.008116\n",
              "DayOfWeek             0.000343  ...             -0.001317\n",
              "Sales                 0.007723  ...              0.005220\n",
              "Customers             0.033991  ...              0.001626\n",
              "Open                       NaN  ...                   NaN\n",
              "Promo                -0.000015  ...              0.001001\n",
              "SchoolHoliday         0.000526  ...              0.000117\n",
              "Day                  -0.000127  ...             -0.000318\n",
              "Month                 0.001371  ...             -0.000737\n",
              "Year                  0.000300  ...              0.000379\n",
              "CompetitionDistance  -0.027080  ...             -0.001335\n",
              "Promo2                0.007728  ...             -0.098212\n",
              "Promo2SinceWeek       0.010853  ...             -0.124627\n",
              "Promo2SinceYear       0.007760  ...             -0.098144\n",
              "CompetitionOpenSince -0.008116  ...              1.000000\n",
              "\n",
              "[15 rows x 15 columns]"
            ]
          },
          "metadata": {},
          "execution_count": 29
        }
      ]
    },
    {
      "cell_type": "code",
      "metadata": {
        "colab": {
          "base_uri": "https://localhost:8080/"
        },
        "id": "tsaljjoAOevM",
        "outputId": "946420b7-08f8-4f96-8d4a-8d24cd267990"
      },
      "source": [
        "df.corr()[\"Sales\"].sort_values()"
      ],
      "execution_count": 30,
      "outputs": [
        {
          "output_type": "execute_result",
          "data": {
            "text/plain": [
              "DayOfWeek              -0.178753\n",
              "Promo2SinceYear        -0.127581\n",
              "Promo2                 -0.127556\n",
              "Promo2SinceWeek        -0.058493\n",
              "Day                    -0.051865\n",
              "CompetitionDistance    -0.035908\n",
              "CompetitionOpenSince    0.005220\n",
              "Store                   0.007723\n",
              "Year                    0.036151\n",
              "SchoolHoliday           0.038635\n",
              "Month                   0.073589\n",
              "Promo                   0.368199\n",
              "Customers               0.823552\n",
              "Sales                   1.000000\n",
              "Open                         NaN\n",
              "Name: Sales, dtype: float64"
            ]
          },
          "metadata": {},
          "execution_count": 30
        }
      ]
    },
    {
      "cell_type": "code",
      "metadata": {
        "colab": {
          "base_uri": "https://localhost:8080/",
          "height": 717
        },
        "id": "Qe-kNtGwOj-D",
        "outputId": "89cc8381-481a-49cb-d374-35c8e17161b1"
      },
      "source": [
        "f,ax = plt.subplots(figsize=(10, 10))\n",
        "sns.heatmap(df.corr(), annot=True, linewidths=.5, fmt= '.1f',ax=ax)\n",
        "plt.show()"
      ],
      "execution_count": 31,
      "outputs": [
        {
          "output_type": "execute_result",
          "data": {
            "text/plain": [
              "<matplotlib.axes._subplots.AxesSubplot at 0x7f6b82b2b350>"
            ]
          },
          "metadata": {},
          "execution_count": 31
        },
        {
          "output_type": "display_data",
          "data": {
            "image/png": "[encoded data removed]",
            "text/plain": [
              "<Figure size 720x720 with 2 Axes>"
            ]
          },
          "metadata": {
            "needs_background": "light"
          }
        }
      ]
    },
    {
      "cell_type": "markdown",
      "metadata": {
        "id": "tGqtPlnY7qcj"
      },
      "source": [
        "The feature StateHoliday changed into a boolean variable. The value {a, b, c} became 1, other 0;"
      ]
    },
    {
      "cell_type": "code",
      "metadata": {
        "execution": {
          "iopub.status.busy": "2021-08-30T21:14:34.166345Z",
          "iopub.execute_input": "2021-08-30T21:14:34.166630Z",
          "iopub.status.idle": "2021-08-30T21:14:34.183790Z",
          "shell.execute_reply.started": "2021-08-30T21:14:34.166604Z",
          "shell.execute_reply": "2021-08-30T21:14:34.182732Z"
        },
        "trusted": true,
        "id": "uWlhG64h7qcj"
      },
      "source": [
        "df['is_holiday_state'] = df['StateHoliday'].map({'0': 0,\n",
        "                                                 'a': 1,\n",
        "                                                 'b': 1,\n",
        "                                                 'c': 1\n",
        "                                                }\n",
        ")\n",
        "\n",
        "del df['StateHoliday']"
      ],
      "execution_count": 32,
      "outputs": []
    },
    {
      "cell_type": "markdown",
      "metadata": {
        "id": "dl89w6qr7qcj"
      },
      "source": [
        "The features Assortment, StoreType, PromoInterval were coding with the get_dummies function;"
      ]
    },
    {
      "cell_type": "code",
      "metadata": {
        "execution": {
          "iopub.status.busy": "2021-08-30T21:14:34.185845Z",
          "iopub.execute_input": "2021-08-30T21:14:34.186281Z",
          "iopub.status.idle": "2021-08-30T21:14:34.486001Z",
          "shell.execute_reply.started": "2021-08-30T21:14:34.186238Z",
          "shell.execute_reply": "2021-08-30T21:14:34.484747Z"
        },
        "trusted": true,
        "id": "eljbcd3u7qck"
      },
      "source": [
        "\n",
        "df = pd.get_dummies(df, columns=['Assortment', 'StoreType', 'PromoInterval'],\n",
        "                    prefix=['is_Assortment', 'is_StoreType', 'is_PromoInterval']\n",
        ")"
      ],
      "execution_count": 33,
      "outputs": []
    },
    {
      "cell_type": "code",
      "metadata": {
        "execution": {
          "iopub.status.busy": "2021-08-30T21:14:34.487470Z",
          "iopub.execute_input": "2021-08-30T21:14:34.487900Z",
          "iopub.status.idle": "2021-08-30T21:14:34.494920Z",
          "shell.execute_reply.started": "2021-08-30T21:14:34.487857Z",
          "shell.execute_reply": "2021-08-30T21:14:34.493599Z"
        },
        "trusted": true,
        "id": "b0SXsfdy7qck"
      },
      "source": [
        "df.columns = [\"\".join (c if c.isalnum() else \"_\" for c in str(x)) for x in df.columns]"
      ],
      "execution_count": 34,
      "outputs": []
    },
    {
      "cell_type": "markdown",
      "metadata": {
        "id": "w4CHoL707qck"
      },
      "source": [
        "And finally, all these steps were done for test.csv."
      ]
    },
    {
      "cell_type": "code",
      "metadata": {
        "execution": {
          "iopub.status.busy": "2021-08-30T21:14:34.496752Z",
          "iopub.execute_input": "2021-08-30T21:14:34.497187Z",
          "iopub.status.idle": "2021-08-30T21:14:35.116128Z",
          "shell.execute_reply.started": "2021-08-30T21:14:34.497142Z",
          "shell.execute_reply": "2021-08-30T21:14:35.115036Z"
        },
        "trusted": true,
        "id": "lLmrTviR7qck"
      },
      "source": [
        "df_test = pd.read_csv('test.csv',\n",
        "                       sep=',',\n",
        "                       parse_dates=['Date'],\n",
        "                       date_parser=str_to_date,\n",
        "                       low_memory=False\n",
        ")"
      ],
      "execution_count": 35,
      "outputs": []
    },
    {
      "cell_type": "code",
      "metadata": {
        "execution": {
          "iopub.status.busy": "2021-08-30T21:14:35.118188Z",
          "iopub.execute_input": "2021-08-30T21:14:35.118562Z",
          "iopub.status.idle": "2021-08-30T21:14:35.230089Z",
          "shell.execute_reply.started": "2021-08-30T21:14:35.118528Z",
          "shell.execute_reply": "2021-08-30T21:14:35.224514Z"
        },
        "trusted": true,
        "id": "-BJWc2iG7qck"
      },
      "source": [
        "#df_test = df_test.rename(columns = lambda x:re.sub('[^A-Za-z0-9_]+', '', x))"
      ],
      "execution_count": 36,
      "outputs": []
    },
    {
      "cell_type": "code",
      "metadata": {
        "execution": {
          "iopub.status.busy": "2021-08-30T21:14:53.308508Z",
          "iopub.execute_input": "2021-08-30T21:14:53.309355Z",
          "iopub.status.idle": "2021-08-30T21:14:53.319557Z",
          "shell.execute_reply.started": "2021-08-30T21:14:53.309304Z",
          "shell.execute_reply": "2021-08-30T21:14:53.318372Z"
        },
        "trusted": true,
        "id": "3eoU7uyw7qcl"
      },
      "source": [
        "df_test['Open'].fillna(1, inplace = True)"
      ],
      "execution_count": 37,
      "outputs": []
    },
    {
      "cell_type": "code",
      "metadata": {
        "execution": {
          "iopub.status.busy": "2021-08-30T21:14:54.076494Z",
          "iopub.execute_input": "2021-08-30T21:14:54.077062Z",
          "iopub.status.idle": "2021-08-30T21:14:54.102246Z",
          "shell.execute_reply.started": "2021-08-30T21:14:54.077015Z",
          "shell.execute_reply": "2021-08-30T21:14:54.101117Z"
        },
        "trusted": true,
        "id": "jKAXKVmX7qcl"
      },
      "source": [
        "df_test['Day'] = df_test['Date'].dt.day\n",
        "df_test['Month'] = df_test['Date'].dt.month\n",
        "df_test['Year'] = df_test['Date'].dt.year\n",
        "\n",
        "del df_test['Date']"
      ],
      "execution_count": 38,
      "outputs": []
    },
    {
      "cell_type": "code",
      "metadata": {
        "execution": {
          "iopub.status.busy": "2021-08-30T21:14:54.877532Z",
          "iopub.execute_input": "2021-08-30T21:14:54.877878Z",
          "iopub.status.idle": "2021-08-30T21:14:54.903922Z",
          "shell.execute_reply.started": "2021-08-30T21:14:54.877849Z",
          "shell.execute_reply": "2021-08-30T21:14:54.903065Z"
        },
        "trusted": true,
        "id": "I9cZGgfc7qcl"
      },
      "source": [
        "df_test_store = pd.merge(df_test, df_store, how='left', on='Store')"
      ],
      "execution_count": 39,
      "outputs": []
    },
    {
      "cell_type": "code",
      "metadata": {
        "execution": {
          "iopub.status.busy": "2021-08-30T21:14:55.561427Z",
          "iopub.execute_input": "2021-08-30T21:14:55.561984Z",
          "iopub.status.idle": "2021-08-30T21:14:55.587792Z",
          "shell.execute_reply.started": "2021-08-30T21:14:55.561932Z",
          "shell.execute_reply": "2021-08-30T21:14:55.586798Z"
        },
        "trusted": true,
        "id": "69aJB_fs7qcl"
      },
      "source": [
        "df_test_store['StateHoliday'] = df_test_store['StateHoliday'].astype('category')\n",
        "df_test_store['Assortment'] = df_test_store['Assortment'].astype('category')\n",
        "df_test_store['StoreType'] = df_test_store['StoreType'].astype('category')\n",
        "df_test_store['PromoInterval'] = df_test_store['PromoInterval'].astype('category')"
      ],
      "execution_count": 40,
      "outputs": []
    },
    {
      "cell_type": "code",
      "metadata": {
        "execution": {
          "iopub.status.busy": "2021-08-30T21:14:56.271418Z",
          "iopub.execute_input": "2021-08-30T21:14:56.272029Z",
          "iopub.status.idle": "2021-08-30T21:14:56.285820Z",
          "shell.execute_reply.started": "2021-08-30T21:14:56.271972Z",
          "shell.execute_reply": "2021-08-30T21:14:56.284743Z"
        },
        "trusted": true,
        "id": "BNgYuX257qcl"
      },
      "source": [
        "df_test_store['CompetitionOpenSince'] = np.where((df_test_store['CompetitionOpenSinceMonth'] == 0) & (df_test_store['CompetitionOpenSinceYear'] == 0),\n",
        "                                      0,\n",
        "                                      (df_test_store['Month'] - df_test_store['CompetitionOpenSinceMonth']) + (12 * df_test_store['Year'] - df_test_store['CompetitionOpenSinceYear']))\n",
        "\n",
        "del df_test_store['CompetitionOpenSinceYear']\n",
        "del df_test_store['CompetitionOpenSinceMonth']"
      ],
      "execution_count": 41,
      "outputs": []
    },
    {
      "cell_type": "code",
      "metadata": {
        "execution": {
          "iopub.status.busy": "2021-08-30T21:14:57.058944Z",
          "iopub.execute_input": "2021-08-30T21:14:57.059585Z",
          "iopub.status.idle": "2021-08-30T21:14:57.069354Z",
          "shell.execute_reply.started": "2021-08-30T21:14:57.059530Z",
          "shell.execute_reply": "2021-08-30T21:14:57.067922Z"
        },
        "trusted": true,
        "id": "0pbakpDU7qcl"
      },
      "source": [
        "df_test_store['is_holiday_state'] = df_test_store['StateHoliday'].map({'0': 0,\n",
        "                                                                       'a': 1,\n",
        "                                                                       'b': 1,\n",
        "                                                                       'c': 1\n",
        "                                                                       }\n",
        ")\n",
        "\n",
        "del df_test_store['StateHoliday']"
      ],
      "execution_count": 42,
      "outputs": []
    },
    {
      "cell_type": "code",
      "metadata": {
        "execution": {
          "iopub.status.busy": "2021-08-30T21:14:57.831054Z",
          "iopub.execute_input": "2021-08-30T21:14:57.831433Z",
          "iopub.status.idle": "2021-08-30T21:14:57.851524Z",
          "shell.execute_reply.started": "2021-08-30T21:14:57.831400Z",
          "shell.execute_reply": "2021-08-30T21:14:57.850696Z"
        },
        "trusted": true,
        "id": "-la-QTN27qcm"
      },
      "source": [
        "df_test_store = pd.get_dummies(df_test_store, columns=['Assortment', 'StoreType', 'PromoInterval'],\n",
        "                               prefix=['is_Assortment', 'is_StoreType', 'is_PromoInterval']\n",
        ")"
      ],
      "execution_count": 43,
      "outputs": []
    },
    {
      "cell_type": "code",
      "metadata": {
        "execution": {
          "iopub.status.busy": "2021-08-30T21:14:58.589307Z",
          "iopub.execute_input": "2021-08-30T21:14:58.589816Z",
          "iopub.status.idle": "2021-08-30T21:14:58.595619Z",
          "shell.execute_reply.started": "2021-08-30T21:14:58.589782Z",
          "shell.execute_reply": "2021-08-30T21:14:58.594761Z"
        },
        "trusted": true,
        "id": "4nflPyKB7qcm"
      },
      "source": [
        "df_test_store['is_holiday_state'] = df_test_store['is_holiday_state'].astype('int64')"
      ],
      "execution_count": 44,
      "outputs": []
    },
    {
      "cell_type": "code",
      "metadata": {
        "execution": {
          "iopub.status.busy": "2021-08-30T21:14:59.385382Z",
          "iopub.execute_input": "2021-08-30T21:14:59.385751Z",
          "iopub.status.idle": "2021-08-30T21:14:59.391293Z",
          "shell.execute_reply.started": "2021-08-30T21:14:59.385722Z",
          "shell.execute_reply": "2021-08-30T21:14:59.390281Z"
        },
        "trusted": true,
        "id": "91aBVM1t7qcm"
      },
      "source": [
        "df_test_store.columns = [\"\".join (c if c.isalnum() else \"_\" for c in str(x)) for x in df_test_store.columns]"
      ],
      "execution_count": 45,
      "outputs": []
    },
    {
      "cell_type": "markdown",
      "metadata": {
        "id": "jIwYlj-_7qcm"
      },
      "source": [
        "Split on train and target;"
      ]
    },
    {
      "cell_type": "code",
      "metadata": {
        "execution": {
          "iopub.status.busy": "2021-08-30T21:15:01.099066Z",
          "iopub.execute_input": "2021-08-30T21:15:01.099637Z",
          "iopub.status.idle": "2021-08-30T21:15:01.294039Z",
          "shell.execute_reply.started": "2021-08-30T21:15:01.099587Z",
          "shell.execute_reply": "2021-08-30T21:15:01.293059Z"
        },
        "trusted": true,
        "id": "p7bb_0NX7qcm"
      },
      "source": [
        "features = df.drop(['Customers', 'Sales'], axis=1)\n",
        "targets = np.log(df.Sales)"
      ],
      "execution_count": 46,
      "outputs": []
    },
    {
      "cell_type": "code",
      "metadata": {
        "execution": {
          "iopub.status.busy": "2021-08-30T21:15:03.199552Z",
          "iopub.execute_input": "2021-08-30T21:15:03.200079Z",
          "iopub.status.idle": "2021-08-30T21:15:03.953814Z",
          "shell.execute_reply.started": "2021-08-30T21:15:03.200039Z",
          "shell.execute_reply": "2021-08-30T21:15:03.952703Z"
        },
        "trusted": true,
        "id": "KB7Jqbp37qcn"
      },
      "source": [
        "#### Train Test Split\n",
        "from sklearn.model_selection import train_test_split\n",
        "X_train,X_test,y_train,y_test=train_test_split(features, targets,test_size=0.20,random_state=0)"
      ],
      "execution_count": 47,
      "outputs": []
    },
    {
      "cell_type": "code",
      "metadata": {
        "execution": {
          "iopub.status.busy": "2021-08-30T21:15:04.397793Z",
          "iopub.execute_input": "2021-08-30T21:15:04.398176Z",
          "iopub.status.idle": "2021-08-30T21:15:04.403531Z",
          "shell.execute_reply.started": "2021-08-30T21:15:04.398144Z",
          "shell.execute_reply": "2021-08-30T21:15:04.402142Z"
        },
        "trusted": true,
        "id": "5nJNvtfm7qcn"
      },
      "source": [
        "def rmspe(true, pred):\n",
        "    rmspe = np.sqrt(np.mean((true - pred)**2))\n",
        "    return rmspe"
      ],
      "execution_count": 48,
      "outputs": []
    },
    {
      "cell_type": "markdown",
      "metadata": {
        "id": "axMb0crxN_re"
      },
      "source": [
        "### Linear Regression"
      ]
    },
    {
      "cell_type": "code",
      "metadata": {
        "colab": {
          "base_uri": "https://localhost:8080/"
        },
        "id": "98gByiwnOAPH",
        "outputId": "45ec15ac-f5c6-4162-b943-4a9d18646729"
      },
      "source": [
        "from sklearn.linear_model import LinearRegression\n",
        "\n",
        "lin_reg = LinearRegression()\n",
        "\n",
        "lin_reg.fit(X_train, y_train)"
      ],
      "execution_count": 49,
      "outputs": [
        {
          "output_type": "execute_result",
          "data": {
            "text/plain": [
              "LinearRegression(copy_X=True, fit_intercept=True, n_jobs=None, normalize=False)"
            ]
          },
          "metadata": {},
          "execution_count": 49
        }
      ]
    },
    {
      "cell_type": "code",
      "metadata": {
        "id": "FsU4iZQBOO_r"
      },
      "source": [
        "y_pred = lin_reg.predict(X_test)"
      ],
      "execution_count": 50,
      "outputs": []
    },
    {
      "cell_type": "code",
      "metadata": {
        "colab": {
          "base_uri": "https://localhost:8080/"
        },
        "id": "KqxRra6vOg-l",
        "outputId": "69ba833b-1867-437b-e8e7-396f8b0b055e"
      },
      "source": [
        "rmspe(y_test, y_pred)"
      ],
      "execution_count": 51,
      "outputs": [
        {
          "output_type": "execute_result",
          "data": {
            "text/plain": [
              "0.3715884184615002"
            ]
          },
          "metadata": {},
          "execution_count": 51
        }
      ]
    },
    {
      "cell_type": "markdown",
      "metadata": {
        "id": "lFAkYbk37qcq"
      },
      "source": [
        "### Random Forest"
      ]
    },
    {
      "cell_type": "code",
      "metadata": {
        "execution": {
          "iopub.status.busy": "2021-08-30T21:15:20.841112Z",
          "iopub.execute_input": "2021-08-30T21:15:20.841472Z"
        },
        "trusted": true,
        "id": "2G2iksb67qcq"
      },
      "source": [
        "from sklearn.ensemble import RandomForestRegressor\n",
        "rf_Regressor=RandomForestRegressor(n_estimators=10).fit(X_train,y_train)\n",
        "prediction=rf_Regressor.predict(X_test)"
      ],
      "execution_count": 52,
      "outputs": []
    },
    {
      "cell_type": "code",
      "metadata": {
        "id": "RjG0HHxkP8f5"
      },
      "source": [
        "y_pred = lin_reg.predict(X_test)"
      ],
      "execution_count": 53,
      "outputs": []
    },
    {
      "cell_type": "code",
      "metadata": {
        "colab": {
          "base_uri": "https://localhost:8080/"
        },
        "id": "rK0qYbtjP9FH",
        "outputId": "1e4a1cdd-6715-4065-fdd4-a9bf94cb11d4"
      },
      "source": [
        "rmspe(y_test, y_pred)"
      ],
      "execution_count": 54,
      "outputs": [
        {
          "output_type": "execute_result",
          "data": {
            "text/plain": [
              "0.3715884184615002"
            ]
          },
          "metadata": {},
          "execution_count": 54
        }
      ]
    },
    {
      "cell_type": "markdown",
      "metadata": {
        "id": "p7FfseeU7qcr"
      },
      "source": [
        "### XGBoost"
      ]
    },
    {
      "cell_type": "code",
      "metadata": {
        "trusted": true,
        "id": "Lq2j1UgV7qcr",
        "colab": {
          "base_uri": "https://localhost:8080/"
        },
        "outputId": "55774877-055e-40d1-c5bd-2402ba60690d"
      },
      "source": [
        "import xgboost as xgb\n",
        "\n",
        "xg_reg = xgb.XGBRegressor(objective ='reg:linear')\n",
        "\n",
        "xg_reg.fit(X_train, y_train)"
      ],
      "execution_count": 55,
      "outputs": [
        {
          "output_type": "stream",
          "name": "stdout",
          "text": [
            "[15:43:37] WARNING: /workspace/src/objective/regression_obj.cu:152: reg:linear is now deprecated in favor of reg:squarederror.\n"
          ]
        },
        {
          "output_type": "execute_result",
          "data": {
            "text/plain": [
              "XGBRegressor(base_score=0.5, booster='gbtree', colsample_bylevel=1,\n",
              "             colsample_bynode=1, colsample_bytree=1, gamma=0,\n",
              "             importance_type='gain', learning_rate=0.1, max_delta_step=0,\n",
              "             max_depth=3, min_child_weight=1, missing=None, n_estimators=100,\n",
              "             n_jobs=1, nthread=None, objective='reg:linear', random_state=0,\n",
              "             reg_alpha=0, reg_lambda=1, scale_pos_weight=1, seed=None,\n",
              "             silent=None, subsample=1, verbosity=1)"
            ]
          },
          "metadata": {},
          "execution_count": 55
        }
      ]
    },
    {
      "cell_type": "code",
      "metadata": {
        "trusted": true,
        "id": "R37KExFJ7qcs"
      },
      "source": [
        "y_pred = xg_reg.predict(X_test)"
      ],
      "execution_count": 57,
      "outputs": []
    },
    {
      "cell_type": "code",
      "metadata": {
        "trusted": true,
        "id": "p4R0lrfm7qcs",
        "colab": {
          "base_uri": "https://localhost:8080/"
        },
        "outputId": "515ee916-557e-4459-fc6e-3d49d0210e73"
      },
      "source": [
        "rmspe(y_test,y_pred)"
      ],
      "execution_count": 58,
      "outputs": [
        {
          "output_type": "execute_result",
          "data": {
            "text/plain": [
              "0.3281350734087717"
            ]
          },
          "metadata": {},
          "execution_count": 58
        }
      ]
    }
  ]
}