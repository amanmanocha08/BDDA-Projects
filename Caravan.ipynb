{
 "cells": [
  {
   "cell_type": "markdown",
   "metadata": {
    "id": "wQZnGHY2WCYL"
   },
   "source": [
    "Caravan Insurance Challenge\n",
    "<BR>Group 2</BR>\n",
    "\n",
    "* Aman Manocha -015001 \n",
    "* Umang Dhar Dwivedi -015017 \n",
    "* Paras Mahajan -015037 \n",
    "* Merlin -015027 \n",
    "* Parul singla -015023\n",
    "\n",
    "\n"
   ]
  },
  {
   "cell_type": "markdown",
   "metadata": {
    "id": "_sBCZTwGGSVG"
   },
   "source": [
    "**Objective** - In the notebook we analysed this classification problem using supervised learning models. In present notebook we analysed the Model using following supervised modeling techniques - Decision Tree Model - Random Forest Model -KNN \n",
    "\n",
    "We are predicting the dataset using various models and find the prediction score of all the models.\n"
   ]
  },
  {
   "cell_type": "markdown",
   "metadata": {
    "id": "CKPo24xpwOaK"
   },
   "source": [
    "**Dataset Description and Usage**\n",
    "The dataset that was obtained consists of 86 features, which includes \n",
    "insurance product usage data and social-demographic data. The first 43 attributes are demographic and social data, whereas, the remaining 43 variables are insurance product usage related data which indicate customers of the company’s existing policies such as fire, boat, life, etc. The variable of interest in this dataset is Number_of_mobile_home_policies, which indicates the observations that have bought caravan insurance. This dataset is not set up as individual customer observations and each row represents a group of customers i.e., a large sample size. This might have been done to utilize all the observations and at the same time, keep the number of rows in the dataset to be manageable\n",
    "\n",
    "The field ORIGIN in the caravan-insurance-challenge.csv file has the values train and test, corresponding to the training and evaluation sets, respectively. Each observation corresponds to a postal code. Variables beginning with M refer to demographic statistics of the postal code, while variables beginning with P and A (as well as CARAVAN, the target variable) refer to product ownership and insurance statistics in the postal code.\n",
    "\n",
    "The dataset contains the following features:\n",
    "The data file contains the following fields:\n",
    "\n",
    "* ORIGIN: train or test, as described above\n",
    "* MOSTYPE: Customer Subtype; see L0\n",
    "* MAANTHUI: Number of houses 1 - 10\n",
    "* MGEMOMV: Avg size household 1 - 6\n",
    "* MGEMLEEF: Avg age; see L1\n",
    "* MOSHOOFD: Customer main type; see L2\n",
    "\n",
    "\n",
    "**Percentages in each group, per postal code (see L3):**\n",
    "\n",
    "* MGODRK: Roman catholic\n",
    "* MGODPR: Protestant …\n",
    "* MGODOV: Other religion\n",
    "* MGODGE: No religion\n",
    "* MRELGE: Married\n",
    "* MRELSA: Living together\n",
    "* MRELOV: Other relation\n",
    "* MFALLEEN: Singles\n",
    "* MFGEKIND: Household without children\n",
    "* MFWEKIND: Household with children\n",
    "* MOPLHOOG: High level education\n",
    "* MOPLMIDD: Medium level education\n",
    "* MOPLLAAG: Lower level education\n",
    "* MBERHOOG: High status\n",
    "* MBERZELF: Entrepreneur\n",
    "* MBERBOER: Farmer\n",
    "* MBERMIDD: Middle management\n",
    "* MBERARBG: Skilled labourers\n",
    "* MBERARBO: Unskilled labourers\n",
    "* MSKA: Social class A\n",
    "* MSKB1: Social class B1\n",
    "* MSKB2: Social class B2\n",
    "* MSKC: Social class C\n",
    "* MSKD: Social class D\n",
    "* MHHUUR: Rented house\n",
    "* MHKOOP: Home owners\n",
    "* MAUT1: 1 car\n",
    "* MAUT2: 2 cars\n",
    "* MAUT0: No car\n",
    "* MZFONDS: National Health Service\n",
    "* MZPART: Private health insurance\n",
    "* MINKM30: Income < 30.000\n",
    "* MINK3045: Income 30-45.000\n",
    "* MINK4575: Income 45-75.000\n",
    "* MINK7512: Income 75-122.000\n",
    "* MINK123M: Income >123.000\n",
    "* MINKGEM: Average income\n",
    "* MKOOPKLA: Purchasing power class\n",
    "\n",
    "\n",
    "**Total number of variable in postal code (see L4):**\n",
    "* PWAPART: Contribution private third party insurance\n",
    "* PWABEDR: Contribution third party insurance (firms) …\n",
    "* PWALAND: Contribution third party insurane (agriculture)\n",
    "* PPERSAUT: Contribution car policies\n",
    "* PBESAUT: Contribution delivery van policies\n",
    "* PMOTSCO: Contribution motorcycle/scooter policies\n",
    "* PVRAAUT: Contribution lorry policies\n",
    "* PAANHANG: Contribution trailer policies\n",
    "* PTRACTOR: Contribution tractor policies\n",
    "* PWERKT: Contribution agricultural machines policies\n",
    "* PBROM: Contribution moped policies\n",
    "* PLEVEN: Contribution life insurances\n",
    "* PPERSONG: Contribution private accident insurance policies\n",
    "* PGEZONG: Contribution family accidents insurance policies\n",
    "* PWAOREG: Contribution disability insurance policies\n",
    "* PBRAND: Contribution fire policies\n",
    "* PZEILPL: Contribution surfboard policies\n",
    "* PPLEZIER: Contribution boat policies\n",
    "* PFIETS: Contribution bicycle policies\n",
    "* PINBOED: Contribution property insurance policies\n",
    "* PBYSTAND: Contribution social security insurance policies\n",
    "* AWAPART: Number of private third party insurance 1 - 12\n",
    "* AWABEDR: Number of third party insurance (firms) …\n",
    "* AWALAND: Number of third party insurance (agriculture)\n",
    "* APERSAUT: Number of car policies\n",
    "* ABESAUT: Number of delivery van policies\n",
    "* AMOTSCO: Number of motorcycle/scooter policies\n",
    "* AVRAAUT: Number of lorry policies\n",
    "* AAANHANG: Number of trailer policies\n",
    "* ATRACTOR: Number of tractor policies\n",
    "* AWERKT: Number of agricultural machines policies\n",
    "* ABROM: Number of moped policies\n",
    "* ALEVEN: Number of life insurances\n",
    "* APERSONG: Number of private accident insurance policies\n",
    "* AGEZONG: Number of family accidents insurance policies\n",
    "* AWAOREG: Number of disability insurance policies\n",
    "* ABRAND: Number of fire policies\n",
    "* AZEILPL: Number of surfboard policies\n",
    "* APLEZIER: Number of boat policies\n",
    "* AFIETS: Number of bicycle policies\n",
    "* AINBOED: Number of property insurance policies\n",
    "* ABYSTAND: Number of social security insurance policies\n",
    "* CARAVAN: Number of mobile home policies 0 - 1\n",
    "\n",
    "**Keys (L1 - L4)**\n",
    "L0: Customer subtype\n",
    "* 1: High Income, expensive child\n",
    "* 2: Very Important Provincials\n",
    "* 3: High status seniors\n",
    "* 4: Affluent senior apartments\n",
    "* 5: Mixed seniors\n",
    "* 6: Career and childcare\n",
    "* 7: Dinki's (double income no kids)\n",
    "* 8: Middle class families\n",
    "* 9: Modern, complete families\n",
    "* 10: Stable family\n",
    "* 11: Family starters\n",
    "* 12: Affluent young families\n",
    "* 13: Young all american family\n",
    "* 14: Junior cosmopolitan\n",
    "* 15: Senior cosmopolitans\n",
    "* 16: Students in apartments\n",
    "* 17: Fresh masters in the city\n",
    "* 18: Single youth\n",
    "* 19: Suburban youth\n",
    "* 20: Etnically diverse\n",
    "* 21: Young urban have-nots\n",
    "* 22: Mixed apartment dwellers\n",
    "* 23: Young and rising\n",
    "* 24: Young, low educated\n",
    "* 25: Young seniors in the city\n",
    "* 26: Own home elderly\n",
    "* 27: Seniors in apartments\n",
    "* 28: Residential elderly\n",
    "* 29: Porchless seniors: no front yard\n",
    "* 30: Religious elderly singles\n",
    "* 31: Low income catholics\n",
    "* 32: Mixed seniors\n",
    "* 33: Lower class large families\n",
    "* 34: Large family, employed child\n",
    "* 35: Village families\n",
    "* 36: Couples with teens 'Married with children'\n",
    "* 37: Mixed small town dwellers\n",
    "* 38: Traditional families\n",
    "* 39: Large religous families\n",
    "* 40: Large family farms\n",
    "* 41: Mixed rurals\n",
    "\n",
    "**L1: average age keys:**\n",
    "* 1: 20-30 years\n",
    "* 2: 30-40 years\n",
    "* 3: 40-50 years\n",
    "* 4: 50-60 years\n",
    "* 5: 60-70 years\n",
    "* 6: 70-80 year\n",
    "\n",
    "**L2: customer main type keys:**\n",
    "* 1: Successful hedonists\n",
    "* 2: Driven Growers\n",
    "* 3: Average Family\n",
    "* 4: Career Loners\n",
    "* 5: Living well\n",
    "* 6: Cruising Seniors\n",
    "* 7: Retired and Religeous\n",
    "* 8: Family with grown ups\n",
    "* 9: Conservative families\n",
    "* 10: Farmers\n",
    "\n",
    "**L3: percentage keys:**\n",
    "\n",
    "* 0: 0%\n",
    "* 1: 1 - 10%\n",
    "* 2: 11 - 23%\n",
    "* 3: 24 - 36%\n",
    "* 4: 37 - 49%\n",
    "* 5: 50 - 62%\n",
    "* 6: 63 - 75%\n",
    "* 7: 76 - 88%\n",
    "* 8: 89 - 99%\n",
    "* 9: 100%\n",
    "\n",
    "\n",
    "\n",
    "\n",
    "\n",
    "**L4: total number keys:**\n",
    "* 0: 0\n",
    "* 1: 1 - 49\n",
    "* 2: 50 - 99\n",
    "* 3: 100 - 199\n",
    "* 4: 200 - 499\n",
    "* 5: 500 - 999\n",
    "* 6: 1000 - 4999\n",
    "* 7: 5000 - 9999\n",
    "* 8: 10,000 - 19,999\n",
    "* 9: >= 20,000"
   ]
  },
  {
   "cell_type": "markdown",
   "metadata": {
    "id": "cR6NpoEtaQw2"
   },
   "source": [
    "##Data Exploration"
   ]
  },
  {
   "cell_type": "code",
   "execution_count": 1,
   "metadata": {
    "colab": {
     "base_uri": "https://localhost:8080/"
    },
    "id": "2-9uBZKlqTWm",
    "outputId": "2fd5ea96-0397-4fc4-ec10-2c68ef5fdfe2"
   },
   "outputs": [
    {
     "name": "stdout",
     "output_type": "stream",
     "text": [
      "Requirement already satisfied: category_encoders in /Users/amanmanocha/opt/anaconda3/lib/python3.8/site-packages (2.2.2)\n",
      "Requirement already satisfied: pandas>=0.21.1 in /Users/amanmanocha/opt/anaconda3/lib/python3.8/site-packages (from category_encoders) (1.3.1)\n",
      "Requirement already satisfied: scikit-learn>=0.20.0 in /Users/amanmanocha/opt/anaconda3/lib/python3.8/site-packages (from category_encoders) (0.24.2)\n",
      "Requirement already satisfied: scipy>=1.0.0 in /Users/amanmanocha/opt/anaconda3/lib/python3.8/site-packages (from category_encoders) (1.6.2)\n",
      "Requirement already satisfied: numpy>=1.14.0 in /Users/amanmanocha/opt/anaconda3/lib/python3.8/site-packages (from category_encoders) (1.19.5)\n",
      "Requirement already satisfied: patsy>=0.5.1 in /Users/amanmanocha/opt/anaconda3/lib/python3.8/site-packages (from category_encoders) (0.5.1)\n",
      "Requirement already satisfied: statsmodels>=0.9.0 in /Users/amanmanocha/opt/anaconda3/lib/python3.8/site-packages (from category_encoders) (0.12.2)\n",
      "Requirement already satisfied: python-dateutil>=2.7.3 in /Users/amanmanocha/opt/anaconda3/lib/python3.8/site-packages (from pandas>=0.21.1->category_encoders) (2.8.2)\n",
      "Requirement already satisfied: pytz>=2017.3 in /Users/amanmanocha/opt/anaconda3/lib/python3.8/site-packages (from pandas>=0.21.1->category_encoders) (2021.1)\n",
      "Requirement already satisfied: six in /Users/amanmanocha/opt/anaconda3/lib/python3.8/site-packages (from patsy>=0.5.1->category_encoders) (1.15.0)\n",
      "Requirement already satisfied: joblib>=0.11 in /Users/amanmanocha/opt/anaconda3/lib/python3.8/site-packages (from scikit-learn>=0.20.0->category_encoders) (1.0.1)\n",
      "Requirement already satisfied: threadpoolctl>=2.0.0 in /Users/amanmanocha/opt/anaconda3/lib/python3.8/site-packages (from scikit-learn>=0.20.0->category_encoders) (2.2.0)\n",
      "Note: you may need to restart the kernel to use updated packages.\n"
     ]
    }
   ],
   "source": [
    "pip install category_encoders"
   ]
  },
  {
   "cell_type": "code",
   "execution_count": 2,
   "metadata": {
    "id": "Bh-Pb141WDt-"
   },
   "outputs": [],
   "source": [
    "import numpy as np \n",
    "import pandas as pd\n",
    "import seaborn as sns\n",
    "import plotly.express as px\n",
    "from sklearn import preprocessing\n",
    "import matplotlib.pyplot as plt\n",
    "\n",
    "from category_encoders import TargetEncoder\n",
    "from sklearn.preprocessing import StandardScaler\n",
    "from sklearn.preprocessing import OneHotEncoder\n",
    "\n",
    "from pandas.io.parsers import read_csv\n",
    "from sklearn.model_selection import train_test_split\n",
    "from sklearn.impute import SimpleImputer\n",
    "from sklearn.tree import DecisionTreeClassifier\n",
    "from sklearn.ensemble import RandomForestClassifier\n",
    "from sklearn.neighbors import KNeighborsClassifier\n",
    "from sklearn.metrics import accuracy_score\n",
    "from sklearn.metrics import confusion_matrix, classification_report\n",
    "\n",
    "from sklearn.pipeline import Pipeline\n",
    "from sklearn.compose import ColumnTransformer\n",
    "\n",
    "\n",
    "import warnings\n",
    "warnings.filterwarnings('ignore')"
   ]
  },
  {
   "cell_type": "code",
   "execution_count": 8,
   "metadata": {
    "id": "OXiyWJc-Vt_7"
   },
   "outputs": [],
   "source": [
    "df= pd.read_csv('caravan-insurance-challenge.csv')"
   ]
  },
  {
   "cell_type": "code",
   "execution_count": 9,
   "metadata": {
    "colab": {
     "base_uri": "https://localhost:8080/"
    },
    "id": "_GdCMOnbZJGi",
    "outputId": "029a7d6a-4c6a-4fa9-f6b1-3dafd34d59be"
   },
   "outputs": [
    {
     "data": {
      "text/plain": [
       "(9822, 87)"
      ]
     },
     "execution_count": 9,
     "metadata": {},
     "output_type": "execute_result"
    }
   ],
   "source": [
    "df.shape"
   ]
  },
  {
   "cell_type": "code",
   "execution_count": 10,
   "metadata": {
    "colab": {
     "base_uri": "https://localhost:8080/",
     "height": 254
    },
    "id": "WnOpb8vsV5Vw",
    "outputId": "d6fc5038-9d69-4886-d0dc-def2666d16d7"
   },
   "outputs": [
    {
     "data": {
      "text/html": [
       "<div>\n",
       "<style scoped>\n",
       "    .dataframe tbody tr th:only-of-type {\n",
       "        vertical-align: middle;\n",
       "    }\n",
       "\n",
       "    .dataframe tbody tr th {\n",
       "        vertical-align: top;\n",
       "    }\n",
       "\n",
       "    .dataframe thead th {\n",
       "        text-align: right;\n",
       "    }\n",
       "</style>\n",
       "<table border=\"1\" class=\"dataframe\">\n",
       "  <thead>\n",
       "    <tr style=\"text-align: right;\">\n",
       "      <th></th>\n",
       "      <th>ORIGIN</th>\n",
       "      <th>MOSTYPE</th>\n",
       "      <th>MAANTHUI</th>\n",
       "      <th>MGEMOMV</th>\n",
       "      <th>MGEMLEEF</th>\n",
       "      <th>MOSHOOFD</th>\n",
       "      <th>MGODRK</th>\n",
       "      <th>MGODPR</th>\n",
       "      <th>MGODOV</th>\n",
       "      <th>MGODGE</th>\n",
       "      <th>...</th>\n",
       "      <th>APERSONG</th>\n",
       "      <th>AGEZONG</th>\n",
       "      <th>AWAOREG</th>\n",
       "      <th>ABRAND</th>\n",
       "      <th>AZEILPL</th>\n",
       "      <th>APLEZIER</th>\n",
       "      <th>AFIETS</th>\n",
       "      <th>AINBOED</th>\n",
       "      <th>ABYSTAND</th>\n",
       "      <th>CARAVAN</th>\n",
       "    </tr>\n",
       "  </thead>\n",
       "  <tbody>\n",
       "    <tr>\n",
       "      <th>0</th>\n",
       "      <td>train</td>\n",
       "      <td>33</td>\n",
       "      <td>1</td>\n",
       "      <td>3</td>\n",
       "      <td>2</td>\n",
       "      <td>8</td>\n",
       "      <td>0</td>\n",
       "      <td>5</td>\n",
       "      <td>1</td>\n",
       "      <td>3</td>\n",
       "      <td>...</td>\n",
       "      <td>0</td>\n",
       "      <td>0</td>\n",
       "      <td>0</td>\n",
       "      <td>1</td>\n",
       "      <td>0</td>\n",
       "      <td>0</td>\n",
       "      <td>0</td>\n",
       "      <td>0</td>\n",
       "      <td>0</td>\n",
       "      <td>0</td>\n",
       "    </tr>\n",
       "    <tr>\n",
       "      <th>1</th>\n",
       "      <td>train</td>\n",
       "      <td>37</td>\n",
       "      <td>1</td>\n",
       "      <td>2</td>\n",
       "      <td>2</td>\n",
       "      <td>8</td>\n",
       "      <td>1</td>\n",
       "      <td>4</td>\n",
       "      <td>1</td>\n",
       "      <td>4</td>\n",
       "      <td>...</td>\n",
       "      <td>0</td>\n",
       "      <td>0</td>\n",
       "      <td>0</td>\n",
       "      <td>1</td>\n",
       "      <td>0</td>\n",
       "      <td>0</td>\n",
       "      <td>0</td>\n",
       "      <td>0</td>\n",
       "      <td>0</td>\n",
       "      <td>0</td>\n",
       "    </tr>\n",
       "    <tr>\n",
       "      <th>2</th>\n",
       "      <td>train</td>\n",
       "      <td>37</td>\n",
       "      <td>1</td>\n",
       "      <td>2</td>\n",
       "      <td>2</td>\n",
       "      <td>8</td>\n",
       "      <td>0</td>\n",
       "      <td>4</td>\n",
       "      <td>2</td>\n",
       "      <td>4</td>\n",
       "      <td>...</td>\n",
       "      <td>0</td>\n",
       "      <td>0</td>\n",
       "      <td>0</td>\n",
       "      <td>1</td>\n",
       "      <td>0</td>\n",
       "      <td>0</td>\n",
       "      <td>0</td>\n",
       "      <td>0</td>\n",
       "      <td>0</td>\n",
       "      <td>0</td>\n",
       "    </tr>\n",
       "    <tr>\n",
       "      <th>3</th>\n",
       "      <td>train</td>\n",
       "      <td>9</td>\n",
       "      <td>1</td>\n",
       "      <td>3</td>\n",
       "      <td>3</td>\n",
       "      <td>3</td>\n",
       "      <td>2</td>\n",
       "      <td>3</td>\n",
       "      <td>2</td>\n",
       "      <td>4</td>\n",
       "      <td>...</td>\n",
       "      <td>0</td>\n",
       "      <td>0</td>\n",
       "      <td>0</td>\n",
       "      <td>1</td>\n",
       "      <td>0</td>\n",
       "      <td>0</td>\n",
       "      <td>0</td>\n",
       "      <td>0</td>\n",
       "      <td>0</td>\n",
       "      <td>0</td>\n",
       "    </tr>\n",
       "    <tr>\n",
       "      <th>4</th>\n",
       "      <td>train</td>\n",
       "      <td>40</td>\n",
       "      <td>1</td>\n",
       "      <td>4</td>\n",
       "      <td>2</td>\n",
       "      <td>10</td>\n",
       "      <td>1</td>\n",
       "      <td>4</td>\n",
       "      <td>1</td>\n",
       "      <td>4</td>\n",
       "      <td>...</td>\n",
       "      <td>0</td>\n",
       "      <td>0</td>\n",
       "      <td>0</td>\n",
       "      <td>1</td>\n",
       "      <td>0</td>\n",
       "      <td>0</td>\n",
       "      <td>0</td>\n",
       "      <td>0</td>\n",
       "      <td>0</td>\n",
       "      <td>0</td>\n",
       "    </tr>\n",
       "  </tbody>\n",
       "</table>\n",
       "<p>5 rows × 87 columns</p>\n",
       "</div>"
      ],
      "text/plain": [
       "  ORIGIN  MOSTYPE  MAANTHUI  MGEMOMV  MGEMLEEF  MOSHOOFD  MGODRK  MGODPR  \\\n",
       "0  train       33         1        3         2         8       0       5   \n",
       "1  train       37         1        2         2         8       1       4   \n",
       "2  train       37         1        2         2         8       0       4   \n",
       "3  train        9         1        3         3         3       2       3   \n",
       "4  train       40         1        4         2        10       1       4   \n",
       "\n",
       "   MGODOV  MGODGE  ...  APERSONG  AGEZONG  AWAOREG  ABRAND  AZEILPL  APLEZIER  \\\n",
       "0       1       3  ...         0        0        0       1        0         0   \n",
       "1       1       4  ...         0        0        0       1        0         0   \n",
       "2       2       4  ...         0        0        0       1        0         0   \n",
       "3       2       4  ...         0        0        0       1        0         0   \n",
       "4       1       4  ...         0        0        0       1        0         0   \n",
       "\n",
       "   AFIETS  AINBOED  ABYSTAND  CARAVAN  \n",
       "0       0        0         0        0  \n",
       "1       0        0         0        0  \n",
       "2       0        0         0        0  \n",
       "3       0        0         0        0  \n",
       "4       0        0         0        0  \n",
       "\n",
       "[5 rows x 87 columns]"
      ]
     },
     "execution_count": 10,
     "metadata": {},
     "output_type": "execute_result"
    }
   ],
   "source": [
    "df.head() "
   ]
  },
  {
   "cell_type": "markdown",
   "metadata": {
    "id": "YxejpM9XqyCv"
   },
   "source": [
    "All the columns are of Categorical in Nature i.e. unique values are from 1 to 40"
   ]
  },
  {
   "cell_type": "code",
   "execution_count": 11,
   "metadata": {
    "colab": {
     "base_uri": "https://localhost:8080/"
    },
    "id": "d2aYIY1EV8R8",
    "outputId": "a0e9d3a3-b202-4d6c-f00f-dd68cbb92d3a"
   },
   "outputs": [
    {
     "data": {
      "text/plain": [
       "array(['ORIGIN', 'MOSTYPE', 'MAANTHUI', 'MGEMOMV', 'MGEMLEEF', 'MOSHOOFD',\n",
       "       'MGODRK', 'MGODPR', 'MGODOV', 'MGODGE', 'MRELGE', 'MRELSA',\n",
       "       'MRELOV', 'MFALLEEN', 'MFGEKIND', 'MFWEKIND', 'MOPLHOOG',\n",
       "       'MOPLMIDD', 'MOPLLAAG', 'MBERHOOG', 'MBERZELF', 'MBERBOER',\n",
       "       'MBERMIDD', 'MBERARBG', 'MBERARBO', 'MSKA', 'MSKB1', 'MSKB2',\n",
       "       'MSKC', 'MSKD', 'MHHUUR', 'MHKOOP', 'MAUT1', 'MAUT2', 'MAUT0',\n",
       "       'MZFONDS', 'MZPART', 'MINKM30', 'MINK3045', 'MINK4575', 'MINK7512',\n",
       "       'MINK123M', 'MINKGEM', 'MKOOPKLA', 'PWAPART', 'PWABEDR', 'PWALAND',\n",
       "       'PPERSAUT', 'PBESAUT', 'PMOTSCO', 'PVRAAUT', 'PAANHANG',\n",
       "       'PTRACTOR', 'PWERKT', 'PBROM', 'PLEVEN', 'PPERSONG', 'PGEZONG',\n",
       "       'PWAOREG', 'PBRAND', 'PZEILPL', 'PPLEZIER', 'PFIETS', 'PINBOED',\n",
       "       'PBYSTAND', 'AWAPART', 'AWABEDR', 'AWALAND', 'APERSAUT', 'ABESAUT',\n",
       "       'AMOTSCO', 'AVRAAUT', 'AAANHANG', 'ATRACTOR', 'AWERKT', 'ABROM',\n",
       "       'ALEVEN', 'APERSONG', 'AGEZONG', 'AWAOREG', 'ABRAND', 'AZEILPL',\n",
       "       'APLEZIER', 'AFIETS', 'AINBOED', 'ABYSTAND', 'CARAVAN'],\n",
       "      dtype=object)"
      ]
     },
     "execution_count": 11,
     "metadata": {},
     "output_type": "execute_result"
    }
   ],
   "source": [
    "df.columns.values"
   ]
  },
  {
   "cell_type": "code",
   "execution_count": 12,
   "metadata": {
    "colab": {
     "base_uri": "https://localhost:8080/"
    },
    "id": "oqQ1louAV8Uq",
    "outputId": "d10513ae-7090-4588-b4ba-ebb6b6d9cd7c"
   },
   "outputs": [
    {
     "data": {
      "text/plain": [
       "ORIGIN       2\n",
       "MOSTYPE     40\n",
       "MAANTHUI     9\n",
       "MGEMOMV      6\n",
       "MGEMLEEF     6\n",
       "            ..\n",
       "APLEZIER     3\n",
       "AFIETS       5\n",
       "AINBOED      3\n",
       "ABYSTAND     3\n",
       "CARAVAN      2\n",
       "Length: 87, dtype: int64"
      ]
     },
     "execution_count": 12,
     "metadata": {},
     "output_type": "execute_result"
    }
   ],
   "source": [
    "df.nunique()"
   ]
  },
  {
   "cell_type": "code",
   "execution_count": 13,
   "metadata": {
    "colab": {
     "base_uri": "https://localhost:8080/"
    },
    "id": "mgDXDoXKV8XG",
    "outputId": "5289f5f3-44a7-4a43-8d6d-283bae7c401d"
   },
   "outputs": [
    {
     "name": "stdout",
     "output_type": "stream",
     "text": [
      "<class 'pandas.core.frame.DataFrame'>\n",
      "RangeIndex: 9822 entries, 0 to 9821\n",
      "Data columns (total 87 columns):\n",
      " #   Column    Non-Null Count  Dtype \n",
      "---  ------    --------------  ----- \n",
      " 0   ORIGIN    9822 non-null   object\n",
      " 1   MOSTYPE   9822 non-null   int64 \n",
      " 2   MAANTHUI  9822 non-null   int64 \n",
      " 3   MGEMOMV   9822 non-null   int64 \n",
      " 4   MGEMLEEF  9822 non-null   int64 \n",
      " 5   MOSHOOFD  9822 non-null   int64 \n",
      " 6   MGODRK    9822 non-null   int64 \n",
      " 7   MGODPR    9822 non-null   int64 \n",
      " 8   MGODOV    9822 non-null   int64 \n",
      " 9   MGODGE    9822 non-null   int64 \n",
      " 10  MRELGE    9822 non-null   int64 \n",
      " 11  MRELSA    9822 non-null   int64 \n",
      " 12  MRELOV    9822 non-null   int64 \n",
      " 13  MFALLEEN  9822 non-null   int64 \n",
      " 14  MFGEKIND  9822 non-null   int64 \n",
      " 15  MFWEKIND  9822 non-null   int64 \n",
      " 16  MOPLHOOG  9822 non-null   int64 \n",
      " 17  MOPLMIDD  9822 non-null   int64 \n",
      " 18  MOPLLAAG  9822 non-null   int64 \n",
      " 19  MBERHOOG  9822 non-null   int64 \n",
      " 20  MBERZELF  9822 non-null   int64 \n",
      " 21  MBERBOER  9822 non-null   int64 \n",
      " 22  MBERMIDD  9822 non-null   int64 \n",
      " 23  MBERARBG  9822 non-null   int64 \n",
      " 24  MBERARBO  9822 non-null   int64 \n",
      " 25  MSKA      9822 non-null   int64 \n",
      " 26  MSKB1     9822 non-null   int64 \n",
      " 27  MSKB2     9822 non-null   int64 \n",
      " 28  MSKC      9822 non-null   int64 \n",
      " 29  MSKD      9822 non-null   int64 \n",
      " 30  MHHUUR    9822 non-null   int64 \n",
      " 31  MHKOOP    9822 non-null   int64 \n",
      " 32  MAUT1     9822 non-null   int64 \n",
      " 33  MAUT2     9822 non-null   int64 \n",
      " 34  MAUT0     9822 non-null   int64 \n",
      " 35  MZFONDS   9822 non-null   int64 \n",
      " 36  MZPART    9822 non-null   int64 \n",
      " 37  MINKM30   9822 non-null   int64 \n",
      " 38  MINK3045  9822 non-null   int64 \n",
      " 39  MINK4575  9822 non-null   int64 \n",
      " 40  MINK7512  9822 non-null   int64 \n",
      " 41  MINK123M  9822 non-null   int64 \n",
      " 42  MINKGEM   9822 non-null   int64 \n",
      " 43  MKOOPKLA  9822 non-null   int64 \n",
      " 44  PWAPART   9822 non-null   int64 \n",
      " 45  PWABEDR   9822 non-null   int64 \n",
      " 46  PWALAND   9822 non-null   int64 \n",
      " 47  PPERSAUT  9822 non-null   int64 \n",
      " 48  PBESAUT   9822 non-null   int64 \n",
      " 49  PMOTSCO   9822 non-null   int64 \n",
      " 50  PVRAAUT   9822 non-null   int64 \n",
      " 51  PAANHANG  9822 non-null   int64 \n",
      " 52  PTRACTOR  9822 non-null   int64 \n",
      " 53  PWERKT    9822 non-null   int64 \n",
      " 54  PBROM     9822 non-null   int64 \n",
      " 55  PLEVEN    9822 non-null   int64 \n",
      " 56  PPERSONG  9822 non-null   int64 \n",
      " 57  PGEZONG   9822 non-null   int64 \n",
      " 58  PWAOREG   9822 non-null   int64 \n",
      " 59  PBRAND    9822 non-null   int64 \n",
      " 60  PZEILPL   9822 non-null   int64 \n",
      " 61  PPLEZIER  9822 non-null   int64 \n",
      " 62  PFIETS    9822 non-null   int64 \n",
      " 63  PINBOED   9822 non-null   int64 \n",
      " 64  PBYSTAND  9822 non-null   int64 \n",
      " 65  AWAPART   9822 non-null   int64 \n",
      " 66  AWABEDR   9822 non-null   int64 \n",
      " 67  AWALAND   9822 non-null   int64 \n",
      " 68  APERSAUT  9822 non-null   int64 \n",
      " 69  ABESAUT   9822 non-null   int64 \n",
      " 70  AMOTSCO   9822 non-null   int64 \n",
      " 71  AVRAAUT   9822 non-null   int64 \n",
      " 72  AAANHANG  9822 non-null   int64 \n",
      " 73  ATRACTOR  9822 non-null   int64 \n",
      " 74  AWERKT    9822 non-null   int64 \n",
      " 75  ABROM     9822 non-null   int64 \n",
      " 76  ALEVEN    9822 non-null   int64 \n",
      " 77  APERSONG  9822 non-null   int64 \n",
      " 78  AGEZONG   9822 non-null   int64 \n",
      " 79  AWAOREG   9822 non-null   int64 \n",
      " 80  ABRAND    9822 non-null   int64 \n",
      " 81  AZEILPL   9822 non-null   int64 \n",
      " 82  APLEZIER  9822 non-null   int64 \n",
      " 83  AFIETS    9822 non-null   int64 \n",
      " 84  AINBOED   9822 non-null   int64 \n",
      " 85  ABYSTAND  9822 non-null   int64 \n",
      " 86  CARAVAN   9822 non-null   int64 \n",
      "dtypes: int64(86), object(1)\n",
      "memory usage: 6.5+ MB\n"
     ]
    }
   ],
   "source": [
    "df.info()"
   ]
  },
  {
   "cell_type": "code",
   "execution_count": 14,
   "metadata": {
    "colab": {
     "base_uri": "https://localhost:8080/"
    },
    "id": "PwMaICpNV8Zu",
    "outputId": "4b3723ba-7b5e-43a3-e956-54cfd4514856"
   },
   "outputs": [
    {
     "data": {
      "text/plain": [
       "ORIGIN       2\n",
       "MOSTYPE     40\n",
       "MAANTHUI     9\n",
       "MGEMOMV      6\n",
       "MGEMLEEF     6\n",
       "            ..\n",
       "APLEZIER     3\n",
       "AFIETS       5\n",
       "AINBOED      3\n",
       "ABYSTAND     3\n",
       "CARAVAN      2\n",
       "Length: 87, dtype: int64"
      ]
     },
     "execution_count": 14,
     "metadata": {},
     "output_type": "execute_result"
    }
   ],
   "source": [
    "df.nunique()"
   ]
  },
  {
   "cell_type": "code",
   "execution_count": 17,
   "metadata": {
    "colab": {
     "base_uri": "https://localhost:8080/",
     "height": 441
    },
    "id": "TuxyCpK0V8b6",
    "outputId": "9d69489c-8529-4f7a-ce80-591e772be14f"
   },
   "outputs": [
    {
     "data": {
      "text/html": [
       "<div>\n",
       "<style scoped>\n",
       "    .dataframe tbody tr th:only-of-type {\n",
       "        vertical-align: middle;\n",
       "    }\n",
       "\n",
       "    .dataframe tbody tr th {\n",
       "        vertical-align: top;\n",
       "    }\n",
       "\n",
       "    .dataframe thead th {\n",
       "        text-align: right;\n",
       "    }\n",
       "</style>\n",
       "<table border=\"1\" class=\"dataframe\">\n",
       "  <thead>\n",
       "    <tr style=\"text-align: right;\">\n",
       "      <th></th>\n",
       "      <th>ORIGIN</th>\n",
       "      <th>MOSTYPE</th>\n",
       "      <th>MAANTHUI</th>\n",
       "      <th>MGEMOMV</th>\n",
       "      <th>MGEMLEEF</th>\n",
       "      <th>MOSHOOFD</th>\n",
       "      <th>MGODRK</th>\n",
       "      <th>MGODPR</th>\n",
       "      <th>MGODOV</th>\n",
       "      <th>MGODGE</th>\n",
       "      <th>...</th>\n",
       "      <th>APERSONG</th>\n",
       "      <th>AGEZONG</th>\n",
       "      <th>AWAOREG</th>\n",
       "      <th>ABRAND</th>\n",
       "      <th>AZEILPL</th>\n",
       "      <th>APLEZIER</th>\n",
       "      <th>AFIETS</th>\n",
       "      <th>AINBOED</th>\n",
       "      <th>ABYSTAND</th>\n",
       "      <th>CARAVAN</th>\n",
       "    </tr>\n",
       "  </thead>\n",
       "  <tbody>\n",
       "    <tr>\n",
       "      <th>count</th>\n",
       "      <td>9822</td>\n",
       "      <td>9822.000000</td>\n",
       "      <td>9822.000000</td>\n",
       "      <td>9822.000000</td>\n",
       "      <td>9822.000000</td>\n",
       "      <td>9822.000000</td>\n",
       "      <td>9822.000000</td>\n",
       "      <td>9822.000000</td>\n",
       "      <td>9822.000000</td>\n",
       "      <td>9822.000000</td>\n",
       "      <td>...</td>\n",
       "      <td>9822.000000</td>\n",
       "      <td>9822.000000</td>\n",
       "      <td>9822.000000</td>\n",
       "      <td>9822.000000</td>\n",
       "      <td>9822.000000</td>\n",
       "      <td>9822.000000</td>\n",
       "      <td>9822.00000</td>\n",
       "      <td>9822.000000</td>\n",
       "      <td>9822.000000</td>\n",
       "      <td>9822.000000</td>\n",
       "    </tr>\n",
       "    <tr>\n",
       "      <th>unique</th>\n",
       "      <td>2</td>\n",
       "      <td>NaN</td>\n",
       "      <td>NaN</td>\n",
       "      <td>NaN</td>\n",
       "      <td>NaN</td>\n",
       "      <td>NaN</td>\n",
       "      <td>NaN</td>\n",
       "      <td>NaN</td>\n",
       "      <td>NaN</td>\n",
       "      <td>NaN</td>\n",
       "      <td>...</td>\n",
       "      <td>NaN</td>\n",
       "      <td>NaN</td>\n",
       "      <td>NaN</td>\n",
       "      <td>NaN</td>\n",
       "      <td>NaN</td>\n",
       "      <td>NaN</td>\n",
       "      <td>NaN</td>\n",
       "      <td>NaN</td>\n",
       "      <td>NaN</td>\n",
       "      <td>NaN</td>\n",
       "    </tr>\n",
       "    <tr>\n",
       "      <th>top</th>\n",
       "      <td>train</td>\n",
       "      <td>NaN</td>\n",
       "      <td>NaN</td>\n",
       "      <td>NaN</td>\n",
       "      <td>NaN</td>\n",
       "      <td>NaN</td>\n",
       "      <td>NaN</td>\n",
       "      <td>NaN</td>\n",
       "      <td>NaN</td>\n",
       "      <td>NaN</td>\n",
       "      <td>...</td>\n",
       "      <td>NaN</td>\n",
       "      <td>NaN</td>\n",
       "      <td>NaN</td>\n",
       "      <td>NaN</td>\n",
       "      <td>NaN</td>\n",
       "      <td>NaN</td>\n",
       "      <td>NaN</td>\n",
       "      <td>NaN</td>\n",
       "      <td>NaN</td>\n",
       "      <td>NaN</td>\n",
       "    </tr>\n",
       "    <tr>\n",
       "      <th>freq</th>\n",
       "      <td>5822</td>\n",
       "      <td>NaN</td>\n",
       "      <td>NaN</td>\n",
       "      <td>NaN</td>\n",
       "      <td>NaN</td>\n",
       "      <td>NaN</td>\n",
       "      <td>NaN</td>\n",
       "      <td>NaN</td>\n",
       "      <td>NaN</td>\n",
       "      <td>NaN</td>\n",
       "      <td>...</td>\n",
       "      <td>NaN</td>\n",
       "      <td>NaN</td>\n",
       "      <td>NaN</td>\n",
       "      <td>NaN</td>\n",
       "      <td>NaN</td>\n",
       "      <td>NaN</td>\n",
       "      <td>NaN</td>\n",
       "      <td>NaN</td>\n",
       "      <td>NaN</td>\n",
       "      <td>NaN</td>\n",
       "    </tr>\n",
       "    <tr>\n",
       "      <th>mean</th>\n",
       "      <td>NaN</td>\n",
       "      <td>24.253207</td>\n",
       "      <td>1.108735</td>\n",
       "      <td>2.677561</td>\n",
       "      <td>2.996437</td>\n",
       "      <td>5.779067</td>\n",
       "      <td>0.700672</td>\n",
       "      <td>4.637650</td>\n",
       "      <td>1.050092</td>\n",
       "      <td>3.262981</td>\n",
       "      <td>...</td>\n",
       "      <td>0.004582</td>\n",
       "      <td>0.007941</td>\n",
       "      <td>0.004276</td>\n",
       "      <td>0.574018</td>\n",
       "      <td>0.000916</td>\n",
       "      <td>0.005091</td>\n",
       "      <td>0.03146</td>\n",
       "      <td>0.008450</td>\n",
       "      <td>0.013846</td>\n",
       "      <td>0.059662</td>\n",
       "    </tr>\n",
       "    <tr>\n",
       "      <th>std</th>\n",
       "      <td>NaN</td>\n",
       "      <td>12.918058</td>\n",
       "      <td>0.412101</td>\n",
       "      <td>0.780701</td>\n",
       "      <td>0.804660</td>\n",
       "      <td>2.874148</td>\n",
       "      <td>1.015107</td>\n",
       "      <td>1.721212</td>\n",
       "      <td>1.011156</td>\n",
       "      <td>1.606287</td>\n",
       "      <td>...</td>\n",
       "      <td>0.067535</td>\n",
       "      <td>0.088764</td>\n",
       "      <td>0.071224</td>\n",
       "      <td>0.561255</td>\n",
       "      <td>0.030258</td>\n",
       "      <td>0.077996</td>\n",
       "      <td>0.20907</td>\n",
       "      <td>0.092647</td>\n",
       "      <td>0.117728</td>\n",
       "      <td>0.236872</td>\n",
       "    </tr>\n",
       "    <tr>\n",
       "      <th>min</th>\n",
       "      <td>NaN</td>\n",
       "      <td>1.000000</td>\n",
       "      <td>1.000000</td>\n",
       "      <td>1.000000</td>\n",
       "      <td>1.000000</td>\n",
       "      <td>1.000000</td>\n",
       "      <td>0.000000</td>\n",
       "      <td>0.000000</td>\n",
       "      <td>0.000000</td>\n",
       "      <td>0.000000</td>\n",
       "      <td>...</td>\n",
       "      <td>0.000000</td>\n",
       "      <td>0.000000</td>\n",
       "      <td>0.000000</td>\n",
       "      <td>0.000000</td>\n",
       "      <td>0.000000</td>\n",
       "      <td>0.000000</td>\n",
       "      <td>0.00000</td>\n",
       "      <td>0.000000</td>\n",
       "      <td>0.000000</td>\n",
       "      <td>0.000000</td>\n",
       "    </tr>\n",
       "    <tr>\n",
       "      <th>25%</th>\n",
       "      <td>NaN</td>\n",
       "      <td>10.000000</td>\n",
       "      <td>1.000000</td>\n",
       "      <td>2.000000</td>\n",
       "      <td>2.000000</td>\n",
       "      <td>3.000000</td>\n",
       "      <td>0.000000</td>\n",
       "      <td>4.000000</td>\n",
       "      <td>0.000000</td>\n",
       "      <td>2.000000</td>\n",
       "      <td>...</td>\n",
       "      <td>0.000000</td>\n",
       "      <td>0.000000</td>\n",
       "      <td>0.000000</td>\n",
       "      <td>0.000000</td>\n",
       "      <td>0.000000</td>\n",
       "      <td>0.000000</td>\n",
       "      <td>0.00000</td>\n",
       "      <td>0.000000</td>\n",
       "      <td>0.000000</td>\n",
       "      <td>0.000000</td>\n",
       "    </tr>\n",
       "    <tr>\n",
       "      <th>50%</th>\n",
       "      <td>NaN</td>\n",
       "      <td>30.000000</td>\n",
       "      <td>1.000000</td>\n",
       "      <td>3.000000</td>\n",
       "      <td>3.000000</td>\n",
       "      <td>7.000000</td>\n",
       "      <td>0.000000</td>\n",
       "      <td>5.000000</td>\n",
       "      <td>1.000000</td>\n",
       "      <td>3.000000</td>\n",
       "      <td>...</td>\n",
       "      <td>0.000000</td>\n",
       "      <td>0.000000</td>\n",
       "      <td>0.000000</td>\n",
       "      <td>1.000000</td>\n",
       "      <td>0.000000</td>\n",
       "      <td>0.000000</td>\n",
       "      <td>0.00000</td>\n",
       "      <td>0.000000</td>\n",
       "      <td>0.000000</td>\n",
       "      <td>0.000000</td>\n",
       "    </tr>\n",
       "    <tr>\n",
       "      <th>75%</th>\n",
       "      <td>NaN</td>\n",
       "      <td>35.000000</td>\n",
       "      <td>1.000000</td>\n",
       "      <td>3.000000</td>\n",
       "      <td>3.000000</td>\n",
       "      <td>8.000000</td>\n",
       "      <td>1.000000</td>\n",
       "      <td>6.000000</td>\n",
       "      <td>2.000000</td>\n",
       "      <td>4.000000</td>\n",
       "      <td>...</td>\n",
       "      <td>0.000000</td>\n",
       "      <td>0.000000</td>\n",
       "      <td>0.000000</td>\n",
       "      <td>1.000000</td>\n",
       "      <td>0.000000</td>\n",
       "      <td>0.000000</td>\n",
       "      <td>0.00000</td>\n",
       "      <td>0.000000</td>\n",
       "      <td>0.000000</td>\n",
       "      <td>0.000000</td>\n",
       "    </tr>\n",
       "    <tr>\n",
       "      <th>max</th>\n",
       "      <td>NaN</td>\n",
       "      <td>41.000000</td>\n",
       "      <td>10.000000</td>\n",
       "      <td>6.000000</td>\n",
       "      <td>6.000000</td>\n",
       "      <td>10.000000</td>\n",
       "      <td>9.000000</td>\n",
       "      <td>9.000000</td>\n",
       "      <td>5.000000</td>\n",
       "      <td>9.000000</td>\n",
       "      <td>...</td>\n",
       "      <td>1.000000</td>\n",
       "      <td>1.000000</td>\n",
       "      <td>2.000000</td>\n",
       "      <td>7.000000</td>\n",
       "      <td>1.000000</td>\n",
       "      <td>2.000000</td>\n",
       "      <td>4.00000</td>\n",
       "      <td>2.000000</td>\n",
       "      <td>2.000000</td>\n",
       "      <td>1.000000</td>\n",
       "    </tr>\n",
       "  </tbody>\n",
       "</table>\n",
       "<p>11 rows × 87 columns</p>\n",
       "</div>"
      ],
      "text/plain": [
       "       ORIGIN      MOSTYPE     MAANTHUI      MGEMOMV     MGEMLEEF  \\\n",
       "count    9822  9822.000000  9822.000000  9822.000000  9822.000000   \n",
       "unique      2          NaN          NaN          NaN          NaN   \n",
       "top     train          NaN          NaN          NaN          NaN   \n",
       "freq     5822          NaN          NaN          NaN          NaN   \n",
       "mean      NaN    24.253207     1.108735     2.677561     2.996437   \n",
       "std       NaN    12.918058     0.412101     0.780701     0.804660   \n",
       "min       NaN     1.000000     1.000000     1.000000     1.000000   \n",
       "25%       NaN    10.000000     1.000000     2.000000     2.000000   \n",
       "50%       NaN    30.000000     1.000000     3.000000     3.000000   \n",
       "75%       NaN    35.000000     1.000000     3.000000     3.000000   \n",
       "max       NaN    41.000000    10.000000     6.000000     6.000000   \n",
       "\n",
       "           MOSHOOFD       MGODRK       MGODPR       MGODOV       MGODGE  ...  \\\n",
       "count   9822.000000  9822.000000  9822.000000  9822.000000  9822.000000  ...   \n",
       "unique          NaN          NaN          NaN          NaN          NaN  ...   \n",
       "top             NaN          NaN          NaN          NaN          NaN  ...   \n",
       "freq            NaN          NaN          NaN          NaN          NaN  ...   \n",
       "mean       5.779067     0.700672     4.637650     1.050092     3.262981  ...   \n",
       "std        2.874148     1.015107     1.721212     1.011156     1.606287  ...   \n",
       "min        1.000000     0.000000     0.000000     0.000000     0.000000  ...   \n",
       "25%        3.000000     0.000000     4.000000     0.000000     2.000000  ...   \n",
       "50%        7.000000     0.000000     5.000000     1.000000     3.000000  ...   \n",
       "75%        8.000000     1.000000     6.000000     2.000000     4.000000  ...   \n",
       "max       10.000000     9.000000     9.000000     5.000000     9.000000  ...   \n",
       "\n",
       "           APERSONG      AGEZONG      AWAOREG       ABRAND      AZEILPL  \\\n",
       "count   9822.000000  9822.000000  9822.000000  9822.000000  9822.000000   \n",
       "unique          NaN          NaN          NaN          NaN          NaN   \n",
       "top             NaN          NaN          NaN          NaN          NaN   \n",
       "freq            NaN          NaN          NaN          NaN          NaN   \n",
       "mean       0.004582     0.007941     0.004276     0.574018     0.000916   \n",
       "std        0.067535     0.088764     0.071224     0.561255     0.030258   \n",
       "min        0.000000     0.000000     0.000000     0.000000     0.000000   \n",
       "25%        0.000000     0.000000     0.000000     0.000000     0.000000   \n",
       "50%        0.000000     0.000000     0.000000     1.000000     0.000000   \n",
       "75%        0.000000     0.000000     0.000000     1.000000     0.000000   \n",
       "max        1.000000     1.000000     2.000000     7.000000     1.000000   \n",
       "\n",
       "           APLEZIER      AFIETS      AINBOED     ABYSTAND      CARAVAN  \n",
       "count   9822.000000  9822.00000  9822.000000  9822.000000  9822.000000  \n",
       "unique          NaN         NaN          NaN          NaN          NaN  \n",
       "top             NaN         NaN          NaN          NaN          NaN  \n",
       "freq            NaN         NaN          NaN          NaN          NaN  \n",
       "mean       0.005091     0.03146     0.008450     0.013846     0.059662  \n",
       "std        0.077996     0.20907     0.092647     0.117728     0.236872  \n",
       "min        0.000000     0.00000     0.000000     0.000000     0.000000  \n",
       "25%        0.000000     0.00000     0.000000     0.000000     0.000000  \n",
       "50%        0.000000     0.00000     0.000000     0.000000     0.000000  \n",
       "75%        0.000000     0.00000     0.000000     0.000000     0.000000  \n",
       "max        2.000000     4.00000     2.000000     2.000000     1.000000  \n",
       "\n",
       "[11 rows x 87 columns]"
      ]
     },
     "execution_count": 17,
     "metadata": {},
     "output_type": "execute_result"
    }
   ],
   "source": [
    "df.describe(include='all')"
   ]
  },
  {
   "cell_type": "markdown",
   "metadata": {
    "id": "W4kQr1q-58AM"
   },
   "source": [
    "* Standard Deviation for 25% of the values is nearly 0 and for 75% of the values is slightly towards higher side, which means that Dataset is slightly right skewed. </font>\n",
    "* From the above table it can be refernced that the there is no outliers in our dataset."
   ]
  },
  {
   "cell_type": "markdown",
   "metadata": {
    "id": "lhgLy1i4YAun"
   },
   "source": [
    "### Handling missing values"
   ]
  },
  {
   "cell_type": "code",
   "execution_count": 18,
   "metadata": {
    "colab": {
     "base_uri": "https://localhost:8080/"
    },
    "id": "u9XrENrmV8eZ",
    "outputId": "3230d4d2-e4e6-4308-9f7b-c2b42458849a"
   },
   "outputs": [
    {
     "data": {
      "text/plain": [
       "False"
      ]
     },
     "execution_count": 18,
     "metadata": {},
     "output_type": "execute_result"
    }
   ],
   "source": [
    "df.isnull().values.any()"
   ]
  },
  {
   "cell_type": "code",
   "execution_count": 19,
   "metadata": {
    "colab": {
     "base_uri": "https://localhost:8080/"
    },
    "id": "Fs5Yz4BzV8g3",
    "outputId": "113748a8-e81e-43df-ca9d-59a1466e58e1"
   },
   "outputs": [
    {
     "data": {
      "text/plain": [
       "ORIGIN      0\n",
       "MOSTYPE     0\n",
       "MAANTHUI    0\n",
       "MGEMOMV     0\n",
       "MGEMLEEF    0\n",
       "           ..\n",
       "APLEZIER    0\n",
       "AFIETS      0\n",
       "AINBOED     0\n",
       "ABYSTAND    0\n",
       "CARAVAN     0\n",
       "Length: 87, dtype: int64"
      ]
     },
     "execution_count": 19,
     "metadata": {},
     "output_type": "execute_result"
    }
   ],
   "source": [
    "df.isnull().sum()"
   ]
  },
  {
   "cell_type": "markdown",
   "metadata": {
    "id": "2zzrWeN0aAQ1"
   },
   "source": [
    "No Null values"
   ]
  },
  {
   "cell_type": "code",
   "execution_count": 20,
   "metadata": {
    "colab": {
     "base_uri": "https://localhost:8080/"
    },
    "id": "aC6j14oe1y6t",
    "outputId": "2e8d0b23-ef3d-4076-aa4c-737627b41a96"
   },
   "outputs": [
    {
     "data": {
      "text/plain": [
       "0    9236\n",
       "1     586\n",
       "Name: CARAVAN, dtype: int64"
      ]
     },
     "execution_count": 20,
     "metadata": {},
     "output_type": "execute_result"
    }
   ],
   "source": [
    "df.CARAVAN.value_counts()"
   ]
  },
  {
   "cell_type": "markdown",
   "metadata": {
    "id": "LegP-eri2kVs"
   },
   "source": [
    "**Highly Imbalanced Data**\n",
    "\n",
    "While analysing the target variable column CARAVAN we find dataset is highly imbalance as huge difference in count of target variable i.e. Count of Target Variable Caravan with 0 = 9236 Count of Target Variable Caravan with 1 = 586 In this case accuracy is not very useful matrics. We have to work on confusion matrics and analyse performance better."
   ]
  },
  {
   "cell_type": "markdown",
   "metadata": {
    "id": "DaENswcAYnLV"
   },
   "source": [
    "### Data Visualization"
   ]
  },
  {
   "cell_type": "code",
   "execution_count": 23,
   "metadata": {
    "colab": {
     "base_uri": "https://localhost:8080/",
     "height": 650
    },
    "id": "FUvotGJhYqmv",
    "outputId": "77d1ca33-a045-45ad-c390-d2ef09618051"
   },
   "outputs": [
    {
     "data": {
      "text/plain": [
       "<AxesSubplot:>"
      ]
     },
     "execution_count": 23,
     "metadata": {},
     "output_type": "execute_result"
    }
   ],
   "source": [
    "fig = plt.figure(figsize=(30,20));\n",
    "sns.heatmap(df.corr(),annot=True)"
   ]
  },
  {
   "cell_type": "markdown",
   "metadata": {
    "id": "7uVZvwRS7bcV"
   },
   "source": [
    "###Split Dataset as Train and Test from 'ORIGIN' feature"
   ]
  },
  {
   "cell_type": "code",
   "execution_count": 24,
   "metadata": {
    "colab": {
     "base_uri": "https://localhost:8080/",
     "height": 254
    },
    "id": "NDekWjQB7G2G",
    "outputId": "0b3b23bc-b6b8-4b18-e2b6-ee40a7e95fbd"
   },
   "outputs": [
    {
     "data": {
      "text/html": [
       "<div>\n",
       "<style scoped>\n",
       "    .dataframe tbody tr th:only-of-type {\n",
       "        vertical-align: middle;\n",
       "    }\n",
       "\n",
       "    .dataframe tbody tr th {\n",
       "        vertical-align: top;\n",
       "    }\n",
       "\n",
       "    .dataframe thead th {\n",
       "        text-align: right;\n",
       "    }\n",
       "</style>\n",
       "<table border=\"1\" class=\"dataframe\">\n",
       "  <thead>\n",
       "    <tr style=\"text-align: right;\">\n",
       "      <th></th>\n",
       "      <th>MOSTYPE</th>\n",
       "      <th>MAANTHUI</th>\n",
       "      <th>MGEMOMV</th>\n",
       "      <th>MGEMLEEF</th>\n",
       "      <th>MOSHOOFD</th>\n",
       "      <th>MGODRK</th>\n",
       "      <th>MGODPR</th>\n",
       "      <th>MGODOV</th>\n",
       "      <th>MGODGE</th>\n",
       "      <th>MRELGE</th>\n",
       "      <th>...</th>\n",
       "      <th>APERSONG</th>\n",
       "      <th>AGEZONG</th>\n",
       "      <th>AWAOREG</th>\n",
       "      <th>ABRAND</th>\n",
       "      <th>AZEILPL</th>\n",
       "      <th>APLEZIER</th>\n",
       "      <th>AFIETS</th>\n",
       "      <th>AINBOED</th>\n",
       "      <th>ABYSTAND</th>\n",
       "      <th>CARAVAN</th>\n",
       "    </tr>\n",
       "  </thead>\n",
       "  <tbody>\n",
       "    <tr>\n",
       "      <th>0</th>\n",
       "      <td>33</td>\n",
       "      <td>1</td>\n",
       "      <td>3</td>\n",
       "      <td>2</td>\n",
       "      <td>8</td>\n",
       "      <td>0</td>\n",
       "      <td>5</td>\n",
       "      <td>1</td>\n",
       "      <td>3</td>\n",
       "      <td>7</td>\n",
       "      <td>...</td>\n",
       "      <td>0</td>\n",
       "      <td>0</td>\n",
       "      <td>0</td>\n",
       "      <td>1</td>\n",
       "      <td>0</td>\n",
       "      <td>0</td>\n",
       "      <td>0</td>\n",
       "      <td>0</td>\n",
       "      <td>0</td>\n",
       "      <td>0</td>\n",
       "    </tr>\n",
       "    <tr>\n",
       "      <th>1</th>\n",
       "      <td>37</td>\n",
       "      <td>1</td>\n",
       "      <td>2</td>\n",
       "      <td>2</td>\n",
       "      <td>8</td>\n",
       "      <td>1</td>\n",
       "      <td>4</td>\n",
       "      <td>1</td>\n",
       "      <td>4</td>\n",
       "      <td>6</td>\n",
       "      <td>...</td>\n",
       "      <td>0</td>\n",
       "      <td>0</td>\n",
       "      <td>0</td>\n",
       "      <td>1</td>\n",
       "      <td>0</td>\n",
       "      <td>0</td>\n",
       "      <td>0</td>\n",
       "      <td>0</td>\n",
       "      <td>0</td>\n",
       "      <td>0</td>\n",
       "    </tr>\n",
       "    <tr>\n",
       "      <th>2</th>\n",
       "      <td>37</td>\n",
       "      <td>1</td>\n",
       "      <td>2</td>\n",
       "      <td>2</td>\n",
       "      <td>8</td>\n",
       "      <td>0</td>\n",
       "      <td>4</td>\n",
       "      <td>2</td>\n",
       "      <td>4</td>\n",
       "      <td>3</td>\n",
       "      <td>...</td>\n",
       "      <td>0</td>\n",
       "      <td>0</td>\n",
       "      <td>0</td>\n",
       "      <td>1</td>\n",
       "      <td>0</td>\n",
       "      <td>0</td>\n",
       "      <td>0</td>\n",
       "      <td>0</td>\n",
       "      <td>0</td>\n",
       "      <td>0</td>\n",
       "    </tr>\n",
       "    <tr>\n",
       "      <th>3</th>\n",
       "      <td>9</td>\n",
       "      <td>1</td>\n",
       "      <td>3</td>\n",
       "      <td>3</td>\n",
       "      <td>3</td>\n",
       "      <td>2</td>\n",
       "      <td>3</td>\n",
       "      <td>2</td>\n",
       "      <td>4</td>\n",
       "      <td>5</td>\n",
       "      <td>...</td>\n",
       "      <td>0</td>\n",
       "      <td>0</td>\n",
       "      <td>0</td>\n",
       "      <td>1</td>\n",
       "      <td>0</td>\n",
       "      <td>0</td>\n",
       "      <td>0</td>\n",
       "      <td>0</td>\n",
       "      <td>0</td>\n",
       "      <td>0</td>\n",
       "    </tr>\n",
       "    <tr>\n",
       "      <th>4</th>\n",
       "      <td>40</td>\n",
       "      <td>1</td>\n",
       "      <td>4</td>\n",
       "      <td>2</td>\n",
       "      <td>10</td>\n",
       "      <td>1</td>\n",
       "      <td>4</td>\n",
       "      <td>1</td>\n",
       "      <td>4</td>\n",
       "      <td>7</td>\n",
       "      <td>...</td>\n",
       "      <td>0</td>\n",
       "      <td>0</td>\n",
       "      <td>0</td>\n",
       "      <td>1</td>\n",
       "      <td>0</td>\n",
       "      <td>0</td>\n",
       "      <td>0</td>\n",
       "      <td>0</td>\n",
       "      <td>0</td>\n",
       "      <td>0</td>\n",
       "    </tr>\n",
       "  </tbody>\n",
       "</table>\n",
       "<p>5 rows × 86 columns</p>\n",
       "</div>"
      ],
      "text/plain": [
       "   MOSTYPE  MAANTHUI  MGEMOMV  MGEMLEEF  MOSHOOFD  MGODRK  MGODPR  MGODOV  \\\n",
       "0       33         1        3         2         8       0       5       1   \n",
       "1       37         1        2         2         8       1       4       1   \n",
       "2       37         1        2         2         8       0       4       2   \n",
       "3        9         1        3         3         3       2       3       2   \n",
       "4       40         1        4         2        10       1       4       1   \n",
       "\n",
       "   MGODGE  MRELGE  ...  APERSONG  AGEZONG  AWAOREG  ABRAND  AZEILPL  APLEZIER  \\\n",
       "0       3       7  ...         0        0        0       1        0         0   \n",
       "1       4       6  ...         0        0        0       1        0         0   \n",
       "2       4       3  ...         0        0        0       1        0         0   \n",
       "3       4       5  ...         0        0        0       1        0         0   \n",
       "4       4       7  ...         0        0        0       1        0         0   \n",
       "\n",
       "   AFIETS  AINBOED  ABYSTAND  CARAVAN  \n",
       "0       0        0         0        0  \n",
       "1       0        0         0        0  \n",
       "2       0        0         0        0  \n",
       "3       0        0         0        0  \n",
       "4       0        0         0        0  \n",
       "\n",
       "[5 rows x 86 columns]"
      ]
     },
     "execution_count": 24,
     "metadata": {},
     "output_type": "execute_result"
    }
   ],
   "source": [
    "cc_no_origin_train = df[df['ORIGIN']=='train'].drop(['ORIGIN'], axis=1)\n",
    "cc_no_origin_train.head()"
   ]
  },
  {
   "cell_type": "code",
   "execution_count": 25,
   "metadata": {
    "colab": {
     "base_uri": "https://localhost:8080/",
     "height": 254
    },
    "id": "1HEQ4Ize8K-C",
    "outputId": "b0ba7089-93cd-4706-9b04-1c43b0fadf7a"
   },
   "outputs": [
    {
     "data": {
      "text/html": [
       "<div>\n",
       "<style scoped>\n",
       "    .dataframe tbody tr th:only-of-type {\n",
       "        vertical-align: middle;\n",
       "    }\n",
       "\n",
       "    .dataframe tbody tr th {\n",
       "        vertical-align: top;\n",
       "    }\n",
       "\n",
       "    .dataframe thead th {\n",
       "        text-align: right;\n",
       "    }\n",
       "</style>\n",
       "<table border=\"1\" class=\"dataframe\">\n",
       "  <thead>\n",
       "    <tr style=\"text-align: right;\">\n",
       "      <th></th>\n",
       "      <th>MOSTYPE</th>\n",
       "      <th>MAANTHUI</th>\n",
       "      <th>MGEMOMV</th>\n",
       "      <th>MGEMLEEF</th>\n",
       "      <th>MOSHOOFD</th>\n",
       "      <th>MGODRK</th>\n",
       "      <th>MGODPR</th>\n",
       "      <th>MGODOV</th>\n",
       "      <th>MGODGE</th>\n",
       "      <th>MRELGE</th>\n",
       "      <th>...</th>\n",
       "      <th>APERSONG</th>\n",
       "      <th>AGEZONG</th>\n",
       "      <th>AWAOREG</th>\n",
       "      <th>ABRAND</th>\n",
       "      <th>AZEILPL</th>\n",
       "      <th>APLEZIER</th>\n",
       "      <th>AFIETS</th>\n",
       "      <th>AINBOED</th>\n",
       "      <th>ABYSTAND</th>\n",
       "      <th>CARAVAN</th>\n",
       "    </tr>\n",
       "  </thead>\n",
       "  <tbody>\n",
       "    <tr>\n",
       "      <th>5822</th>\n",
       "      <td>33</td>\n",
       "      <td>1</td>\n",
       "      <td>4</td>\n",
       "      <td>2</td>\n",
       "      <td>8</td>\n",
       "      <td>0</td>\n",
       "      <td>6</td>\n",
       "      <td>0</td>\n",
       "      <td>3</td>\n",
       "      <td>5</td>\n",
       "      <td>...</td>\n",
       "      <td>0</td>\n",
       "      <td>0</td>\n",
       "      <td>0</td>\n",
       "      <td>1</td>\n",
       "      <td>0</td>\n",
       "      <td>0</td>\n",
       "      <td>0</td>\n",
       "      <td>0</td>\n",
       "      <td>0</td>\n",
       "      <td>0</td>\n",
       "    </tr>\n",
       "    <tr>\n",
       "      <th>5823</th>\n",
       "      <td>6</td>\n",
       "      <td>1</td>\n",
       "      <td>3</td>\n",
       "      <td>2</td>\n",
       "      <td>2</td>\n",
       "      <td>0</td>\n",
       "      <td>5</td>\n",
       "      <td>0</td>\n",
       "      <td>4</td>\n",
       "      <td>5</td>\n",
       "      <td>...</td>\n",
       "      <td>0</td>\n",
       "      <td>0</td>\n",
       "      <td>0</td>\n",
       "      <td>1</td>\n",
       "      <td>0</td>\n",
       "      <td>0</td>\n",
       "      <td>0</td>\n",
       "      <td>0</td>\n",
       "      <td>0</td>\n",
       "      <td>1</td>\n",
       "    </tr>\n",
       "    <tr>\n",
       "      <th>5824</th>\n",
       "      <td>39</td>\n",
       "      <td>1</td>\n",
       "      <td>3</td>\n",
       "      <td>3</td>\n",
       "      <td>9</td>\n",
       "      <td>1</td>\n",
       "      <td>4</td>\n",
       "      <td>2</td>\n",
       "      <td>3</td>\n",
       "      <td>5</td>\n",
       "      <td>...</td>\n",
       "      <td>0</td>\n",
       "      <td>0</td>\n",
       "      <td>0</td>\n",
       "      <td>1</td>\n",
       "      <td>0</td>\n",
       "      <td>0</td>\n",
       "      <td>0</td>\n",
       "      <td>0</td>\n",
       "      <td>0</td>\n",
       "      <td>0</td>\n",
       "    </tr>\n",
       "    <tr>\n",
       "      <th>5825</th>\n",
       "      <td>9</td>\n",
       "      <td>1</td>\n",
       "      <td>2</td>\n",
       "      <td>3</td>\n",
       "      <td>3</td>\n",
       "      <td>2</td>\n",
       "      <td>3</td>\n",
       "      <td>2</td>\n",
       "      <td>4</td>\n",
       "      <td>5</td>\n",
       "      <td>...</td>\n",
       "      <td>0</td>\n",
       "      <td>0</td>\n",
       "      <td>0</td>\n",
       "      <td>1</td>\n",
       "      <td>0</td>\n",
       "      <td>0</td>\n",
       "      <td>0</td>\n",
       "      <td>0</td>\n",
       "      <td>0</td>\n",
       "      <td>0</td>\n",
       "    </tr>\n",
       "    <tr>\n",
       "      <th>5826</th>\n",
       "      <td>31</td>\n",
       "      <td>1</td>\n",
       "      <td>2</td>\n",
       "      <td>4</td>\n",
       "      <td>7</td>\n",
       "      <td>0</td>\n",
       "      <td>2</td>\n",
       "      <td>0</td>\n",
       "      <td>7</td>\n",
       "      <td>9</td>\n",
       "      <td>...</td>\n",
       "      <td>0</td>\n",
       "      <td>0</td>\n",
       "      <td>0</td>\n",
       "      <td>1</td>\n",
       "      <td>0</td>\n",
       "      <td>0</td>\n",
       "      <td>0</td>\n",
       "      <td>0</td>\n",
       "      <td>0</td>\n",
       "      <td>0</td>\n",
       "    </tr>\n",
       "  </tbody>\n",
       "</table>\n",
       "<p>5 rows × 86 columns</p>\n",
       "</div>"
      ],
      "text/plain": [
       "      MOSTYPE  MAANTHUI  MGEMOMV  MGEMLEEF  MOSHOOFD  MGODRK  MGODPR  MGODOV  \\\n",
       "5822       33         1        4         2         8       0       6       0   \n",
       "5823        6         1        3         2         2       0       5       0   \n",
       "5824       39         1        3         3         9       1       4       2   \n",
       "5825        9         1        2         3         3       2       3       2   \n",
       "5826       31         1        2         4         7       0       2       0   \n",
       "\n",
       "      MGODGE  MRELGE  ...  APERSONG  AGEZONG  AWAOREG  ABRAND  AZEILPL  \\\n",
       "5822       3       5  ...         0        0        0       1        0   \n",
       "5823       4       5  ...         0        0        0       1        0   \n",
       "5824       3       5  ...         0        0        0       1        0   \n",
       "5825       4       5  ...         0        0        0       1        0   \n",
       "5826       7       9  ...         0        0        0       1        0   \n",
       "\n",
       "      APLEZIER  AFIETS  AINBOED  ABYSTAND  CARAVAN  \n",
       "5822         0       0        0         0        0  \n",
       "5823         0       0        0         0        1  \n",
       "5824         0       0        0         0        0  \n",
       "5825         0       0        0         0        0  \n",
       "5826         0       0        0         0        0  \n",
       "\n",
       "[5 rows x 86 columns]"
      ]
     },
     "execution_count": 25,
     "metadata": {},
     "output_type": "execute_result"
    }
   ],
   "source": [
    "cc_no_origin_test = df[df['ORIGIN']=='test'].drop(['ORIGIN'], axis=1)\n",
    "cc_no_origin_test.head()"
   ]
  },
  {
   "cell_type": "markdown",
   "metadata": {
    "id": "aAJRhO3dIc2q"
   },
   "source": [
    "### Count of different values in CARAVAN & different values in customer subtype"
   ]
  },
  {
   "cell_type": "code",
   "execution_count": 26,
   "metadata": {
    "colab": {
     "base_uri": "https://localhost:8080/",
     "height": 418
    },
    "id": "8JfwK8-Ho6Pe",
    "outputId": "4dd15108-8633-411f-e34f-a8c08baa3140"
   },
   "outputs": [],
   "source": [
    "fig = plt.figure(figsize=(10,10));\n",
    "\n",
    "# Plot Telling the total count of different values in CARAVAN\n",
    "plt.subplot(3,1,1);\n",
    "cc_no_origin_train['CARAVAN'].value_counts().plot(kind='bar', title='Classifying CARAVAN', color='#10bbd4', grid=True);\n",
    "\n",
    "# Plot Telling the total count of different values in customer subtype\n",
    "plt.subplot(3,1,2);\n",
    "cc_no_origin_train['MOSTYPE'].value_counts().plot(kind='bar', align='center', title='Classifying Customer Subtypes', color='#10bbd4', grid=True);"
   ]
  },
  {
   "cell_type": "markdown",
   "metadata": {
    "id": "3Ir4P8hEH50-"
   },
   "source": [
    "So, Lower class large families Customer Subtypes are more and Negligible Number of Customers bought CARAVAN mobile home policies\n",
    "\n"
   ]
  },
  {
   "cell_type": "markdown",
   "metadata": {
    "id": "KRsSrFqxITZq"
   },
   "source": [
    "### Dependency of prefering caravan policy based on category subtype"
   ]
  },
  {
   "cell_type": "code",
   "execution_count": 31,
   "metadata": {
    "colab": {
     "base_uri": "https://localhost:8080/",
     "height": 589
    },
    "id": "JOjAwTeyo6Sq",
    "outputId": "0beb1770-52aa-4c67-f7ad-9c30a749ba2b"
   },
   "outputs": [],
   "source": [
    "\n",
    "categorysubtype_caravan = pd.crosstab(cc_no_origin_train['MOSTYPE'], cc_no_origin_train['CARAVAN']);\n",
    "categorysubtype_caravan_percentage = categorysubtype_caravan.div(categorysubtype_caravan.sum(1).astype(float), axis=0);\n",
    "categorysubtype_caravan_percentage.plot(figsize= (15,10), kind='barh', stacked=True, color=['#10bbd4', 'Crimson'], title='Category Subtype vs Caravan', grid=True);\n",
    "plt.xlabel('Category Subtype');\n",
    "plt.ylabel('CARAVAN or not');"
   ]
  },
  {
   "cell_type": "markdown",
   "metadata": {
    "id": "bidA7hqSIJyI"
   },
   "source": [
    "Senior cosmopolitans, Students in apartments, Fresh masters in the city, Single youth, Suburban youth, Large family farms don't have a single Caravan Policy whereas Middle class families, Affluent young families subtypes have most of the Caravan Policies"
   ]
  },
  {
   "cell_type": "markdown",
   "metadata": {
    "id": "Vp874-tQIOR_"
   },
   "source": [
    "### Dependency of preferring caravan policy based on age"
   ]
  },
  {
   "cell_type": "code",
   "execution_count": 30,
   "metadata": {
    "colab": {
     "base_uri": "https://localhost:8080/",
     "height": 225
    },
    "id": "4HyfLzXqo6Uq",
    "outputId": "2062c2a6-2631-47ea-8261-65444a2b8a15"
   },
   "outputs": [],
   "source": [
    "cc_no_origin_train['MGEMLEEF'].hist(figsize=(5,3), fc='#10bbd4', grid=True);\n",
    "plt.xlabel('age');\n",
    "plt.ylabel('count');"
   ]
  },
  {
   "cell_type": "markdown",
   "metadata": {
    "id": "X4Sa3ELKI6yO"
   },
   "source": [
    "40-50 Yrs Age group bought most policies whereas 20-30 & 70-80 Age groups don't prefer buying any Policies\n",
    "\n"
   ]
  },
  {
   "cell_type": "code",
   "execution_count": 32,
   "metadata": {
    "colab": {
     "base_uri": "https://localhost:8080/",
     "height": 241
    },
    "id": "xjyvTCvLo6Wu",
    "outputId": "6df9410e-fd0c-4513-ffb3-45ae0e5accea"
   },
   "outputs": [],
   "source": [
    "age_caravan = pd.crosstab(cc_no_origin_train['MGEMLEEF'], cc_no_origin_train['CARAVAN']);\n",
    "age_caravan_percentage = age_caravan.div(age_caravan.sum(1).astype(float),axis=0);\n",
    "age_caravan_percentage.plot(figsize=(5,3), kind='barh', stacked=True, color=['#10bbd4', 'Crimson'], title='Dependency of Caravan on age groups', grid=True);\n",
    "plt.xlabel('Age Groups');\n",
    "plt.ylabel('Caravan');"
   ]
  },
  {
   "cell_type": "markdown",
   "metadata": {
    "id": "QWbusaD2JEP1"
   },
   "source": [
    "Age group 1: 20-30yrs don't prefer the caravan policy. thus Age, Subtype are important features for correct classification."
   ]
  },
  {
   "cell_type": "markdown",
   "metadata": {
    "id": "tx1wl4wPJLaV"
   },
   "source": [
    "### Dependency of prefering Caravan policy based on Customer type"
   ]
  },
  {
   "cell_type": "code",
   "execution_count": null,
   "metadata": {
    "colab": {
     "base_uri": "https://localhost:8080/",
     "height": 279
    },
    "id": "zDlfXxsKo6bq",
    "outputId": "b2f6250e-ee98-4137-a706-8e6398bbe8bc"
   },
   "outputs": [
    {
     "data": {
      "image/png": "[encoded data removed]",
      "text/plain": [
       "<Figure size 432x288 with 1 Axes>"
      ]
     },
     "metadata": {
      "needs_background": "light"
     },
     "output_type": "display_data"
    }
   ],
   "source": [
    "cc_no_origin_train['MOSHOOFD'].value_counts().plot(kind='barh', color='#10bbd4', grid=True);\n",
    "plt.xlabel('Customer Types');\n",
    "plt.ylabel('count');"
   ]
  },
  {
   "cell_type": "markdown",
   "metadata": {
    "id": "-OdrU65UDtUh"
   },
   "source": [
    "Customer types count is highest at 8  and lowest at 4\n"
   ]
  },
  {
   "cell_type": "code",
   "execution_count": null,
   "metadata": {
    "colab": {
     "base_uri": "https://localhost:8080/",
     "height": 279
    },
    "id": "3SqZbr_yJZMG",
    "outputId": "144c1f02-abb5-4abc-d78e-3495b9fca4cd"
   },
   "outputs": [
    {
     "data": {
      "image/png": "[encoded data removed]",
      "text/plain": [
       "<Figure size 432x288 with 1 Axes>"
      ]
     },
     "metadata": {
      "needs_background": "light"
     },
     "output_type": "display_data"
    }
   ],
   "source": [
    "cust_type_caravan = pd.crosstab(cc_no_origin_train['MOSHOOFD'], cc_no_origin_train['CARAVAN']);\n",
    "cust_type_caravan_percentage = cust_type_caravan.div(cust_type_caravan.sum(1).astype(float), axis=0);\n",
    "cust_type_caravan_percentage.plot(kind='barh', stacked=True, color = ['#10bbd4', 'Crimson']);\n",
    "plt.xlabel('Customer types');\n",
    "plt.ylabel('Caravan');"
   ]
  },
  {
   "cell_type": "markdown",
   "metadata": {
    "id": "GUnkpUlRJVmJ"
   },
   "source": [
    "We can verify that Customer main types 'Family with grown ups' and 'Driven Growers' are important features"
   ]
  },
  {
   "cell_type": "markdown",
   "metadata": {
    "id": "gAscdZcC3HRq"
   },
   "source": [
    "##Drop unnecessary columns"
   ]
  },
  {
   "cell_type": "code",
   "execution_count": null,
   "metadata": {
    "colab": {
     "base_uri": "https://localhost:8080/"
    },
    "id": "xxqpd-vN27PY",
    "outputId": "c3d8699c-6168-4845-a473-b3b9d08c942b"
   },
   "outputs": [
    {
     "name": "stdout",
     "output_type": "stream",
     "text": [
      "[]\n"
     ]
    }
   ],
   "source": [
    "#Remove unnecessary columns\n",
    "#check standard deviation.if std() is zero drop those columns\n",
    "#Removal list initialize\n",
    "rem = []\n",
    "\n",
    "#Add constant columns as they don't help in prediction process\n",
    "for c in cc_no_origin_train.columns:\n",
    "    if cc_no_origin_train[c].std() == 0: #standard deviation is zero\n",
    "        rem.append(c)\n",
    "\n",
    "#drop the columns        \n",
    "cc_no_origin_train.drop(rem,axis=1,inplace=True)\n",
    "\n",
    "print(rem)\n",
    "\n",
    "#Following columns are dropped"
   ]
  },
  {
   "cell_type": "markdown",
   "metadata": {
    "id": "DNZP-YFV3R1m"
   },
   "source": [
    "No unnecessary columns found"
   ]
  },
  {
   "cell_type": "markdown",
   "metadata": {
    "id": "npdQ8WMKoHDa"
   },
   "source": [
    "##Feature Engineering"
   ]
  },
  {
   "cell_type": "markdown",
   "metadata": {
    "id": "PvMe6RSVNZlf"
   },
   "source": [
    "###Splitting the dataset"
   ]
  },
  {
   "cell_type": "code",
   "execution_count": null,
   "metadata": {
    "id": "wbhf2YvgLlNl"
   },
   "outputs": [],
   "source": [
    "#Divide the train and test data into X_train,y_train,X_test and y_test\n",
    "\n",
    "y_train = cc_no_origin_train.pop(\"CARAVAN\")\n",
    "X_train = cc_no_origin_train\n",
    "y_test = cc_no_origin_test.pop(\"CARAVAN\")\n",
    "X_test = cc_no_origin_test"
   ]
  },
  {
   "cell_type": "markdown",
   "metadata": {
    "id": "zWlW26b15Etw"
   },
   "source": [
    "###Handling Numerical and Categorical Attributes"
   ]
  },
  {
   "cell_type": "code",
   "execution_count": null,
   "metadata": {
    "colab": {
     "base_uri": "https://localhost:8080/"
    },
    "id": "3pGpRXYZMqCp",
    "outputId": "a8d0724f-54b4-4d1b-efa0-ac4a95a5978c"
   },
   "outputs": [
    {
     "data": {
      "text/plain": [
       "[]"
      ]
     },
     "execution_count": 89,
     "metadata": {},
     "output_type": "execute_result"
    }
   ],
   "source": [
    "colunique=X_train.nunique\n",
    "cols= (X_train.nunique() < 41 )\n",
    "cols\n",
    "cat_cols = cols[cols==True].index.tolist()\n",
    "num_cols = cols[cols==False].index.tolist()\n",
    "cat_cols\n",
    "num_cols"
   ]
  },
  {
   "cell_type": "markdown",
   "metadata": {
    "id": "eus-i2oSopWs"
   },
   "source": [
    "###Applying MinMax Scaling \n",
    "\n",
    "\n"
   ]
  },
  {
   "cell_type": "code",
   "execution_count": null,
   "metadata": {
    "id": "ROp4AgeeS27O"
   },
   "outputs": [],
   "source": [
    "from sklearn.preprocessing import MinMaxScaler\n",
    "scaler = MinMaxScaler()\n",
    "X_train[X_train.columns] = scaler.fit_transform(X_train[X_train.columns])\n",
    "X_test[X_test.columns] = scaler.transform(X_test[X_test.columns])"
   ]
  },
  {
   "cell_type": "code",
   "execution_count": null,
   "metadata": {
    "id": "n4GFqR1sDNID"
   },
   "outputs": [],
   "source": [
    "X_scaled = preprocessing.scale(X_train)"
   ]
  },
  {
   "cell_type": "markdown",
   "metadata": {
    "id": "klBicElqE2aU"
   },
   "source": [
    "##Modelling"
   ]
  },
  {
   "cell_type": "code",
   "execution_count": null,
   "metadata": {
    "colab": {
     "base_uri": "https://localhost:8080/",
     "height": 254
    },
    "id": "p2_ovDAnTFOY",
    "outputId": "252f1885-75b4-4421-ca3b-d312d2d6e440"
   },
   "outputs": [
    {
     "data": {
      "text/html": [
       "<div>\n",
       "<style scoped>\n",
       "    .dataframe tbody tr th:only-of-type {\n",
       "        vertical-align: middle;\n",
       "    }\n",
       "\n",
       "    .dataframe tbody tr th {\n",
       "        vertical-align: top;\n",
       "    }\n",
       "\n",
       "    .dataframe thead th {\n",
       "        text-align: right;\n",
       "    }\n",
       "</style>\n",
       "<table border=\"1\" class=\"dataframe\">\n",
       "  <thead>\n",
       "    <tr style=\"text-align: right;\">\n",
       "      <th></th>\n",
       "      <th>MOSTYPE</th>\n",
       "      <th>MAANTHUI</th>\n",
       "      <th>MGEMOMV</th>\n",
       "      <th>MGEMLEEF</th>\n",
       "      <th>MOSHOOFD</th>\n",
       "      <th>MGODRK</th>\n",
       "      <th>MGODPR</th>\n",
       "      <th>MGODOV</th>\n",
       "      <th>MGODGE</th>\n",
       "      <th>MRELGE</th>\n",
       "      <th>MRELSA</th>\n",
       "      <th>MRELOV</th>\n",
       "      <th>MFALLEEN</th>\n",
       "      <th>MFGEKIND</th>\n",
       "      <th>MFWEKIND</th>\n",
       "      <th>MOPLHOOG</th>\n",
       "      <th>MOPLMIDD</th>\n",
       "      <th>MOPLLAAG</th>\n",
       "      <th>MBERHOOG</th>\n",
       "      <th>MBERZELF</th>\n",
       "      <th>MBERBOER</th>\n",
       "      <th>MBERMIDD</th>\n",
       "      <th>MBERARBG</th>\n",
       "      <th>MBERARBO</th>\n",
       "      <th>MSKA</th>\n",
       "      <th>MSKB1</th>\n",
       "      <th>MSKB2</th>\n",
       "      <th>MSKC</th>\n",
       "      <th>MSKD</th>\n",
       "      <th>MHHUUR</th>\n",
       "      <th>MHKOOP</th>\n",
       "      <th>MAUT1</th>\n",
       "      <th>MAUT2</th>\n",
       "      <th>MAUT0</th>\n",
       "      <th>MZFONDS</th>\n",
       "      <th>MZPART</th>\n",
       "      <th>MINKM30</th>\n",
       "      <th>MINK3045</th>\n",
       "      <th>MINK4575</th>\n",
       "      <th>MINK7512</th>\n",
       "      <th>...</th>\n",
       "      <th>PWALAND</th>\n",
       "      <th>PPERSAUT</th>\n",
       "      <th>PBESAUT</th>\n",
       "      <th>PMOTSCO</th>\n",
       "      <th>PVRAAUT</th>\n",
       "      <th>PAANHANG</th>\n",
       "      <th>PTRACTOR</th>\n",
       "      <th>PWERKT</th>\n",
       "      <th>PBROM</th>\n",
       "      <th>PLEVEN</th>\n",
       "      <th>PPERSONG</th>\n",
       "      <th>PGEZONG</th>\n",
       "      <th>PWAOREG</th>\n",
       "      <th>PBRAND</th>\n",
       "      <th>PZEILPL</th>\n",
       "      <th>PPLEZIER</th>\n",
       "      <th>PFIETS</th>\n",
       "      <th>PINBOED</th>\n",
       "      <th>PBYSTAND</th>\n",
       "      <th>AWAPART</th>\n",
       "      <th>AWABEDR</th>\n",
       "      <th>AWALAND</th>\n",
       "      <th>APERSAUT</th>\n",
       "      <th>ABESAUT</th>\n",
       "      <th>AMOTSCO</th>\n",
       "      <th>AVRAAUT</th>\n",
       "      <th>AAANHANG</th>\n",
       "      <th>ATRACTOR</th>\n",
       "      <th>AWERKT</th>\n",
       "      <th>ABROM</th>\n",
       "      <th>ALEVEN</th>\n",
       "      <th>APERSONG</th>\n",
       "      <th>AGEZONG</th>\n",
       "      <th>AWAOREG</th>\n",
       "      <th>ABRAND</th>\n",
       "      <th>AZEILPL</th>\n",
       "      <th>APLEZIER</th>\n",
       "      <th>AFIETS</th>\n",
       "      <th>AINBOED</th>\n",
       "      <th>ABYSTAND</th>\n",
       "    </tr>\n",
       "  </thead>\n",
       "  <tbody>\n",
       "    <tr>\n",
       "      <th>0</th>\n",
       "      <td>0.800</td>\n",
       "      <td>0.0</td>\n",
       "      <td>0.50</td>\n",
       "      <td>0.2</td>\n",
       "      <td>0.777778</td>\n",
       "      <td>0.000000</td>\n",
       "      <td>0.555556</td>\n",
       "      <td>0.2</td>\n",
       "      <td>0.333333</td>\n",
       "      <td>0.777778</td>\n",
       "      <td>0.000000</td>\n",
       "      <td>0.222222</td>\n",
       "      <td>0.111111</td>\n",
       "      <td>0.222222</td>\n",
       "      <td>0.666667</td>\n",
       "      <td>0.111111</td>\n",
       "      <td>0.222222</td>\n",
       "      <td>0.777778</td>\n",
       "      <td>0.111111</td>\n",
       "      <td>0.0</td>\n",
       "      <td>0.111111</td>\n",
       "      <td>0.222222</td>\n",
       "      <td>0.555556</td>\n",
       "      <td>0.222222</td>\n",
       "      <td>0.111111</td>\n",
       "      <td>0.111111</td>\n",
       "      <td>0.222222</td>\n",
       "      <td>0.666667</td>\n",
       "      <td>0.111111</td>\n",
       "      <td>0.111111</td>\n",
       "      <td>0.888889</td>\n",
       "      <td>0.888889</td>\n",
       "      <td>0.000000</td>\n",
       "      <td>0.111111</td>\n",
       "      <td>0.888889</td>\n",
       "      <td>0.111111</td>\n",
       "      <td>0.000000</td>\n",
       "      <td>0.444444</td>\n",
       "      <td>0.555556</td>\n",
       "      <td>0.000000</td>\n",
       "      <td>...</td>\n",
       "      <td>0.0</td>\n",
       "      <td>0.75</td>\n",
       "      <td>0.0</td>\n",
       "      <td>0.0</td>\n",
       "      <td>0.0</td>\n",
       "      <td>0.0</td>\n",
       "      <td>0.0</td>\n",
       "      <td>0.0</td>\n",
       "      <td>0.0</td>\n",
       "      <td>0.0</td>\n",
       "      <td>0.0</td>\n",
       "      <td>0.0</td>\n",
       "      <td>0.0</td>\n",
       "      <td>0.625</td>\n",
       "      <td>0.0</td>\n",
       "      <td>0.0</td>\n",
       "      <td>0.0</td>\n",
       "      <td>0.0</td>\n",
       "      <td>0.0</td>\n",
       "      <td>0.0</td>\n",
       "      <td>0.0</td>\n",
       "      <td>0.0</td>\n",
       "      <td>0.142857</td>\n",
       "      <td>0.0</td>\n",
       "      <td>0.0</td>\n",
       "      <td>0.0</td>\n",
       "      <td>0.0</td>\n",
       "      <td>0.0</td>\n",
       "      <td>0.0</td>\n",
       "      <td>0.0</td>\n",
       "      <td>0.0</td>\n",
       "      <td>0.0</td>\n",
       "      <td>0.0</td>\n",
       "      <td>0.0</td>\n",
       "      <td>0.142857</td>\n",
       "      <td>0.0</td>\n",
       "      <td>0.0</td>\n",
       "      <td>0.0</td>\n",
       "      <td>0.0</td>\n",
       "      <td>0.0</td>\n",
       "    </tr>\n",
       "    <tr>\n",
       "      <th>1</th>\n",
       "      <td>0.900</td>\n",
       "      <td>0.0</td>\n",
       "      <td>0.25</td>\n",
       "      <td>0.2</td>\n",
       "      <td>0.777778</td>\n",
       "      <td>0.111111</td>\n",
       "      <td>0.444444</td>\n",
       "      <td>0.2</td>\n",
       "      <td>0.444444</td>\n",
       "      <td>0.666667</td>\n",
       "      <td>0.285714</td>\n",
       "      <td>0.222222</td>\n",
       "      <td>0.000000</td>\n",
       "      <td>0.444444</td>\n",
       "      <td>0.555556</td>\n",
       "      <td>0.000000</td>\n",
       "      <td>0.555556</td>\n",
       "      <td>0.444444</td>\n",
       "      <td>0.000000</td>\n",
       "      <td>0.0</td>\n",
       "      <td>0.000000</td>\n",
       "      <td>0.555556</td>\n",
       "      <td>0.000000</td>\n",
       "      <td>0.444444</td>\n",
       "      <td>0.000000</td>\n",
       "      <td>0.222222</td>\n",
       "      <td>0.333333</td>\n",
       "      <td>0.555556</td>\n",
       "      <td>0.000000</td>\n",
       "      <td>0.222222</td>\n",
       "      <td>0.777778</td>\n",
       "      <td>0.777778</td>\n",
       "      <td>0.142857</td>\n",
       "      <td>0.222222</td>\n",
       "      <td>0.666667</td>\n",
       "      <td>0.333333</td>\n",
       "      <td>0.222222</td>\n",
       "      <td>0.000000</td>\n",
       "      <td>0.555556</td>\n",
       "      <td>0.222222</td>\n",
       "      <td>...</td>\n",
       "      <td>0.0</td>\n",
       "      <td>0.00</td>\n",
       "      <td>0.0</td>\n",
       "      <td>0.0</td>\n",
       "      <td>0.0</td>\n",
       "      <td>0.0</td>\n",
       "      <td>0.0</td>\n",
       "      <td>0.0</td>\n",
       "      <td>0.0</td>\n",
       "      <td>0.0</td>\n",
       "      <td>0.0</td>\n",
       "      <td>0.0</td>\n",
       "      <td>0.0</td>\n",
       "      <td>0.250</td>\n",
       "      <td>0.0</td>\n",
       "      <td>0.0</td>\n",
       "      <td>0.0</td>\n",
       "      <td>0.0</td>\n",
       "      <td>0.0</td>\n",
       "      <td>1.0</td>\n",
       "      <td>0.0</td>\n",
       "      <td>0.0</td>\n",
       "      <td>0.000000</td>\n",
       "      <td>0.0</td>\n",
       "      <td>0.0</td>\n",
       "      <td>0.0</td>\n",
       "      <td>0.0</td>\n",
       "      <td>0.0</td>\n",
       "      <td>0.0</td>\n",
       "      <td>0.0</td>\n",
       "      <td>0.0</td>\n",
       "      <td>0.0</td>\n",
       "      <td>0.0</td>\n",
       "      <td>0.0</td>\n",
       "      <td>0.142857</td>\n",
       "      <td>0.0</td>\n",
       "      <td>0.0</td>\n",
       "      <td>0.0</td>\n",
       "      <td>0.0</td>\n",
       "      <td>0.0</td>\n",
       "    </tr>\n",
       "    <tr>\n",
       "      <th>2</th>\n",
       "      <td>0.900</td>\n",
       "      <td>0.0</td>\n",
       "      <td>0.25</td>\n",
       "      <td>0.2</td>\n",
       "      <td>0.777778</td>\n",
       "      <td>0.000000</td>\n",
       "      <td>0.444444</td>\n",
       "      <td>0.4</td>\n",
       "      <td>0.444444</td>\n",
       "      <td>0.333333</td>\n",
       "      <td>0.285714</td>\n",
       "      <td>0.444444</td>\n",
       "      <td>0.444444</td>\n",
       "      <td>0.444444</td>\n",
       "      <td>0.222222</td>\n",
       "      <td>0.000000</td>\n",
       "      <td>0.555556</td>\n",
       "      <td>0.444444</td>\n",
       "      <td>0.000000</td>\n",
       "      <td>0.0</td>\n",
       "      <td>0.000000</td>\n",
       "      <td>0.777778</td>\n",
       "      <td>0.000000</td>\n",
       "      <td>0.222222</td>\n",
       "      <td>0.000000</td>\n",
       "      <td>0.555556</td>\n",
       "      <td>0.000000</td>\n",
       "      <td>0.444444</td>\n",
       "      <td>0.000000</td>\n",
       "      <td>0.777778</td>\n",
       "      <td>0.222222</td>\n",
       "      <td>0.777778</td>\n",
       "      <td>0.000000</td>\n",
       "      <td>0.222222</td>\n",
       "      <td>1.000000</td>\n",
       "      <td>0.000000</td>\n",
       "      <td>0.444444</td>\n",
       "      <td>0.555556</td>\n",
       "      <td>0.000000</td>\n",
       "      <td>0.000000</td>\n",
       "      <td>...</td>\n",
       "      <td>0.0</td>\n",
       "      <td>0.75</td>\n",
       "      <td>0.0</td>\n",
       "      <td>0.0</td>\n",
       "      <td>0.0</td>\n",
       "      <td>0.0</td>\n",
       "      <td>0.0</td>\n",
       "      <td>0.0</td>\n",
       "      <td>0.0</td>\n",
       "      <td>0.0</td>\n",
       "      <td>0.0</td>\n",
       "      <td>0.0</td>\n",
       "      <td>0.0</td>\n",
       "      <td>0.250</td>\n",
       "      <td>0.0</td>\n",
       "      <td>0.0</td>\n",
       "      <td>0.0</td>\n",
       "      <td>0.0</td>\n",
       "      <td>0.0</td>\n",
       "      <td>0.5</td>\n",
       "      <td>0.0</td>\n",
       "      <td>0.0</td>\n",
       "      <td>0.142857</td>\n",
       "      <td>0.0</td>\n",
       "      <td>0.0</td>\n",
       "      <td>0.0</td>\n",
       "      <td>0.0</td>\n",
       "      <td>0.0</td>\n",
       "      <td>0.0</td>\n",
       "      <td>0.0</td>\n",
       "      <td>0.0</td>\n",
       "      <td>0.0</td>\n",
       "      <td>0.0</td>\n",
       "      <td>0.0</td>\n",
       "      <td>0.142857</td>\n",
       "      <td>0.0</td>\n",
       "      <td>0.0</td>\n",
       "      <td>0.0</td>\n",
       "      <td>0.0</td>\n",
       "      <td>0.0</td>\n",
       "    </tr>\n",
       "    <tr>\n",
       "      <th>3</th>\n",
       "      <td>0.200</td>\n",
       "      <td>0.0</td>\n",
       "      <td>0.50</td>\n",
       "      <td>0.4</td>\n",
       "      <td>0.222222</td>\n",
       "      <td>0.222222</td>\n",
       "      <td>0.333333</td>\n",
       "      <td>0.4</td>\n",
       "      <td>0.444444</td>\n",
       "      <td>0.555556</td>\n",
       "      <td>0.285714</td>\n",
       "      <td>0.222222</td>\n",
       "      <td>0.222222</td>\n",
       "      <td>0.333333</td>\n",
       "      <td>0.444444</td>\n",
       "      <td>0.333333</td>\n",
       "      <td>0.444444</td>\n",
       "      <td>0.222222</td>\n",
       "      <td>0.444444</td>\n",
       "      <td>0.0</td>\n",
       "      <td>0.000000</td>\n",
       "      <td>0.333333</td>\n",
       "      <td>0.111111</td>\n",
       "      <td>0.222222</td>\n",
       "      <td>0.333333</td>\n",
       "      <td>0.222222</td>\n",
       "      <td>0.111111</td>\n",
       "      <td>0.444444</td>\n",
       "      <td>0.000000</td>\n",
       "      <td>0.555556</td>\n",
       "      <td>0.444444</td>\n",
       "      <td>1.000000</td>\n",
       "      <td>0.000000</td>\n",
       "      <td>0.000000</td>\n",
       "      <td>0.777778</td>\n",
       "      <td>0.222222</td>\n",
       "      <td>0.111111</td>\n",
       "      <td>0.555556</td>\n",
       "      <td>0.333333</td>\n",
       "      <td>0.000000</td>\n",
       "      <td>...</td>\n",
       "      <td>0.0</td>\n",
       "      <td>0.75</td>\n",
       "      <td>0.0</td>\n",
       "      <td>0.0</td>\n",
       "      <td>0.0</td>\n",
       "      <td>0.0</td>\n",
       "      <td>0.0</td>\n",
       "      <td>0.0</td>\n",
       "      <td>0.0</td>\n",
       "      <td>0.0</td>\n",
       "      <td>0.0</td>\n",
       "      <td>0.0</td>\n",
       "      <td>0.0</td>\n",
       "      <td>0.250</td>\n",
       "      <td>0.0</td>\n",
       "      <td>0.0</td>\n",
       "      <td>0.0</td>\n",
       "      <td>0.0</td>\n",
       "      <td>0.0</td>\n",
       "      <td>0.0</td>\n",
       "      <td>0.0</td>\n",
       "      <td>0.0</td>\n",
       "      <td>0.142857</td>\n",
       "      <td>0.0</td>\n",
       "      <td>0.0</td>\n",
       "      <td>0.0</td>\n",
       "      <td>0.0</td>\n",
       "      <td>0.0</td>\n",
       "      <td>0.0</td>\n",
       "      <td>0.0</td>\n",
       "      <td>0.0</td>\n",
       "      <td>0.0</td>\n",
       "      <td>0.0</td>\n",
       "      <td>0.0</td>\n",
       "      <td>0.142857</td>\n",
       "      <td>0.0</td>\n",
       "      <td>0.0</td>\n",
       "      <td>0.0</td>\n",
       "      <td>0.0</td>\n",
       "      <td>0.0</td>\n",
       "    </tr>\n",
       "    <tr>\n",
       "      <th>4</th>\n",
       "      <td>0.975</td>\n",
       "      <td>0.0</td>\n",
       "      <td>0.75</td>\n",
       "      <td>0.2</td>\n",
       "      <td>1.000000</td>\n",
       "      <td>0.111111</td>\n",
       "      <td>0.444444</td>\n",
       "      <td>0.2</td>\n",
       "      <td>0.444444</td>\n",
       "      <td>0.777778</td>\n",
       "      <td>0.142857</td>\n",
       "      <td>0.222222</td>\n",
       "      <td>0.222222</td>\n",
       "      <td>0.444444</td>\n",
       "      <td>0.444444</td>\n",
       "      <td>0.555556</td>\n",
       "      <td>0.444444</td>\n",
       "      <td>0.000000</td>\n",
       "      <td>0.000000</td>\n",
       "      <td>1.0</td>\n",
       "      <td>0.444444</td>\n",
       "      <td>0.000000</td>\n",
       "      <td>0.000000</td>\n",
       "      <td>0.000000</td>\n",
       "      <td>1.000000</td>\n",
       "      <td>0.000000</td>\n",
       "      <td>0.000000</td>\n",
       "      <td>0.000000</td>\n",
       "      <td>0.000000</td>\n",
       "      <td>0.444444</td>\n",
       "      <td>0.555556</td>\n",
       "      <td>0.666667</td>\n",
       "      <td>0.285714</td>\n",
       "      <td>0.111111</td>\n",
       "      <td>0.555556</td>\n",
       "      <td>0.444444</td>\n",
       "      <td>0.000000</td>\n",
       "      <td>0.000000</td>\n",
       "      <td>1.000000</td>\n",
       "      <td>0.000000</td>\n",
       "      <td>...</td>\n",
       "      <td>0.0</td>\n",
       "      <td>0.00</td>\n",
       "      <td>0.0</td>\n",
       "      <td>0.0</td>\n",
       "      <td>0.0</td>\n",
       "      <td>0.0</td>\n",
       "      <td>0.0</td>\n",
       "      <td>0.0</td>\n",
       "      <td>0.0</td>\n",
       "      <td>0.0</td>\n",
       "      <td>0.0</td>\n",
       "      <td>0.0</td>\n",
       "      <td>0.0</td>\n",
       "      <td>0.750</td>\n",
       "      <td>0.0</td>\n",
       "      <td>0.0</td>\n",
       "      <td>0.0</td>\n",
       "      <td>0.0</td>\n",
       "      <td>0.0</td>\n",
       "      <td>0.0</td>\n",
       "      <td>0.0</td>\n",
       "      <td>0.0</td>\n",
       "      <td>0.000000</td>\n",
       "      <td>0.0</td>\n",
       "      <td>0.0</td>\n",
       "      <td>0.0</td>\n",
       "      <td>0.0</td>\n",
       "      <td>0.0</td>\n",
       "      <td>0.0</td>\n",
       "      <td>0.0</td>\n",
       "      <td>0.0</td>\n",
       "      <td>0.0</td>\n",
       "      <td>0.0</td>\n",
       "      <td>0.0</td>\n",
       "      <td>0.142857</td>\n",
       "      <td>0.0</td>\n",
       "      <td>0.0</td>\n",
       "      <td>0.0</td>\n",
       "      <td>0.0</td>\n",
       "      <td>0.0</td>\n",
       "    </tr>\n",
       "  </tbody>\n",
       "</table>\n",
       "<p>5 rows × 85 columns</p>\n",
       "</div>"
      ],
      "text/plain": [
       "   MOSTYPE  MAANTHUI  MGEMOMV  MGEMLEEF  ...  APLEZIER  AFIETS  AINBOED  ABYSTAND\n",
       "0    0.800       0.0     0.50       0.2  ...       0.0     0.0      0.0       0.0\n",
       "1    0.900       0.0     0.25       0.2  ...       0.0     0.0      0.0       0.0\n",
       "2    0.900       0.0     0.25       0.2  ...       0.0     0.0      0.0       0.0\n",
       "3    0.200       0.0     0.50       0.4  ...       0.0     0.0      0.0       0.0\n",
       "4    0.975       0.0     0.75       0.2  ...       0.0     0.0      0.0       0.0\n",
       "\n",
       "[5 rows x 85 columns]"
      ]
     },
     "execution_count": 91,
     "metadata": {},
     "output_type": "execute_result"
    }
   ],
   "source": [
    "X_train.head()"
   ]
  },
  {
   "cell_type": "code",
   "execution_count": null,
   "metadata": {
    "colab": {
     "base_uri": "https://localhost:8080/",
     "height": 254
    },
    "id": "6aIU41IRTMlD",
    "outputId": "91405d35-f271-41ff-f629-8d60f5a6bed8"
   },
   "outputs": [
    {
     "data": {
      "text/html": [
       "<div>\n",
       "<style scoped>\n",
       "    .dataframe tbody tr th:only-of-type {\n",
       "        vertical-align: middle;\n",
       "    }\n",
       "\n",
       "    .dataframe tbody tr th {\n",
       "        vertical-align: top;\n",
       "    }\n",
       "\n",
       "    .dataframe thead th {\n",
       "        text-align: right;\n",
       "    }\n",
       "</style>\n",
       "<table border=\"1\" class=\"dataframe\">\n",
       "  <thead>\n",
       "    <tr style=\"text-align: right;\">\n",
       "      <th></th>\n",
       "      <th>MOSTYPE</th>\n",
       "      <th>MAANTHUI</th>\n",
       "      <th>MGEMOMV</th>\n",
       "      <th>MGEMLEEF</th>\n",
       "      <th>MOSHOOFD</th>\n",
       "      <th>MGODRK</th>\n",
       "      <th>MGODPR</th>\n",
       "      <th>MGODOV</th>\n",
       "      <th>MGODGE</th>\n",
       "      <th>MRELGE</th>\n",
       "      <th>MRELSA</th>\n",
       "      <th>MRELOV</th>\n",
       "      <th>MFALLEEN</th>\n",
       "      <th>MFGEKIND</th>\n",
       "      <th>MFWEKIND</th>\n",
       "      <th>MOPLHOOG</th>\n",
       "      <th>MOPLMIDD</th>\n",
       "      <th>MOPLLAAG</th>\n",
       "      <th>MBERHOOG</th>\n",
       "      <th>MBERZELF</th>\n",
       "      <th>MBERBOER</th>\n",
       "      <th>MBERMIDD</th>\n",
       "      <th>MBERARBG</th>\n",
       "      <th>MBERARBO</th>\n",
       "      <th>MSKA</th>\n",
       "      <th>MSKB1</th>\n",
       "      <th>MSKB2</th>\n",
       "      <th>MSKC</th>\n",
       "      <th>MSKD</th>\n",
       "      <th>MHHUUR</th>\n",
       "      <th>MHKOOP</th>\n",
       "      <th>MAUT1</th>\n",
       "      <th>MAUT2</th>\n",
       "      <th>MAUT0</th>\n",
       "      <th>MZFONDS</th>\n",
       "      <th>MZPART</th>\n",
       "      <th>MINKM30</th>\n",
       "      <th>MINK3045</th>\n",
       "      <th>MINK4575</th>\n",
       "      <th>MINK7512</th>\n",
       "      <th>...</th>\n",
       "      <th>PWALAND</th>\n",
       "      <th>PPERSAUT</th>\n",
       "      <th>PBESAUT</th>\n",
       "      <th>PMOTSCO</th>\n",
       "      <th>PVRAAUT</th>\n",
       "      <th>PAANHANG</th>\n",
       "      <th>PTRACTOR</th>\n",
       "      <th>PWERKT</th>\n",
       "      <th>PBROM</th>\n",
       "      <th>PLEVEN</th>\n",
       "      <th>PPERSONG</th>\n",
       "      <th>PGEZONG</th>\n",
       "      <th>PWAOREG</th>\n",
       "      <th>PBRAND</th>\n",
       "      <th>PZEILPL</th>\n",
       "      <th>PPLEZIER</th>\n",
       "      <th>PFIETS</th>\n",
       "      <th>PINBOED</th>\n",
       "      <th>PBYSTAND</th>\n",
       "      <th>AWAPART</th>\n",
       "      <th>AWABEDR</th>\n",
       "      <th>AWALAND</th>\n",
       "      <th>APERSAUT</th>\n",
       "      <th>ABESAUT</th>\n",
       "      <th>AMOTSCO</th>\n",
       "      <th>AVRAAUT</th>\n",
       "      <th>AAANHANG</th>\n",
       "      <th>ATRACTOR</th>\n",
       "      <th>AWERKT</th>\n",
       "      <th>ABROM</th>\n",
       "      <th>ALEVEN</th>\n",
       "      <th>APERSONG</th>\n",
       "      <th>AGEZONG</th>\n",
       "      <th>AWAOREG</th>\n",
       "      <th>ABRAND</th>\n",
       "      <th>AZEILPL</th>\n",
       "      <th>APLEZIER</th>\n",
       "      <th>AFIETS</th>\n",
       "      <th>AINBOED</th>\n",
       "      <th>ABYSTAND</th>\n",
       "    </tr>\n",
       "  </thead>\n",
       "  <tbody>\n",
       "    <tr>\n",
       "      <th>5822</th>\n",
       "      <td>0.800</td>\n",
       "      <td>0.0</td>\n",
       "      <td>0.75</td>\n",
       "      <td>0.2</td>\n",
       "      <td>0.777778</td>\n",
       "      <td>0.000000</td>\n",
       "      <td>0.666667</td>\n",
       "      <td>0.0</td>\n",
       "      <td>0.333333</td>\n",
       "      <td>0.555556</td>\n",
       "      <td>0.000000</td>\n",
       "      <td>0.444444</td>\n",
       "      <td>0.111111</td>\n",
       "      <td>0.111111</td>\n",
       "      <td>0.888889</td>\n",
       "      <td>0.222222</td>\n",
       "      <td>0.222222</td>\n",
       "      <td>0.666667</td>\n",
       "      <td>0.000000</td>\n",
       "      <td>0.0</td>\n",
       "      <td>0.111111</td>\n",
       "      <td>0.222222</td>\n",
       "      <td>0.666667</td>\n",
       "      <td>0.111111</td>\n",
       "      <td>0.000000</td>\n",
       "      <td>0.222222</td>\n",
       "      <td>0.111111</td>\n",
       "      <td>0.555556</td>\n",
       "      <td>0.333333</td>\n",
       "      <td>0.111111</td>\n",
       "      <td>0.888889</td>\n",
       "      <td>0.888889</td>\n",
       "      <td>0.142857</td>\n",
       "      <td>0.111111</td>\n",
       "      <td>0.888889</td>\n",
       "      <td>0.111111</td>\n",
       "      <td>0.333333</td>\n",
       "      <td>0.333333</td>\n",
       "      <td>0.333333</td>\n",
       "      <td>0.000000</td>\n",
       "      <td>...</td>\n",
       "      <td>0.0</td>\n",
       "      <td>0.000</td>\n",
       "      <td>0.0</td>\n",
       "      <td>0.000000</td>\n",
       "      <td>0.0</td>\n",
       "      <td>0.0</td>\n",
       "      <td>0.0</td>\n",
       "      <td>0.0</td>\n",
       "      <td>0.0</td>\n",
       "      <td>0.000000</td>\n",
       "      <td>0.0</td>\n",
       "      <td>0.0</td>\n",
       "      <td>0.0</td>\n",
       "      <td>0.500</td>\n",
       "      <td>0.0</td>\n",
       "      <td>0.0</td>\n",
       "      <td>0.0</td>\n",
       "      <td>0.0</td>\n",
       "      <td>0.0</td>\n",
       "      <td>0.5</td>\n",
       "      <td>0.0</td>\n",
       "      <td>0.0</td>\n",
       "      <td>0.000000</td>\n",
       "      <td>0.0</td>\n",
       "      <td>0.000</td>\n",
       "      <td>0.0</td>\n",
       "      <td>0.0</td>\n",
       "      <td>0.0</td>\n",
       "      <td>0.0</td>\n",
       "      <td>0.0</td>\n",
       "      <td>0.000</td>\n",
       "      <td>0.0</td>\n",
       "      <td>0.0</td>\n",
       "      <td>0.0</td>\n",
       "      <td>0.142857</td>\n",
       "      <td>0.0</td>\n",
       "      <td>0.0</td>\n",
       "      <td>0.0</td>\n",
       "      <td>0.0</td>\n",
       "      <td>0.0</td>\n",
       "    </tr>\n",
       "    <tr>\n",
       "      <th>5823</th>\n",
       "      <td>0.125</td>\n",
       "      <td>0.0</td>\n",
       "      <td>0.50</td>\n",
       "      <td>0.2</td>\n",
       "      <td>0.111111</td>\n",
       "      <td>0.000000</td>\n",
       "      <td>0.555556</td>\n",
       "      <td>0.0</td>\n",
       "      <td>0.444444</td>\n",
       "      <td>0.555556</td>\n",
       "      <td>0.285714</td>\n",
       "      <td>0.222222</td>\n",
       "      <td>0.111111</td>\n",
       "      <td>0.444444</td>\n",
       "      <td>0.555556</td>\n",
       "      <td>0.555556</td>\n",
       "      <td>0.444444</td>\n",
       "      <td>0.000000</td>\n",
       "      <td>0.555556</td>\n",
       "      <td>0.0</td>\n",
       "      <td>0.000000</td>\n",
       "      <td>0.444444</td>\n",
       "      <td>0.000000</td>\n",
       "      <td>0.000000</td>\n",
       "      <td>0.444444</td>\n",
       "      <td>0.333333</td>\n",
       "      <td>0.000000</td>\n",
       "      <td>0.222222</td>\n",
       "      <td>0.111111</td>\n",
       "      <td>0.333333</td>\n",
       "      <td>0.666667</td>\n",
       "      <td>1.000000</td>\n",
       "      <td>0.000000</td>\n",
       "      <td>0.000000</td>\n",
       "      <td>0.777778</td>\n",
       "      <td>0.222222</td>\n",
       "      <td>0.111111</td>\n",
       "      <td>0.111111</td>\n",
       "      <td>0.555556</td>\n",
       "      <td>0.444444</td>\n",
       "      <td>...</td>\n",
       "      <td>0.0</td>\n",
       "      <td>0.750</td>\n",
       "      <td>0.0</td>\n",
       "      <td>0.571429</td>\n",
       "      <td>0.0</td>\n",
       "      <td>0.0</td>\n",
       "      <td>0.0</td>\n",
       "      <td>0.0</td>\n",
       "      <td>0.0</td>\n",
       "      <td>0.333333</td>\n",
       "      <td>0.0</td>\n",
       "      <td>0.0</td>\n",
       "      <td>0.0</td>\n",
       "      <td>0.500</td>\n",
       "      <td>0.0</td>\n",
       "      <td>0.0</td>\n",
       "      <td>0.0</td>\n",
       "      <td>0.0</td>\n",
       "      <td>0.0</td>\n",
       "      <td>0.5</td>\n",
       "      <td>0.0</td>\n",
       "      <td>0.0</td>\n",
       "      <td>0.142857</td>\n",
       "      <td>0.0</td>\n",
       "      <td>0.125</td>\n",
       "      <td>0.0</td>\n",
       "      <td>0.0</td>\n",
       "      <td>0.0</td>\n",
       "      <td>0.0</td>\n",
       "      <td>0.0</td>\n",
       "      <td>0.250</td>\n",
       "      <td>0.0</td>\n",
       "      <td>0.0</td>\n",
       "      <td>0.0</td>\n",
       "      <td>0.142857</td>\n",
       "      <td>0.0</td>\n",
       "      <td>0.0</td>\n",
       "      <td>0.0</td>\n",
       "      <td>0.0</td>\n",
       "      <td>0.0</td>\n",
       "    </tr>\n",
       "    <tr>\n",
       "      <th>5824</th>\n",
       "      <td>0.950</td>\n",
       "      <td>0.0</td>\n",
       "      <td>0.50</td>\n",
       "      <td>0.4</td>\n",
       "      <td>0.888889</td>\n",
       "      <td>0.111111</td>\n",
       "      <td>0.444444</td>\n",
       "      <td>0.4</td>\n",
       "      <td>0.333333</td>\n",
       "      <td>0.555556</td>\n",
       "      <td>0.285714</td>\n",
       "      <td>0.333333</td>\n",
       "      <td>0.222222</td>\n",
       "      <td>0.333333</td>\n",
       "      <td>0.666667</td>\n",
       "      <td>0.222222</td>\n",
       "      <td>0.444444</td>\n",
       "      <td>0.444444</td>\n",
       "      <td>0.222222</td>\n",
       "      <td>0.2</td>\n",
       "      <td>0.111111</td>\n",
       "      <td>0.333333</td>\n",
       "      <td>0.222222</td>\n",
       "      <td>0.222222</td>\n",
       "      <td>0.111111</td>\n",
       "      <td>0.111111</td>\n",
       "      <td>0.555556</td>\n",
       "      <td>0.222222</td>\n",
       "      <td>0.111111</td>\n",
       "      <td>0.111111</td>\n",
       "      <td>0.888889</td>\n",
       "      <td>0.666667</td>\n",
       "      <td>0.285714</td>\n",
       "      <td>0.222222</td>\n",
       "      <td>0.666667</td>\n",
       "      <td>0.333333</td>\n",
       "      <td>0.222222</td>\n",
       "      <td>0.444444</td>\n",
       "      <td>0.333333</td>\n",
       "      <td>0.111111</td>\n",
       "      <td>...</td>\n",
       "      <td>0.0</td>\n",
       "      <td>0.750</td>\n",
       "      <td>0.0</td>\n",
       "      <td>0.000000</td>\n",
       "      <td>0.0</td>\n",
       "      <td>0.0</td>\n",
       "      <td>0.0</td>\n",
       "      <td>0.0</td>\n",
       "      <td>0.0</td>\n",
       "      <td>0.444444</td>\n",
       "      <td>0.0</td>\n",
       "      <td>0.0</td>\n",
       "      <td>0.0</td>\n",
       "      <td>0.500</td>\n",
       "      <td>0.0</td>\n",
       "      <td>0.0</td>\n",
       "      <td>0.0</td>\n",
       "      <td>0.0</td>\n",
       "      <td>0.0</td>\n",
       "      <td>0.5</td>\n",
       "      <td>0.0</td>\n",
       "      <td>0.0</td>\n",
       "      <td>0.142857</td>\n",
       "      <td>0.0</td>\n",
       "      <td>0.000</td>\n",
       "      <td>0.0</td>\n",
       "      <td>0.0</td>\n",
       "      <td>0.0</td>\n",
       "      <td>0.0</td>\n",
       "      <td>0.0</td>\n",
       "      <td>0.125</td>\n",
       "      <td>0.0</td>\n",
       "      <td>0.0</td>\n",
       "      <td>0.0</td>\n",
       "      <td>0.142857</td>\n",
       "      <td>0.0</td>\n",
       "      <td>0.0</td>\n",
       "      <td>0.0</td>\n",
       "      <td>0.0</td>\n",
       "      <td>0.0</td>\n",
       "    </tr>\n",
       "    <tr>\n",
       "      <th>5825</th>\n",
       "      <td>0.200</td>\n",
       "      <td>0.0</td>\n",
       "      <td>0.25</td>\n",
       "      <td>0.4</td>\n",
       "      <td>0.222222</td>\n",
       "      <td>0.222222</td>\n",
       "      <td>0.333333</td>\n",
       "      <td>0.4</td>\n",
       "      <td>0.444444</td>\n",
       "      <td>0.555556</td>\n",
       "      <td>0.571429</td>\n",
       "      <td>0.111111</td>\n",
       "      <td>0.222222</td>\n",
       "      <td>0.444444</td>\n",
       "      <td>0.444444</td>\n",
       "      <td>0.222222</td>\n",
       "      <td>0.444444</td>\n",
       "      <td>0.444444</td>\n",
       "      <td>0.222222</td>\n",
       "      <td>0.2</td>\n",
       "      <td>0.111111</td>\n",
       "      <td>0.555556</td>\n",
       "      <td>0.111111</td>\n",
       "      <td>0.222222</td>\n",
       "      <td>0.333333</td>\n",
       "      <td>0.111111</td>\n",
       "      <td>0.333333</td>\n",
       "      <td>0.222222</td>\n",
       "      <td>0.222222</td>\n",
       "      <td>0.333333</td>\n",
       "      <td>0.666667</td>\n",
       "      <td>0.777778</td>\n",
       "      <td>0.285714</td>\n",
       "      <td>0.111111</td>\n",
       "      <td>0.777778</td>\n",
       "      <td>0.222222</td>\n",
       "      <td>0.222222</td>\n",
       "      <td>0.555556</td>\n",
       "      <td>0.333333</td>\n",
       "      <td>0.111111</td>\n",
       "      <td>...</td>\n",
       "      <td>0.0</td>\n",
       "      <td>0.625</td>\n",
       "      <td>0.0</td>\n",
       "      <td>0.000000</td>\n",
       "      <td>0.0</td>\n",
       "      <td>0.0</td>\n",
       "      <td>0.0</td>\n",
       "      <td>0.0</td>\n",
       "      <td>0.0</td>\n",
       "      <td>0.000000</td>\n",
       "      <td>0.0</td>\n",
       "      <td>0.0</td>\n",
       "      <td>0.0</td>\n",
       "      <td>0.375</td>\n",
       "      <td>0.0</td>\n",
       "      <td>0.0</td>\n",
       "      <td>0.0</td>\n",
       "      <td>0.0</td>\n",
       "      <td>0.0</td>\n",
       "      <td>0.5</td>\n",
       "      <td>0.0</td>\n",
       "      <td>0.0</td>\n",
       "      <td>0.142857</td>\n",
       "      <td>0.0</td>\n",
       "      <td>0.000</td>\n",
       "      <td>0.0</td>\n",
       "      <td>0.0</td>\n",
       "      <td>0.0</td>\n",
       "      <td>0.0</td>\n",
       "      <td>0.0</td>\n",
       "      <td>0.000</td>\n",
       "      <td>0.0</td>\n",
       "      <td>0.0</td>\n",
       "      <td>0.0</td>\n",
       "      <td>0.142857</td>\n",
       "      <td>0.0</td>\n",
       "      <td>0.0</td>\n",
       "      <td>0.0</td>\n",
       "      <td>0.0</td>\n",
       "      <td>0.0</td>\n",
       "    </tr>\n",
       "    <tr>\n",
       "      <th>5826</th>\n",
       "      <td>0.750</td>\n",
       "      <td>0.0</td>\n",
       "      <td>0.25</td>\n",
       "      <td>0.6</td>\n",
       "      <td>0.666667</td>\n",
       "      <td>0.000000</td>\n",
       "      <td>0.222222</td>\n",
       "      <td>0.0</td>\n",
       "      <td>0.777778</td>\n",
       "      <td>1.000000</td>\n",
       "      <td>0.000000</td>\n",
       "      <td>0.000000</td>\n",
       "      <td>0.000000</td>\n",
       "      <td>0.666667</td>\n",
       "      <td>0.333333</td>\n",
       "      <td>0.000000</td>\n",
       "      <td>0.000000</td>\n",
       "      <td>1.000000</td>\n",
       "      <td>0.000000</td>\n",
       "      <td>0.0</td>\n",
       "      <td>0.000000</td>\n",
       "      <td>0.222222</td>\n",
       "      <td>0.444444</td>\n",
       "      <td>0.444444</td>\n",
       "      <td>0.000000</td>\n",
       "      <td>0.000000</td>\n",
       "      <td>0.000000</td>\n",
       "      <td>0.777778</td>\n",
       "      <td>0.222222</td>\n",
       "      <td>1.000000</td>\n",
       "      <td>0.000000</td>\n",
       "      <td>0.777778</td>\n",
       "      <td>0.285714</td>\n",
       "      <td>0.000000</td>\n",
       "      <td>1.000000</td>\n",
       "      <td>0.000000</td>\n",
       "      <td>0.555556</td>\n",
       "      <td>0.444444</td>\n",
       "      <td>0.000000</td>\n",
       "      <td>0.000000</td>\n",
       "      <td>...</td>\n",
       "      <td>0.0</td>\n",
       "      <td>0.000</td>\n",
       "      <td>0.0</td>\n",
       "      <td>0.000000</td>\n",
       "      <td>0.0</td>\n",
       "      <td>0.0</td>\n",
       "      <td>0.0</td>\n",
       "      <td>0.0</td>\n",
       "      <td>0.0</td>\n",
       "      <td>0.000000</td>\n",
       "      <td>0.0</td>\n",
       "      <td>0.0</td>\n",
       "      <td>0.0</td>\n",
       "      <td>0.125</td>\n",
       "      <td>0.0</td>\n",
       "      <td>0.0</td>\n",
       "      <td>0.0</td>\n",
       "      <td>0.0</td>\n",
       "      <td>0.0</td>\n",
       "      <td>0.5</td>\n",
       "      <td>0.0</td>\n",
       "      <td>0.0</td>\n",
       "      <td>0.000000</td>\n",
       "      <td>0.0</td>\n",
       "      <td>0.000</td>\n",
       "      <td>0.0</td>\n",
       "      <td>0.0</td>\n",
       "      <td>0.0</td>\n",
       "      <td>0.0</td>\n",
       "      <td>0.0</td>\n",
       "      <td>0.000</td>\n",
       "      <td>0.0</td>\n",
       "      <td>0.0</td>\n",
       "      <td>0.0</td>\n",
       "      <td>0.142857</td>\n",
       "      <td>0.0</td>\n",
       "      <td>0.0</td>\n",
       "      <td>0.0</td>\n",
       "      <td>0.0</td>\n",
       "      <td>0.0</td>\n",
       "    </tr>\n",
       "  </tbody>\n",
       "</table>\n",
       "<p>5 rows × 85 columns</p>\n",
       "</div>"
      ],
      "text/plain": [
       "      MOSTYPE  MAANTHUI  MGEMOMV  MGEMLEEF  ...  APLEZIER  AFIETS  AINBOED  ABYSTAND\n",
       "5822    0.800       0.0     0.75       0.2  ...       0.0     0.0      0.0       0.0\n",
       "5823    0.125       0.0     0.50       0.2  ...       0.0     0.0      0.0       0.0\n",
       "5824    0.950       0.0     0.50       0.4  ...       0.0     0.0      0.0       0.0\n",
       "5825    0.200       0.0     0.25       0.4  ...       0.0     0.0      0.0       0.0\n",
       "5826    0.750       0.0     0.25       0.6  ...       0.0     0.0      0.0       0.0\n",
       "\n",
       "[5 rows x 85 columns]"
      ]
     },
     "execution_count": 92,
     "metadata": {},
     "output_type": "execute_result"
    }
   ],
   "source": [
    "X_test.head()"
   ]
  },
  {
   "cell_type": "markdown",
   "metadata": {
    "id": "O7LXL-PHTl5h"
   },
   "source": [
    "## Decision Tree Classification"
   ]
  },
  {
   "cell_type": "code",
   "execution_count": null,
   "metadata": {
    "colab": {
     "base_uri": "https://localhost:8080/"
    },
    "id": "xzDsQhpSJUA0",
    "outputId": "d0e7c52b-35a5-43d4-f426-6b8655040705"
   },
   "outputs": [
    {
     "data": {
      "text/plain": [
       "0.93225"
      ]
     },
     "execution_count": 93,
     "metadata": {},
     "output_type": "execute_result"
    }
   ],
   "source": [
    "dt = DecisionTreeClassifier(max_depth=6)\n",
    "dt.fit(X_train,y_train)\n",
    "y_predict_dt = dt.predict(X_test)\n",
    "score_dt =np.sum(y_predict_dt ==y_test)/len(y_test)\n",
    "score_dt"
   ]
  },
  {
   "cell_type": "markdown",
   "metadata": {
    "id": "KsSiLcHdN4_v"
   },
   "source": [
    "Analysing the Data using Decision Tree Classification Model The goal of using a Decision Tree is to create a training model that can use to predict the class or value of the target variable by learning simple decision rules inferred from prior data(training data)."
   ]
  },
  {
   "cell_type": "markdown",
   "metadata": {
    "id": "Js5m4Wo7SM8O"
   },
   "source": [
    "## Target Encoder"
   ]
  },
  {
   "cell_type": "code",
   "execution_count": null,
   "metadata": {
    "id": "eUXLVTe-SJFO"
   },
   "outputs": [],
   "source": [
    "ct = ColumnTransformer([('cde',TargetEncoder(),cat_cols)],remainder =\"passthrough\")"
   ]
  },
  {
   "cell_type": "markdown",
   "metadata": {
    "id": "NOqRs3LWSXUv"
   },
   "source": [
    "Usage of Target Encoder instead of One Hot Encoder Since all the variables in this database of type categorical range from 2 to 40 unique values, we use Target Encoder in our notebook as One Hot Encoder increase the size of Database to very high extent."
   ]
  },
  {
   "cell_type": "markdown",
   "metadata": {
    "id": "6yZ98gaBR7u_"
   },
   "source": [
    "## Random Forest Classifier "
   ]
  },
  {
   "cell_type": "code",
   "execution_count": null,
   "metadata": {
    "colab": {
     "base_uri": "https://localhost:8080/"
    },
    "id": "bXkNYolnJT-D",
    "outputId": "bec37d99-67fe-4a31-84ec-d76030ff67f7"
   },
   "outputs": [
    {
     "data": {
      "text/plain": [
       "0.93275"
      ]
     },
     "execution_count": 95,
     "metadata": {},
     "output_type": "execute_result"
    }
   ],
   "source": [
    "rf= RandomForestClassifier(n_estimators =400,oob_score = True,bootstrap=True)    \n",
    "#Define Pipeline\n",
    "pipe_rf = Pipeline([('ct',ct),('rf',rf)])\n",
    "pipe_rf.fit(X_train,y_train)\n",
    "y_predict_rf = pipe_rf.predict(X_test)\n",
    "score_rf =np.sum(y_predict_rf ==y_test)/len(y_test)\n",
    "score_rf"
   ]
  },
  {
   "cell_type": "markdown",
   "metadata": {
    "id": "l1jWYuvMSfOg"
   },
   "source": [
    "###Evaluate the performance of model by Confusion Metrics-Random Forest"
   ]
  },
  {
   "cell_type": "code",
   "execution_count": null,
   "metadata": {
    "colab": {
     "base_uri": "https://localhost:8080/"
    },
    "id": "fxoQQ6UHJUFq",
    "outputId": "5289c250-618c-4676-d95a-265f20549ff3"
   },
   "outputs": [
    {
     "data": {
      "text/plain": [
       "array([[3718,   44],\n",
       "       [ 225,   13]])"
      ]
     },
     "execution_count": 96,
     "metadata": {},
     "output_type": "execute_result"
    }
   ],
   "source": [
    "from sklearn.metrics import classification_report\n",
    "from sklearn.metrics import confusion_matrix as conf_mat\n",
    "\n",
    "cf_rf =confusion_matrix(y_test,y_predict_rf)\n",
    "cf_rf"
   ]
  },
  {
   "cell_type": "markdown",
   "metadata": {
    "id": "tTDGBj3CSmn2"
   },
   "source": [
    "### Evaluate the performance of model by Classification Report-Random Forest"
   ]
  },
  {
   "cell_type": "code",
   "execution_count": null,
   "metadata": {
    "colab": {
     "base_uri": "https://localhost:8080/"
    },
    "id": "Tp5G6WC5QgPR",
    "outputId": "027a005e-b759-4d2a-b0ee-83ca8ed5ce6c"
   },
   "outputs": [
    {
     "name": "stdout",
     "output_type": "stream",
     "text": [
      "              precision    recall  f1-score   support\n",
      "\n",
      "           0       0.94      0.99      0.97      3762\n",
      "           1       0.23      0.05      0.09       238\n",
      "\n",
      "    accuracy                           0.93      4000\n",
      "   macro avg       0.59      0.52      0.53      4000\n",
      "weighted avg       0.90      0.93      0.91      4000\n",
      "\n"
     ]
    }
   ],
   "source": [
    "print(classification_report(y_test,y_predict_rf))"
   ]
  },
  {
   "cell_type": "code",
   "execution_count": null,
   "metadata": {
    "colab": {
     "base_uri": "https://localhost:8080/",
     "height": 312
    },
    "id": "IPOI22rxJUK6",
    "outputId": "adb4f136-c6c8-4a1d-ae9a-3006fb38c828"
   },
   "outputs": [
    {
     "data": {
      "text/plain": [
       "Text(0.5, 1.0, 'Predicted vs Actual')"
      ]
     },
     "execution_count": 98,
     "metadata": {},
     "output_type": "execute_result"
    },
    {
     "data": {
      "image/png": "[encoded data removed]",
      "text/plain": [
       "<Figure size 432x288 with 2 Axes>"
      ]
     },
     "metadata": {
      "needs_background": "light"
     },
     "output_type": "display_data"
    }
   ],
   "source": [
    "confusion_matrix = pd.DataFrame(confusion_matrix(y_test,y_predict_rf))\n",
    "confusion_matrix\n",
    "sns.heatmap(confusion_matrix/np.sum(confusion_matrix), annot=True, \n",
    "            fmt='.2%', cmap='Blues')\n",
    "plt.xlabel('Predicted');\n",
    "plt.ylabel('Actual');\n",
    "plt.title('Predicted vs Actual')"
   ]
  },
  {
   "cell_type": "markdown",
   "metadata": {
    "id": "xhcsqdjZ0Ryb"
   },
   "source": [
    "##KNN Classifier"
   ]
  },
  {
   "cell_type": "code",
   "execution_count": null,
   "metadata": {
    "colab": {
     "base_uri": "https://localhost:8080/"
    },
    "id": "X-9iWSr0JUSz",
    "outputId": "3c0f3aab-81ec-40f9-cdac-be7c12189fc4"
   },
   "outputs": [
    {
     "data": {
      "text/plain": [
       "0.933"
      ]
     },
     "execution_count": 101,
     "metadata": {},
     "output_type": "execute_result"
    }
   ],
   "source": [
    "knn = KNeighborsClassifier(n_neighbors = 3)\n",
    "#Define Pipeline\n",
    "pipe_knn = Pipeline([('ct',ct),('knn',knn)])\n",
    "pipe_knn.fit(X_train,y_train)\n",
    "y_predict_knn = pipe_knn.predict(X_test)\n",
    "score_knn =np.sum(y_predict_knn ==y_test)/len(y_test)\n",
    "score_knn"
   ]
  },
  {
   "cell_type": "markdown",
   "metadata": {
    "id": "LwvzsFaLEUHw"
   },
   "source": [
    "###Evaluate the performance of model by Confusion Metrics-KNN"
   ]
  },
  {
   "cell_type": "code",
   "execution_count": null,
   "metadata": {
    "colab": {
     "base_uri": "https://localhost:8080/"
    },
    "id": "UyL4HoMGJUVM",
    "outputId": "df478f5c-b83d-49ca-e57c-584d606edd48"
   },
   "outputs": [
    {
     "data": {
      "text/plain": [
       "array([[3724,   38],\n",
       "       [ 230,    8]])"
      ]
     },
     "execution_count": 102,
     "metadata": {},
     "output_type": "execute_result"
    }
   ],
   "source": [
    "cf_knn =confusion_matrix(y_test,y_predict_knn)\n",
    "cf_knn"
   ]
  },
  {
   "cell_type": "markdown",
   "metadata": {
    "id": "aFSo49FB0JIy"
   },
   "source": [
    "### Evaluate the performance of model by Classification Report-KNN"
   ]
  },
  {
   "cell_type": "code",
   "execution_count": null,
   "metadata": {
    "colab": {
     "base_uri": "https://localhost:8080/"
    },
    "id": "ZeAZnpL4o6hN",
    "outputId": "28a790b4-22bf-4c1b-c6d3-50a2d3bd52bb"
   },
   "outputs": [
    {
     "name": "stdout",
     "output_type": "stream",
     "text": [
      "              precision    recall  f1-score   support\n",
      "\n",
      "           0       0.94      0.99      0.97      3762\n",
      "           1       0.17      0.03      0.06       238\n",
      "\n",
      "    accuracy                           0.93      4000\n",
      "   macro avg       0.56      0.51      0.51      4000\n",
      "weighted avg       0.90      0.93      0.91      4000\n",
      "\n"
     ]
    }
   ],
   "source": [
    "print(classification_report(y_test,y_predict_knn))"
   ]
  },
  {
   "cell_type": "code",
   "execution_count": null,
   "metadata": {
    "colab": {
     "base_uri": "https://localhost:8080/",
     "height": 312
    },
    "id": "X5zEmA92pHnv",
    "outputId": "fda65a1e-e92f-4beb-ff58-75210f77ee0c"
   },
   "outputs": [
    {
     "data": {
      "text/plain": [
       "Text(0.5, 1.0, 'Predicted vs Actual')"
      ]
     },
     "execution_count": 104,
     "metadata": {},
     "output_type": "execute_result"
    },
    {
     "data": {
      "image/png": "[encoded data removed]",
      "text/plain": [
       "<Figure size 432x288 with 2 Axes>"
      ]
     },
     "metadata": {
      "needs_background": "light"
     },
     "output_type": "display_data"
    }
   ],
   "source": [
    "confusion_matrix = pd.DataFrame(confusion_matrix(y_test,y_predict_knn))\n",
    "confusion_matrix\n",
    "sns.heatmap(confusion_matrix/np.sum(confusion_matrix), annot=True, \n",
    "            fmt='.2%', cmap='Blues')\n",
    "plt.xlabel('Predicted');\n",
    "plt.ylabel('Actual');\n",
    "plt.title('Predicted vs Actual')"
   ]
  },
  {
   "cell_type": "code",
   "execution_count": null,
   "metadata": {
    "id": "L7cgpwBD4OCN"
   },
   "outputs": [],
   "source": []
  }
 ],
 "metadata": {
  "colab": {
   "collapsed_sections": [],
   "name": "Untitled11.ipynb",
   "provenance": []
  },
  "kernelspec": {
   "display_name": "Python 3",
   "language": "python",
   "name": "python3"
  },
  "language_info": {
   "codemirror_mode": {
    "name": "ipython",
    "version": 3
   },
   "file_extension": ".py",
   "mimetype": "text/x-python",
   "name": "python",
   "nbconvert_exporter": "python",
   "pygments_lexer": "ipython3",
   "version": "3.8.10"
  }
 },
 "nbformat": 4,
 "nbformat_minor": 1
}
